{
 "cells": [
  {
   "cell_type": "code",
   "execution_count": null,
   "metadata": {},
   "outputs": [],
   "source": [
    "import numpy as np\n",
    "import os\n",
    "import glob\n",
    "from skimage import io\n",
    "import matplotlib.pyplot as plt\n",
    "\n",
    "docker = True\n",
    "dataset_dir='../data/minidataset/' if docker else './data/Phase_fluo_Cells/0_FUCCI_Timelapse/'\n",
    "\n",
    "phase_img_folder = dataset_dir+'f0_phase_cropped/'\n",
    "fl1_img_folder = dataset_dir+'f0_fl1_cropped/'\n",
    "fl2_img_folder = dataset_dir+'f0_fl2_cropped/'\n",
    "\n",
    "\n",
    "phase_img_files = glob.glob(phase_img_folder+'*.tif')\n",
    "fl1_img_files = glob.glob(fl1_img_folder+'*.tif')\n",
    "fl2_img_files = glob.glob(fl2_img_folder+'*.tif')\n"
   ]
  }
 ],
 "metadata": {
  "kernelspec": {
   "display_name": "Python 3",
   "language": "python",
   "name": "python3"
  },
  "language_info": {
   "codemirror_mode": {
    "name": "ipython",
    "version": 3
   },
   "file_extension": ".py",
   "mimetype": "text/x-python",
   "name": "python",
   "nbconvert_exporter": "python",
   "pygments_lexer": "ipython3",
   "version": "3.6.10"
  }
 },
 "nbformat": 4,
 "nbformat_minor": 4
}
