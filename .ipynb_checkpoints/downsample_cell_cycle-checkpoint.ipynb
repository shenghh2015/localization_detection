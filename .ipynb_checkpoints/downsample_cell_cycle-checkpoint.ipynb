{
 "cells": [
  {
   "cell_type": "code",
   "execution_count": 6,
   "metadata": {},
   "outputs": [],
   "source": [
    "import numpy as np\n",
    "import os\n",
    "import glob\n",
    "from skimage import io\n",
    "import matplotlib.pyplot as plt\n",
    "from helper_function import print_yellow, print_green, print_red, generate_folder\n",
    "import scipy.ndimage as ndimage\n",
    "\n",
    "def get_ax(rows=1, cols=1, size=16):\n",
    "    \"\"\"Return a Matplotlib Axes array to be used in\n",
    "    all visualizations in the notebook. Provide a\n",
    "    central point to control graph sizes.\n",
    "    \n",
    "    Adjust the size attribute to control how big to render images\n",
    "    \"\"\"\n",
    "    fig, ax = plt.subplots(rows, cols, figsize=(size*cols, size*rows))\n",
    "    fig.tight_layout()\n",
    "    SMALL_SIZE = 24\n",
    "    MEDIUM_SIZE = 24\n",
    "    BIGGER_SIZE = 24\n",
    "\n",
    "    plt.rc('font', size=SMALL_SIZE)          # controls default text sizes\n",
    "    plt.rc('axes', titlesize=SMALL_SIZE)     # fontsize of the axes title\n",
    "    plt.rc('axes', labelsize=MEDIUM_SIZE)    # fontsize of the x and y labels\n",
    "    plt.rc('xtick', labelsize=SMALL_SIZE)    # fontsize of the tick labels\n",
    "    plt.rc('ytick', labelsize=SMALL_SIZE)    # fontsize of the tick labels\n",
    "    plt.rc('legend', fontsize=SMALL_SIZE)    # legend fontsize\n",
    "    plt.rc('figure', titlesize=BIGGER_SIZE)  # fontsize of the figure title\n",
    "    return fig, ax"
   ]
  },
  {
   "cell_type": "code",
   "execution_count": 19,
   "metadata": {},
   "outputs": [
    {
     "name": "stdout",
     "output_type": "stream",
     "text": [
      "/home/sh38/segmentation_models/phase_cells/data/cell_cycle/train_images/\n",
      "/home/sh38/segmentation_models/phase_cells/data/cell_cycle/train_masks/\n",
      "0383.png\n"
     ]
    },
    {
     "name": "stderr",
     "output_type": "stream",
     "text": [
      "/home/sh38/anaconda3/envs/proGAN_tf/lib/python3.6/site-packages/ipykernel_launcher.py:28: UserWarning: /home/sh38/segmentation_models/phase_cells/data/cell_cycle_down2/train_images/0383.png is a low contrast image\n",
      "/home/sh38/anaconda3/envs/proGAN_tf/lib/python3.6/site-packages/ipykernel_launcher.py:28: UserWarning: /home/sh38/segmentation_models/phase_cells/data/cell_cycle_down2/train_masks/0383.png is a low contrast image\n"
     ]
    },
    {
     "name": "stdout",
     "output_type": "stream",
     "text": [
      "0261.png\n"
     ]
    },
    {
     "name": "stderr",
     "output_type": "stream",
     "text": [
      "/home/sh38/anaconda3/envs/proGAN_tf/lib/python3.6/site-packages/ipykernel_launcher.py:28: UserWarning: /home/sh38/segmentation_models/phase_cells/data/cell_cycle_down2/train_masks/0261.png is a low contrast image\n",
      "/home/sh38/anaconda3/envs/proGAN_tf/lib/python3.6/site-packages/ipykernel_launcher.py:28: UserWarning: /home/sh38/segmentation_models/phase_cells/data/cell_cycle_down2/train_images/0554.png is a low contrast image\n"
     ]
    },
    {
     "name": "stdout",
     "output_type": "stream",
     "text": [
      "0554.png\n"
     ]
    },
    {
     "name": "stderr",
     "output_type": "stream",
     "text": [
      "/home/sh38/anaconda3/envs/proGAN_tf/lib/python3.6/site-packages/ipykernel_launcher.py:28: UserWarning: /home/sh38/segmentation_models/phase_cells/data/cell_cycle_down2/train_masks/0554.png is a low contrast image\n"
     ]
    },
    {
     "name": "stdout",
     "output_type": "stream",
     "text": [
      "0862.png\n"
     ]
    },
    {
     "name": "stderr",
     "output_type": "stream",
     "text": [
      "/home/sh38/anaconda3/envs/proGAN_tf/lib/python3.6/site-packages/ipykernel_launcher.py:28: UserWarning: /home/sh38/segmentation_models/phase_cells/data/cell_cycle_down2/train_masks/0862.png is a low contrast image\n"
     ]
    },
    {
     "name": "stdout",
     "output_type": "stream",
     "text": [
      "0368.png\n"
     ]
    },
    {
     "name": "stderr",
     "output_type": "stream",
     "text": [
      "/home/sh38/anaconda3/envs/proGAN_tf/lib/python3.6/site-packages/ipykernel_launcher.py:28: UserWarning: /home/sh38/segmentation_models/phase_cells/data/cell_cycle_down2/train_masks/0368.png is a low contrast image\n"
     ]
    },
    {
     "name": "stdout",
     "output_type": "stream",
     "text": [
      "0109.png\n"
     ]
    },
    {
     "name": "stderr",
     "output_type": "stream",
     "text": [
      "/home/sh38/anaconda3/envs/proGAN_tf/lib/python3.6/site-packages/ipykernel_launcher.py:28: UserWarning: /home/sh38/segmentation_models/phase_cells/data/cell_cycle_down2/train_masks/0109.png is a low contrast image\n"
     ]
    },
    {
     "name": "stdout",
     "output_type": "stream",
     "text": [
      "0810.png\n"
     ]
    },
    {
     "name": "stderr",
     "output_type": "stream",
     "text": [
      "/home/sh38/anaconda3/envs/proGAN_tf/lib/python3.6/site-packages/ipykernel_launcher.py:28: UserWarning: /home/sh38/segmentation_models/phase_cells/data/cell_cycle_down2/train_masks/0810.png is a low contrast image\n"
     ]
    },
    {
     "name": "stdout",
     "output_type": "stream",
     "text": [
      "0379.png\n"
     ]
    },
    {
     "name": "stderr",
     "output_type": "stream",
     "text": [
      "/home/sh38/anaconda3/envs/proGAN_tf/lib/python3.6/site-packages/ipykernel_launcher.py:28: UserWarning: /home/sh38/segmentation_models/phase_cells/data/cell_cycle_down2/train_masks/0379.png is a low contrast image\n"
     ]
    },
    {
     "name": "stdout",
     "output_type": "stream",
     "text": [
      "0806.png\n"
     ]
    },
    {
     "name": "stderr",
     "output_type": "stream",
     "text": [
      "/home/sh38/anaconda3/envs/proGAN_tf/lib/python3.6/site-packages/ipykernel_launcher.py:28: UserWarning: /home/sh38/segmentation_models/phase_cells/data/cell_cycle_down2/train_masks/0806.png is a low contrast image\n"
     ]
    },
    {
     "name": "stdout",
     "output_type": "stream",
     "text": [
      "0478.png\n"
     ]
    },
    {
     "name": "stderr",
     "output_type": "stream",
     "text": [
      "/home/sh38/anaconda3/envs/proGAN_tf/lib/python3.6/site-packages/ipykernel_launcher.py:28: UserWarning: /home/sh38/segmentation_models/phase_cells/data/cell_cycle_down2/train_masks/0478.png is a low contrast image\n"
     ]
    },
    {
     "name": "stdout",
     "output_type": "stream",
     "text": [
      "0633.png\n"
     ]
    },
    {
     "name": "stderr",
     "output_type": "stream",
     "text": [
      "/home/sh38/anaconda3/envs/proGAN_tf/lib/python3.6/site-packages/ipykernel_launcher.py:28: UserWarning: /home/sh38/segmentation_models/phase_cells/data/cell_cycle_down2/train_masks/0633.png is a low contrast image\n"
     ]
    },
    {
     "name": "stdout",
     "output_type": "stream",
     "text": [
      "0461.png\n"
     ]
    },
    {
     "name": "stderr",
     "output_type": "stream",
     "text": [
      "/home/sh38/anaconda3/envs/proGAN_tf/lib/python3.6/site-packages/ipykernel_launcher.py:28: UserWarning: /home/sh38/segmentation_models/phase_cells/data/cell_cycle_down2/train_masks/0461.png is a low contrast image\n"
     ]
    },
    {
     "name": "stdout",
     "output_type": "stream",
     "text": [
      "0578.png\n"
     ]
    },
    {
     "name": "stderr",
     "output_type": "stream",
     "text": [
      "/home/sh38/anaconda3/envs/proGAN_tf/lib/python3.6/site-packages/ipykernel_launcher.py:28: UserWarning: /home/sh38/segmentation_models/phase_cells/data/cell_cycle_down2/train_masks/0578.png is a low contrast image\n"
     ]
    },
    {
     "name": "stdout",
     "output_type": "stream",
     "text": [
      "0216.png\n"
     ]
    },
    {
     "name": "stderr",
     "output_type": "stream",
     "text": [
      "/home/sh38/anaconda3/envs/proGAN_tf/lib/python3.6/site-packages/ipykernel_launcher.py:28: UserWarning: /home/sh38/segmentation_models/phase_cells/data/cell_cycle_down2/train_masks/0216.png is a low contrast image\n"
     ]
    },
    {
     "name": "stdout",
     "output_type": "stream",
     "text": [
      "0665.png\n"
     ]
    },
    {
     "name": "stderr",
     "output_type": "stream",
     "text": [
      "/home/sh38/anaconda3/envs/proGAN_tf/lib/python3.6/site-packages/ipykernel_launcher.py:28: UserWarning: /home/sh38/segmentation_models/phase_cells/data/cell_cycle_down2/train_masks/0665.png is a low contrast image\n"
     ]
    },
    {
     "name": "stdout",
     "output_type": "stream",
     "text": [
      "0433.png\n"
     ]
    },
    {
     "name": "stderr",
     "output_type": "stream",
     "text": [
      "/home/sh38/anaconda3/envs/proGAN_tf/lib/python3.6/site-packages/ipykernel_launcher.py:28: UserWarning: /home/sh38/segmentation_models/phase_cells/data/cell_cycle_down2/train_masks/0433.png is a low contrast image\n"
     ]
    },
    {
     "name": "stdout",
     "output_type": "stream",
     "text": [
      "0736.png\n"
     ]
    },
    {
     "name": "stderr",
     "output_type": "stream",
     "text": [
      "/home/sh38/anaconda3/envs/proGAN_tf/lib/python3.6/site-packages/ipykernel_launcher.py:28: UserWarning: /home/sh38/segmentation_models/phase_cells/data/cell_cycle_down2/train_masks/0736.png is a low contrast image\n"
     ]
    },
    {
     "name": "stdout",
     "output_type": "stream",
     "text": [
      "0731.png\n"
     ]
    },
    {
     "name": "stderr",
     "output_type": "stream",
     "text": [
      "/home/sh38/anaconda3/envs/proGAN_tf/lib/python3.6/site-packages/ipykernel_launcher.py:28: UserWarning: /home/sh38/segmentation_models/phase_cells/data/cell_cycle_down2/train_masks/0731.png is a low contrast image\n"
     ]
    },
    {
     "name": "stdout",
     "output_type": "stream",
     "text": [
      "0621.png\n"
     ]
    },
    {
     "name": "stderr",
     "output_type": "stream",
     "text": [
      "/home/sh38/anaconda3/envs/proGAN_tf/lib/python3.6/site-packages/ipykernel_launcher.py:28: UserWarning: /home/sh38/segmentation_models/phase_cells/data/cell_cycle_down2/train_masks/0621.png is a low contrast image\n"
     ]
    },
    {
     "name": "stdout",
     "output_type": "stream",
     "text": [
      "0526.png\n"
     ]
    },
    {
     "name": "stderr",
     "output_type": "stream",
     "text": [
      "/home/sh38/anaconda3/envs/proGAN_tf/lib/python3.6/site-packages/ipykernel_launcher.py:28: UserWarning: /home/sh38/segmentation_models/phase_cells/data/cell_cycle_down2/train_masks/0526.png is a low contrast image\n"
     ]
    },
    {
     "name": "stdout",
     "output_type": "stream",
     "text": [
      "0279.png\n"
     ]
    },
    {
     "name": "stderr",
     "output_type": "stream",
     "text": [
      "/home/sh38/anaconda3/envs/proGAN_tf/lib/python3.6/site-packages/ipykernel_launcher.py:28: UserWarning: /home/sh38/segmentation_models/phase_cells/data/cell_cycle_down2/train_masks/0279.png is a low contrast image\n",
      "/home/sh38/anaconda3/envs/proGAN_tf/lib/python3.6/site-packages/ipykernel_launcher.py:28: UserWarning: /home/sh38/segmentation_models/phase_cells/data/cell_cycle_down2/train_images/0845.png is a low contrast image\n"
     ]
    },
    {
     "name": "stdout",
     "output_type": "stream",
     "text": [
      "0845.png\n"
     ]
    },
    {
     "name": "stderr",
     "output_type": "stream",
     "text": [
      "/home/sh38/anaconda3/envs/proGAN_tf/lib/python3.6/site-packages/ipykernel_launcher.py:28: UserWarning: /home/sh38/segmentation_models/phase_cells/data/cell_cycle_down2/train_masks/0845.png is a low contrast image\n"
     ]
    },
    {
     "name": "stdout",
     "output_type": "stream",
     "text": [
      "0376.png\n"
     ]
    },
    {
     "name": "stderr",
     "output_type": "stream",
     "text": [
      "/home/sh38/anaconda3/envs/proGAN_tf/lib/python3.6/site-packages/ipykernel_launcher.py:28: UserWarning: /home/sh38/segmentation_models/phase_cells/data/cell_cycle_down2/train_masks/0376.png is a low contrast image\n"
     ]
    },
    {
     "name": "stdout",
     "output_type": "stream",
     "text": [
      "0682.png\n"
     ]
    },
    {
     "name": "stderr",
     "output_type": "stream",
     "text": [
      "/home/sh38/anaconda3/envs/proGAN_tf/lib/python3.6/site-packages/ipykernel_launcher.py:28: UserWarning: /home/sh38/segmentation_models/phase_cells/data/cell_cycle_down2/train_masks/0682.png is a low contrast image\n"
     ]
    },
    {
     "name": "stdout",
     "output_type": "stream",
     "text": [
      "0014.png\n"
     ]
    },
    {
     "name": "stderr",
     "output_type": "stream",
     "text": [
      "/home/sh38/anaconda3/envs/proGAN_tf/lib/python3.6/site-packages/ipykernel_launcher.py:28: UserWarning: /home/sh38/segmentation_models/phase_cells/data/cell_cycle_down2/train_masks/0014.png is a low contrast image\n"
     ]
    },
    {
     "name": "stdout",
     "output_type": "stream",
     "text": [
      "0451.png\n"
     ]
    },
    {
     "name": "stderr",
     "output_type": "stream",
     "text": [
      "/home/sh38/anaconda3/envs/proGAN_tf/lib/python3.6/site-packages/ipykernel_launcher.py:28: UserWarning: /home/sh38/segmentation_models/phase_cells/data/cell_cycle_down2/train_masks/0451.png is a low contrast image\n"
     ]
    },
    {
     "name": "stdout",
     "output_type": "stream",
     "text": [
      "0256.png\n"
     ]
    },
    {
     "name": "stderr",
     "output_type": "stream",
     "text": [
      "/home/sh38/anaconda3/envs/proGAN_tf/lib/python3.6/site-packages/ipykernel_launcher.py:28: UserWarning: /home/sh38/segmentation_models/phase_cells/data/cell_cycle_down2/train_masks/0256.png is a low contrast image\n"
     ]
    },
    {
     "name": "stdout",
     "output_type": "stream",
     "text": [
      "0173.png\n"
     ]
    },
    {
     "name": "stderr",
     "output_type": "stream",
     "text": [
      "/home/sh38/anaconda3/envs/proGAN_tf/lib/python3.6/site-packages/ipykernel_launcher.py:28: UserWarning: /home/sh38/segmentation_models/phase_cells/data/cell_cycle_down2/train_masks/0173.png is a low contrast image\n"
     ]
    },
    {
     "name": "stdout",
     "output_type": "stream",
     "text": [
      "0762.png\n"
     ]
    },
    {
     "name": "stderr",
     "output_type": "stream",
     "text": [
      "/home/sh38/anaconda3/envs/proGAN_tf/lib/python3.6/site-packages/ipykernel_launcher.py:28: UserWarning: /home/sh38/segmentation_models/phase_cells/data/cell_cycle_down2/train_masks/0762.png is a low contrast image\n"
     ]
    },
    {
     "name": "stdout",
     "output_type": "stream",
     "text": [
      "0637.png\n"
     ]
    },
    {
     "name": "stderr",
     "output_type": "stream",
     "text": [
      "/home/sh38/anaconda3/envs/proGAN_tf/lib/python3.6/site-packages/ipykernel_launcher.py:28: UserWarning: /home/sh38/segmentation_models/phase_cells/data/cell_cycle_down2/train_masks/0637.png is a low contrast image\n"
     ]
    },
    {
     "name": "stdout",
     "output_type": "stream",
     "text": [
      "0456.png\n"
     ]
    },
    {
     "name": "stderr",
     "output_type": "stream",
     "text": [
      "/home/sh38/anaconda3/envs/proGAN_tf/lib/python3.6/site-packages/ipykernel_launcher.py:28: UserWarning: /home/sh38/segmentation_models/phase_cells/data/cell_cycle_down2/train_masks/0456.png is a low contrast image\n"
     ]
    },
    {
     "name": "stdout",
     "output_type": "stream",
     "text": [
      "0466.png\n"
     ]
    },
    {
     "name": "stderr",
     "output_type": "stream",
     "text": [
      "/home/sh38/anaconda3/envs/proGAN_tf/lib/python3.6/site-packages/ipykernel_launcher.py:28: UserWarning: /home/sh38/segmentation_models/phase_cells/data/cell_cycle_down2/train_masks/0466.png is a low contrast image\n"
     ]
    },
    {
     "name": "stdout",
     "output_type": "stream",
     "text": [
      "0099.png\n"
     ]
    },
    {
     "name": "stderr",
     "output_type": "stream",
     "text": [
      "/home/sh38/anaconda3/envs/proGAN_tf/lib/python3.6/site-packages/ipykernel_launcher.py:28: UserWarning: /home/sh38/segmentation_models/phase_cells/data/cell_cycle_down2/train_masks/0099.png is a low contrast image\n"
     ]
    },
    {
     "name": "stdout",
     "output_type": "stream",
     "text": [
      "0592.png\n"
     ]
    },
    {
     "name": "stderr",
     "output_type": "stream",
     "text": [
      "/home/sh38/anaconda3/envs/proGAN_tf/lib/python3.6/site-packages/ipykernel_launcher.py:28: UserWarning: /home/sh38/segmentation_models/phase_cells/data/cell_cycle_down2/train_masks/0592.png is a low contrast image\n"
     ]
    },
    {
     "name": "stdout",
     "output_type": "stream",
     "text": [
      "0425.png\n"
     ]
    },
    {
     "name": "stderr",
     "output_type": "stream",
     "text": [
      "/home/sh38/anaconda3/envs/proGAN_tf/lib/python3.6/site-packages/ipykernel_launcher.py:28: UserWarning: /home/sh38/segmentation_models/phase_cells/data/cell_cycle_down2/train_masks/0425.png is a low contrast image\n"
     ]
    },
    {
     "name": "stdout",
     "output_type": "stream",
     "text": [
      "0006.png\n"
     ]
    },
    {
     "name": "stderr",
     "output_type": "stream",
     "text": [
      "/home/sh38/anaconda3/envs/proGAN_tf/lib/python3.6/site-packages/ipykernel_launcher.py:28: UserWarning: /home/sh38/segmentation_models/phase_cells/data/cell_cycle_down2/train_masks/0006.png is a low contrast image\n",
      "/home/sh38/anaconda3/envs/proGAN_tf/lib/python3.6/site-packages/ipykernel_launcher.py:28: UserWarning: /home/sh38/segmentation_models/phase_cells/data/cell_cycle_down2/train_images/0530.png is a low contrast image\n"
     ]
    },
    {
     "name": "stdout",
     "output_type": "stream",
     "text": [
      "0530.png\n"
     ]
    },
    {
     "name": "stderr",
     "output_type": "stream",
     "text": [
      "/home/sh38/anaconda3/envs/proGAN_tf/lib/python3.6/site-packages/ipykernel_launcher.py:28: UserWarning: /home/sh38/segmentation_models/phase_cells/data/cell_cycle_down2/train_masks/0530.png is a low contrast image\n",
      "/home/sh38/anaconda3/envs/proGAN_tf/lib/python3.6/site-packages/ipykernel_launcher.py:28: UserWarning: /home/sh38/segmentation_models/phase_cells/data/cell_cycle_down2/train_images/0081.png is a low contrast image\n"
     ]
    },
    {
     "name": "stdout",
     "output_type": "stream",
     "text": [
      "0081.png\n"
     ]
    },
    {
     "name": "stderr",
     "output_type": "stream",
     "text": [
      "/home/sh38/anaconda3/envs/proGAN_tf/lib/python3.6/site-packages/ipykernel_launcher.py:28: UserWarning: /home/sh38/segmentation_models/phase_cells/data/cell_cycle_down2/train_masks/0081.png is a low contrast image\n"
     ]
    },
    {
     "name": "stdout",
     "output_type": "stream",
     "text": [
      "0524.png\n"
     ]
    },
    {
     "name": "stderr",
     "output_type": "stream",
     "text": [
      "/home/sh38/anaconda3/envs/proGAN_tf/lib/python3.6/site-packages/ipykernel_launcher.py:28: UserWarning: /home/sh38/segmentation_models/phase_cells/data/cell_cycle_down2/train_masks/0524.png is a low contrast image\n"
     ]
    },
    {
     "name": "stdout",
     "output_type": "stream",
     "text": [
      "0070.png\n"
     ]
    },
    {
     "name": "stderr",
     "output_type": "stream",
     "text": [
      "/home/sh38/anaconda3/envs/proGAN_tf/lib/python3.6/site-packages/ipykernel_launcher.py:28: UserWarning: /home/sh38/segmentation_models/phase_cells/data/cell_cycle_down2/train_masks/0070.png is a low contrast image\n"
     ]
    },
    {
     "name": "stdout",
     "output_type": "stream",
     "text": [
      "0007.png\n"
     ]
    },
    {
     "name": "stderr",
     "output_type": "stream",
     "text": [
      "/home/sh38/anaconda3/envs/proGAN_tf/lib/python3.6/site-packages/ipykernel_launcher.py:28: UserWarning: /home/sh38/segmentation_models/phase_cells/data/cell_cycle_down2/train_masks/0007.png is a low contrast image\n"
     ]
    },
    {
     "name": "stdout",
     "output_type": "stream",
     "text": [
      "0406.png\n"
     ]
    },
    {
     "name": "stderr",
     "output_type": "stream",
     "text": [
      "/home/sh38/anaconda3/envs/proGAN_tf/lib/python3.6/site-packages/ipykernel_launcher.py:28: UserWarning: /home/sh38/segmentation_models/phase_cells/data/cell_cycle_down2/train_masks/0406.png is a low contrast image\n"
     ]
    },
    {
     "name": "stdout",
     "output_type": "stream",
     "text": [
      "0266.png\n"
     ]
    },
    {
     "name": "stderr",
     "output_type": "stream",
     "text": [
      "/home/sh38/anaconda3/envs/proGAN_tf/lib/python3.6/site-packages/ipykernel_launcher.py:28: UserWarning: /home/sh38/segmentation_models/phase_cells/data/cell_cycle_down2/train_masks/0266.png is a low contrast image\n"
     ]
    },
    {
     "name": "stdout",
     "output_type": "stream",
     "text": [
      "0224.png\n"
     ]
    },
    {
     "name": "stderr",
     "output_type": "stream",
     "text": [
      "/home/sh38/anaconda3/envs/proGAN_tf/lib/python3.6/site-packages/ipykernel_launcher.py:28: UserWarning: /home/sh38/segmentation_models/phase_cells/data/cell_cycle_down2/train_masks/0224.png is a low contrast image\n"
     ]
    },
    {
     "name": "stdout",
     "output_type": "stream",
     "text": [
      "0699.png\n"
     ]
    },
    {
     "name": "stderr",
     "output_type": "stream",
     "text": [
      "/home/sh38/anaconda3/envs/proGAN_tf/lib/python3.6/site-packages/ipykernel_launcher.py:28: UserWarning: /home/sh38/segmentation_models/phase_cells/data/cell_cycle_down2/train_masks/0699.png is a low contrast image\n"
     ]
    },
    {
     "name": "stdout",
     "output_type": "stream",
     "text": [
      "0049.png\n"
     ]
    },
    {
     "name": "stderr",
     "output_type": "stream",
     "text": [
      "/home/sh38/anaconda3/envs/proGAN_tf/lib/python3.6/site-packages/ipykernel_launcher.py:28: UserWarning: /home/sh38/segmentation_models/phase_cells/data/cell_cycle_down2/train_masks/0049.png is a low contrast image\n",
      "/home/sh38/anaconda3/envs/proGAN_tf/lib/python3.6/site-packages/ipykernel_launcher.py:28: UserWarning: /home/sh38/segmentation_models/phase_cells/data/cell_cycle_down2/train_images/0201.png is a low contrast image\n"
     ]
    },
    {
     "name": "stdout",
     "output_type": "stream",
     "text": [
      "0201.png\n"
     ]
    },
    {
     "name": "stderr",
     "output_type": "stream",
     "text": [
      "/home/sh38/anaconda3/envs/proGAN_tf/lib/python3.6/site-packages/ipykernel_launcher.py:28: UserWarning: /home/sh38/segmentation_models/phase_cells/data/cell_cycle_down2/train_masks/0201.png is a low contrast image\n"
     ]
    },
    {
     "name": "stdout",
     "output_type": "stream",
     "text": [
      "0167.png\n"
     ]
    },
    {
     "name": "stderr",
     "output_type": "stream",
     "text": [
      "/home/sh38/anaconda3/envs/proGAN_tf/lib/python3.6/site-packages/ipykernel_launcher.py:28: UserWarning: /home/sh38/segmentation_models/phase_cells/data/cell_cycle_down2/train_masks/0167.png is a low contrast image\n"
     ]
    },
    {
     "name": "stdout",
     "output_type": "stream",
     "text": [
      "0162.png\n"
     ]
    },
    {
     "name": "stderr",
     "output_type": "stream",
     "text": [
      "/home/sh38/anaconda3/envs/proGAN_tf/lib/python3.6/site-packages/ipykernel_launcher.py:28: UserWarning: /home/sh38/segmentation_models/phase_cells/data/cell_cycle_down2/train_masks/0162.png is a low contrast image\n",
      "/home/sh38/anaconda3/envs/proGAN_tf/lib/python3.6/site-packages/ipykernel_launcher.py:28: UserWarning: /home/sh38/segmentation_models/phase_cells/data/cell_cycle_down2/train_images/0718.png is a low contrast image\n"
     ]
    },
    {
     "name": "stdout",
     "output_type": "stream",
     "text": [
      "0718.png\n"
     ]
    },
    {
     "name": "stderr",
     "output_type": "stream",
     "text": [
      "/home/sh38/anaconda3/envs/proGAN_tf/lib/python3.6/site-packages/ipykernel_launcher.py:28: UserWarning: /home/sh38/segmentation_models/phase_cells/data/cell_cycle_down2/train_masks/0718.png is a low contrast image\n"
     ]
    },
    {
     "name": "stdout",
     "output_type": "stream",
     "text": [
      "0111.png\n"
     ]
    },
    {
     "name": "stderr",
     "output_type": "stream",
     "text": [
      "/home/sh38/anaconda3/envs/proGAN_tf/lib/python3.6/site-packages/ipykernel_launcher.py:28: UserWarning: /home/sh38/segmentation_models/phase_cells/data/cell_cycle_down2/train_masks/0111.png is a low contrast image\n"
     ]
    },
    {
     "name": "stdout",
     "output_type": "stream",
     "text": [
      "0455.png\n"
     ]
    },
    {
     "name": "stderr",
     "output_type": "stream",
     "text": [
      "/home/sh38/anaconda3/envs/proGAN_tf/lib/python3.6/site-packages/ipykernel_launcher.py:28: UserWarning: /home/sh38/segmentation_models/phase_cells/data/cell_cycle_down2/train_masks/0455.png is a low contrast image\n"
     ]
    },
    {
     "name": "stdout",
     "output_type": "stream",
     "text": [
      "0146.png\n"
     ]
    },
    {
     "name": "stderr",
     "output_type": "stream",
     "text": [
      "/home/sh38/anaconda3/envs/proGAN_tf/lib/python3.6/site-packages/ipykernel_launcher.py:28: UserWarning: /home/sh38/segmentation_models/phase_cells/data/cell_cycle_down2/train_masks/0146.png is a low contrast image\n"
     ]
    },
    {
     "name": "stdout",
     "output_type": "stream",
     "text": [
      "0013.png\n"
     ]
    },
    {
     "name": "stderr",
     "output_type": "stream",
     "text": [
      "/home/sh38/anaconda3/envs/proGAN_tf/lib/python3.6/site-packages/ipykernel_launcher.py:28: UserWarning: /home/sh38/segmentation_models/phase_cells/data/cell_cycle_down2/train_masks/0013.png is a low contrast image\n"
     ]
    },
    {
     "name": "stdout",
     "output_type": "stream",
     "text": [
      "0108.png\n"
     ]
    },
    {
     "name": "stderr",
     "output_type": "stream",
     "text": [
      "/home/sh38/anaconda3/envs/proGAN_tf/lib/python3.6/site-packages/ipykernel_launcher.py:28: UserWarning: /home/sh38/segmentation_models/phase_cells/data/cell_cycle_down2/train_masks/0108.png is a low contrast image\n"
     ]
    },
    {
     "name": "stdout",
     "output_type": "stream",
     "text": [
      "0605.png\n"
     ]
    },
    {
     "name": "stderr",
     "output_type": "stream",
     "text": [
      "/home/sh38/anaconda3/envs/proGAN_tf/lib/python3.6/site-packages/ipykernel_launcher.py:28: UserWarning: /home/sh38/segmentation_models/phase_cells/data/cell_cycle_down2/train_masks/0605.png is a low contrast image\n"
     ]
    },
    {
     "name": "stdout",
     "output_type": "stream",
     "text": [
      "0020.png\n"
     ]
    },
    {
     "name": "stderr",
     "output_type": "stream",
     "text": [
      "/home/sh38/anaconda3/envs/proGAN_tf/lib/python3.6/site-packages/ipykernel_launcher.py:28: UserWarning: /home/sh38/segmentation_models/phase_cells/data/cell_cycle_down2/train_masks/0020.png is a low contrast image\n"
     ]
    },
    {
     "name": "stdout",
     "output_type": "stream",
     "text": [
      "0327.png\n"
     ]
    },
    {
     "name": "stderr",
     "output_type": "stream",
     "text": [
      "/home/sh38/anaconda3/envs/proGAN_tf/lib/python3.6/site-packages/ipykernel_launcher.py:28: UserWarning: /home/sh38/segmentation_models/phase_cells/data/cell_cycle_down2/train_masks/0327.png is a low contrast image\n"
     ]
    },
    {
     "name": "stdout",
     "output_type": "stream",
     "text": [
      "0849.png\n"
     ]
    },
    {
     "name": "stderr",
     "output_type": "stream",
     "text": [
      "/home/sh38/anaconda3/envs/proGAN_tf/lib/python3.6/site-packages/ipykernel_launcher.py:28: UserWarning: /home/sh38/segmentation_models/phase_cells/data/cell_cycle_down2/train_masks/0849.png is a low contrast image\n"
     ]
    },
    {
     "name": "stdout",
     "output_type": "stream",
     "text": [
      "0872.png\n"
     ]
    },
    {
     "name": "stderr",
     "output_type": "stream",
     "text": [
      "/home/sh38/anaconda3/envs/proGAN_tf/lib/python3.6/site-packages/ipykernel_launcher.py:28: UserWarning: /home/sh38/segmentation_models/phase_cells/data/cell_cycle_down2/train_masks/0872.png is a low contrast image\n"
     ]
    },
    {
     "name": "stdout",
     "output_type": "stream",
     "text": [
      "0168.png\n"
     ]
    },
    {
     "name": "stderr",
     "output_type": "stream",
     "text": [
      "/home/sh38/anaconda3/envs/proGAN_tf/lib/python3.6/site-packages/ipykernel_launcher.py:28: UserWarning: /home/sh38/segmentation_models/phase_cells/data/cell_cycle_down2/train_masks/0168.png is a low contrast image\n"
     ]
    },
    {
     "name": "stdout",
     "output_type": "stream",
     "text": [
      "0550.png\n"
     ]
    },
    {
     "name": "stderr",
     "output_type": "stream",
     "text": [
      "/home/sh38/anaconda3/envs/proGAN_tf/lib/python3.6/site-packages/ipykernel_launcher.py:28: UserWarning: /home/sh38/segmentation_models/phase_cells/data/cell_cycle_down2/train_masks/0550.png is a low contrast image\n"
     ]
    },
    {
     "name": "stdout",
     "output_type": "stream",
     "text": [
      "0474.png\n"
     ]
    },
    {
     "name": "stderr",
     "output_type": "stream",
     "text": [
      "/home/sh38/anaconda3/envs/proGAN_tf/lib/python3.6/site-packages/ipykernel_launcher.py:28: UserWarning: /home/sh38/segmentation_models/phase_cells/data/cell_cycle_down2/train_masks/0474.png is a low contrast image\n"
     ]
    },
    {
     "name": "stdout",
     "output_type": "stream",
     "text": [
      "0282.png\n"
     ]
    },
    {
     "name": "stderr",
     "output_type": "stream",
     "text": [
      "/home/sh38/anaconda3/envs/proGAN_tf/lib/python3.6/site-packages/ipykernel_launcher.py:28: UserWarning: /home/sh38/segmentation_models/phase_cells/data/cell_cycle_down2/train_masks/0282.png is a low contrast image\n"
     ]
    },
    {
     "name": "stdout",
     "output_type": "stream",
     "text": [
      "0128.png\n"
     ]
    },
    {
     "name": "stderr",
     "output_type": "stream",
     "text": [
      "/home/sh38/anaconda3/envs/proGAN_tf/lib/python3.6/site-packages/ipykernel_launcher.py:28: UserWarning: /home/sh38/segmentation_models/phase_cells/data/cell_cycle_down2/train_masks/0128.png is a low contrast image\n"
     ]
    },
    {
     "name": "stdout",
     "output_type": "stream",
     "text": [
      "0545.png\n"
     ]
    },
    {
     "name": "stderr",
     "output_type": "stream",
     "text": [
      "/home/sh38/anaconda3/envs/proGAN_tf/lib/python3.6/site-packages/ipykernel_launcher.py:28: UserWarning: /home/sh38/segmentation_models/phase_cells/data/cell_cycle_down2/train_masks/0545.png is a low contrast image\n"
     ]
    },
    {
     "name": "stdout",
     "output_type": "stream",
     "text": [
      "0431.png\n"
     ]
    },
    {
     "name": "stderr",
     "output_type": "stream",
     "text": [
      "/home/sh38/anaconda3/envs/proGAN_tf/lib/python3.6/site-packages/ipykernel_launcher.py:28: UserWarning: /home/sh38/segmentation_models/phase_cells/data/cell_cycle_down2/train_masks/0431.png is a low contrast image\n"
     ]
    },
    {
     "name": "stdout",
     "output_type": "stream",
     "text": [
      "0540.png\n"
     ]
    },
    {
     "name": "stderr",
     "output_type": "stream",
     "text": [
      "/home/sh38/anaconda3/envs/proGAN_tf/lib/python3.6/site-packages/ipykernel_launcher.py:28: UserWarning: /home/sh38/segmentation_models/phase_cells/data/cell_cycle_down2/train_masks/0540.png is a low contrast image\n"
     ]
    },
    {
     "name": "stdout",
     "output_type": "stream",
     "text": [
      "0603.png\n"
     ]
    },
    {
     "name": "stderr",
     "output_type": "stream",
     "text": [
      "/home/sh38/anaconda3/envs/proGAN_tf/lib/python3.6/site-packages/ipykernel_launcher.py:28: UserWarning: /home/sh38/segmentation_models/phase_cells/data/cell_cycle_down2/train_masks/0603.png is a low contrast image\n",
      "/home/sh38/anaconda3/envs/proGAN_tf/lib/python3.6/site-packages/ipykernel_launcher.py:28: UserWarning: /home/sh38/segmentation_models/phase_cells/data/cell_cycle_down2/train_images/0326.png is a low contrast image\n"
     ]
    },
    {
     "name": "stdout",
     "output_type": "stream",
     "text": [
      "0326.png\n"
     ]
    },
    {
     "name": "stderr",
     "output_type": "stream",
     "text": [
      "/home/sh38/anaconda3/envs/proGAN_tf/lib/python3.6/site-packages/ipykernel_launcher.py:28: UserWarning: /home/sh38/segmentation_models/phase_cells/data/cell_cycle_down2/train_masks/0326.png is a low contrast image\n"
     ]
    },
    {
     "name": "stdout",
     "output_type": "stream",
     "text": [
      "0169.png\n"
     ]
    },
    {
     "name": "stderr",
     "output_type": "stream",
     "text": [
      "/home/sh38/anaconda3/envs/proGAN_tf/lib/python3.6/site-packages/ipykernel_launcher.py:28: UserWarning: /home/sh38/segmentation_models/phase_cells/data/cell_cycle_down2/train_masks/0169.png is a low contrast image\n"
     ]
    },
    {
     "name": "stdout",
     "output_type": "stream",
     "text": [
      "0664.png\n"
     ]
    },
    {
     "name": "stderr",
     "output_type": "stream",
     "text": [
      "/home/sh38/anaconda3/envs/proGAN_tf/lib/python3.6/site-packages/ipykernel_launcher.py:28: UserWarning: /home/sh38/segmentation_models/phase_cells/data/cell_cycle_down2/train_masks/0664.png is a low contrast image\n"
     ]
    },
    {
     "name": "stdout",
     "output_type": "stream",
     "text": [
      "0501.png\n"
     ]
    },
    {
     "name": "stderr",
     "output_type": "stream",
     "text": [
      "/home/sh38/anaconda3/envs/proGAN_tf/lib/python3.6/site-packages/ipykernel_launcher.py:28: UserWarning: /home/sh38/segmentation_models/phase_cells/data/cell_cycle_down2/train_masks/0501.png is a low contrast image\n"
     ]
    },
    {
     "name": "stdout",
     "output_type": "stream",
     "text": [
      "0078.png\n"
     ]
    },
    {
     "name": "stderr",
     "output_type": "stream",
     "text": [
      "/home/sh38/anaconda3/envs/proGAN_tf/lib/python3.6/site-packages/ipykernel_launcher.py:28: UserWarning: /home/sh38/segmentation_models/phase_cells/data/cell_cycle_down2/train_masks/0078.png is a low contrast image\n"
     ]
    },
    {
     "name": "stdout",
     "output_type": "stream",
     "text": [
      "0361.png\n"
     ]
    },
    {
     "name": "stderr",
     "output_type": "stream",
     "text": [
      "/home/sh38/anaconda3/envs/proGAN_tf/lib/python3.6/site-packages/ipykernel_launcher.py:28: UserWarning: /home/sh38/segmentation_models/phase_cells/data/cell_cycle_down2/train_masks/0361.png is a low contrast image\n"
     ]
    },
    {
     "name": "stdout",
     "output_type": "stream",
     "text": [
      "0853.png\n"
     ]
    },
    {
     "name": "stderr",
     "output_type": "stream",
     "text": [
      "/home/sh38/anaconda3/envs/proGAN_tf/lib/python3.6/site-packages/ipykernel_launcher.py:28: UserWarning: /home/sh38/segmentation_models/phase_cells/data/cell_cycle_down2/train_masks/0853.png is a low contrast image\n"
     ]
    },
    {
     "name": "stdout",
     "output_type": "stream",
     "text": [
      "0342.png\n"
     ]
    },
    {
     "name": "stderr",
     "output_type": "stream",
     "text": [
      "/home/sh38/anaconda3/envs/proGAN_tf/lib/python3.6/site-packages/ipykernel_launcher.py:28: UserWarning: /home/sh38/segmentation_models/phase_cells/data/cell_cycle_down2/train_masks/0342.png is a low contrast image\n"
     ]
    },
    {
     "name": "stdout",
     "output_type": "stream",
     "text": [
      "0357.png\n"
     ]
    },
    {
     "name": "stderr",
     "output_type": "stream",
     "text": [
      "/home/sh38/anaconda3/envs/proGAN_tf/lib/python3.6/site-packages/ipykernel_launcher.py:28: UserWarning: /home/sh38/segmentation_models/phase_cells/data/cell_cycle_down2/train_masks/0357.png is a low contrast image\n"
     ]
    },
    {
     "name": "stdout",
     "output_type": "stream",
     "text": [
      "0292.png\n"
     ]
    },
    {
     "name": "stderr",
     "output_type": "stream",
     "text": [
      "/home/sh38/anaconda3/envs/proGAN_tf/lib/python3.6/site-packages/ipykernel_launcher.py:28: UserWarning: /home/sh38/segmentation_models/phase_cells/data/cell_cycle_down2/train_masks/0292.png is a low contrast image\n"
     ]
    },
    {
     "name": "stdout",
     "output_type": "stream",
     "text": [
      "0840.png\n"
     ]
    },
    {
     "name": "stderr",
     "output_type": "stream",
     "text": [
      "/home/sh38/anaconda3/envs/proGAN_tf/lib/python3.6/site-packages/ipykernel_launcher.py:28: UserWarning: /home/sh38/segmentation_models/phase_cells/data/cell_cycle_down2/train_masks/0840.png is a low contrast image\n"
     ]
    },
    {
     "name": "stdout",
     "output_type": "stream",
     "text": [
      "0594.png\n"
     ]
    },
    {
     "name": "stderr",
     "output_type": "stream",
     "text": [
      "/home/sh38/anaconda3/envs/proGAN_tf/lib/python3.6/site-packages/ipykernel_launcher.py:28: UserWarning: /home/sh38/segmentation_models/phase_cells/data/cell_cycle_down2/train_masks/0594.png is a low contrast image\n"
     ]
    },
    {
     "name": "stdout",
     "output_type": "stream",
     "text": [
      "0382.png\n"
     ]
    },
    {
     "name": "stderr",
     "output_type": "stream",
     "text": [
      "/home/sh38/anaconda3/envs/proGAN_tf/lib/python3.6/site-packages/ipykernel_launcher.py:28: UserWarning: /home/sh38/segmentation_models/phase_cells/data/cell_cycle_down2/train_masks/0382.png is a low contrast image\n"
     ]
    },
    {
     "name": "stdout",
     "output_type": "stream",
     "text": [
      "0165.png\n"
     ]
    },
    {
     "name": "stderr",
     "output_type": "stream",
     "text": [
      "/home/sh38/anaconda3/envs/proGAN_tf/lib/python3.6/site-packages/ipykernel_launcher.py:28: UserWarning: /home/sh38/segmentation_models/phase_cells/data/cell_cycle_down2/train_masks/0165.png is a low contrast image\n"
     ]
    },
    {
     "name": "stdout",
     "output_type": "stream",
     "text": [
      "0485.png\n"
     ]
    },
    {
     "name": "stderr",
     "output_type": "stream",
     "text": [
      "/home/sh38/anaconda3/envs/proGAN_tf/lib/python3.6/site-packages/ipykernel_launcher.py:28: UserWarning: /home/sh38/segmentation_models/phase_cells/data/cell_cycle_down2/train_masks/0485.png is a low contrast image\n"
     ]
    },
    {
     "name": "stdout",
     "output_type": "stream",
     "text": [
      "0463.png\n"
     ]
    },
    {
     "name": "stderr",
     "output_type": "stream",
     "text": [
      "/home/sh38/anaconda3/envs/proGAN_tf/lib/python3.6/site-packages/ipykernel_launcher.py:28: UserWarning: /home/sh38/segmentation_models/phase_cells/data/cell_cycle_down2/train_masks/0463.png is a low contrast image\n"
     ]
    },
    {
     "name": "stdout",
     "output_type": "stream",
     "text": [
      "0871.png\n"
     ]
    },
    {
     "name": "stderr",
     "output_type": "stream",
     "text": [
      "/home/sh38/anaconda3/envs/proGAN_tf/lib/python3.6/site-packages/ipykernel_launcher.py:28: UserWarning: /home/sh38/segmentation_models/phase_cells/data/cell_cycle_down2/train_masks/0871.png is a low contrast image\n"
     ]
    },
    {
     "name": "stdout",
     "output_type": "stream",
     "text": [
      "0280.png\n"
     ]
    },
    {
     "name": "stderr",
     "output_type": "stream",
     "text": [
      "/home/sh38/anaconda3/envs/proGAN_tf/lib/python3.6/site-packages/ipykernel_launcher.py:28: UserWarning: /home/sh38/segmentation_models/phase_cells/data/cell_cycle_down2/train_masks/0280.png is a low contrast image\n"
     ]
    },
    {
     "name": "stdout",
     "output_type": "stream",
     "text": [
      "0434.png\n"
     ]
    },
    {
     "name": "stderr",
     "output_type": "stream",
     "text": [
      "/home/sh38/anaconda3/envs/proGAN_tf/lib/python3.6/site-packages/ipykernel_launcher.py:28: UserWarning: /home/sh38/segmentation_models/phase_cells/data/cell_cycle_down2/train_masks/0434.png is a low contrast image\n"
     ]
    },
    {
     "name": "stdout",
     "output_type": "stream",
     "text": [
      "0294.png\n"
     ]
    },
    {
     "name": "stderr",
     "output_type": "stream",
     "text": [
      "/home/sh38/anaconda3/envs/proGAN_tf/lib/python3.6/site-packages/ipykernel_launcher.py:28: UserWarning: /home/sh38/segmentation_models/phase_cells/data/cell_cycle_down2/train_masks/0294.png is a low contrast image\n",
      "/home/sh38/anaconda3/envs/proGAN_tf/lib/python3.6/site-packages/ipykernel_launcher.py:28: UserWarning: /home/sh38/segmentation_models/phase_cells/data/cell_cycle_down2/train_images/0296.png is a low contrast image\n"
     ]
    },
    {
     "name": "stdout",
     "output_type": "stream",
     "text": [
      "0296.png\n"
     ]
    },
    {
     "name": "stderr",
     "output_type": "stream",
     "text": [
      "/home/sh38/anaconda3/envs/proGAN_tf/lib/python3.6/site-packages/ipykernel_launcher.py:28: UserWarning: /home/sh38/segmentation_models/phase_cells/data/cell_cycle_down2/train_masks/0296.png is a low contrast image\n"
     ]
    },
    {
     "name": "stdout",
     "output_type": "stream",
     "text": [
      "0465.png\n"
     ]
    },
    {
     "name": "stderr",
     "output_type": "stream",
     "text": [
      "/home/sh38/anaconda3/envs/proGAN_tf/lib/python3.6/site-packages/ipykernel_launcher.py:28: UserWarning: /home/sh38/segmentation_models/phase_cells/data/cell_cycle_down2/train_masks/0465.png is a low contrast image\n"
     ]
    },
    {
     "name": "stdout",
     "output_type": "stream",
     "text": [
      "0249.png\n"
     ]
    },
    {
     "name": "stderr",
     "output_type": "stream",
     "text": [
      "/home/sh38/anaconda3/envs/proGAN_tf/lib/python3.6/site-packages/ipykernel_launcher.py:28: UserWarning: /home/sh38/segmentation_models/phase_cells/data/cell_cycle_down2/train_masks/0249.png is a low contrast image\n"
     ]
    },
    {
     "name": "stdout",
     "output_type": "stream",
     "text": [
      "0154.png\n"
     ]
    },
    {
     "name": "stderr",
     "output_type": "stream",
     "text": [
      "/home/sh38/anaconda3/envs/proGAN_tf/lib/python3.6/site-packages/ipykernel_launcher.py:28: UserWarning: /home/sh38/segmentation_models/phase_cells/data/cell_cycle_down2/train_masks/0154.png is a low contrast image\n"
     ]
    },
    {
     "name": "stdout",
     "output_type": "stream",
     "text": [
      "0613.png\n"
     ]
    },
    {
     "name": "stderr",
     "output_type": "stream",
     "text": [
      "/home/sh38/anaconda3/envs/proGAN_tf/lib/python3.6/site-packages/ipykernel_launcher.py:28: UserWarning: /home/sh38/segmentation_models/phase_cells/data/cell_cycle_down2/train_masks/0613.png is a low contrast image\n"
     ]
    },
    {
     "name": "stdout",
     "output_type": "stream",
     "text": [
      "0595.png\n"
     ]
    },
    {
     "name": "stderr",
     "output_type": "stream",
     "text": [
      "/home/sh38/anaconda3/envs/proGAN_tf/lib/python3.6/site-packages/ipykernel_launcher.py:28: UserWarning: /home/sh38/segmentation_models/phase_cells/data/cell_cycle_down2/train_masks/0595.png is a low contrast image\n",
      "/home/sh38/anaconda3/envs/proGAN_tf/lib/python3.6/site-packages/ipykernel_launcher.py:28: UserWarning: /home/sh38/segmentation_models/phase_cells/data/cell_cycle_down2/train_images/0656.png is a low contrast image\n"
     ]
    },
    {
     "name": "stdout",
     "output_type": "stream",
     "text": [
      "0656.png\n"
     ]
    },
    {
     "name": "stderr",
     "output_type": "stream",
     "text": [
      "/home/sh38/anaconda3/envs/proGAN_tf/lib/python3.6/site-packages/ipykernel_launcher.py:28: UserWarning: /home/sh38/segmentation_models/phase_cells/data/cell_cycle_down2/train_masks/0656.png is a low contrast image\n"
     ]
    },
    {
     "name": "stdout",
     "output_type": "stream",
     "text": [
      "0752.png\n"
     ]
    },
    {
     "name": "stderr",
     "output_type": "stream",
     "text": [
      "/home/sh38/anaconda3/envs/proGAN_tf/lib/python3.6/site-packages/ipykernel_launcher.py:28: UserWarning: /home/sh38/segmentation_models/phase_cells/data/cell_cycle_down2/train_masks/0752.png is a low contrast image\n",
      "/home/sh38/anaconda3/envs/proGAN_tf/lib/python3.6/site-packages/ipykernel_launcher.py:28: UserWarning: /home/sh38/segmentation_models/phase_cells/data/cell_cycle_down2/train_images/0669.png is a low contrast image\n"
     ]
    },
    {
     "name": "stdout",
     "output_type": "stream",
     "text": [
      "0669.png\n"
     ]
    },
    {
     "name": "stderr",
     "output_type": "stream",
     "text": [
      "/home/sh38/anaconda3/envs/proGAN_tf/lib/python3.6/site-packages/ipykernel_launcher.py:28: UserWarning: /home/sh38/segmentation_models/phase_cells/data/cell_cycle_down2/train_masks/0669.png is a low contrast image\n",
      "/home/sh38/anaconda3/envs/proGAN_tf/lib/python3.6/site-packages/ipykernel_launcher.py:28: UserWarning: /home/sh38/segmentation_models/phase_cells/data/cell_cycle_down2/train_images/0117.png is a low contrast image\n"
     ]
    },
    {
     "name": "stdout",
     "output_type": "stream",
     "text": [
      "0117.png\n"
     ]
    },
    {
     "name": "stderr",
     "output_type": "stream",
     "text": [
      "/home/sh38/anaconda3/envs/proGAN_tf/lib/python3.6/site-packages/ipykernel_launcher.py:28: UserWarning: /home/sh38/segmentation_models/phase_cells/data/cell_cycle_down2/train_masks/0117.png is a low contrast image\n"
     ]
    },
    {
     "name": "stdout",
     "output_type": "stream",
     "text": [
      "0467.png\n"
     ]
    },
    {
     "name": "stderr",
     "output_type": "stream",
     "text": [
      "/home/sh38/anaconda3/envs/proGAN_tf/lib/python3.6/site-packages/ipykernel_launcher.py:28: UserWarning: /home/sh38/segmentation_models/phase_cells/data/cell_cycle_down2/train_masks/0467.png is a low contrast image\n"
     ]
    },
    {
     "name": "stdout",
     "output_type": "stream",
     "text": [
      "0778.png\n"
     ]
    },
    {
     "name": "stderr",
     "output_type": "stream",
     "text": [
      "/home/sh38/anaconda3/envs/proGAN_tf/lib/python3.6/site-packages/ipykernel_launcher.py:28: UserWarning: /home/sh38/segmentation_models/phase_cells/data/cell_cycle_down2/train_masks/0778.png is a low contrast image\n",
      "/home/sh38/anaconda3/envs/proGAN_tf/lib/python3.6/site-packages/ipykernel_launcher.py:28: UserWarning: /home/sh38/segmentation_models/phase_cells/data/cell_cycle_down2/train_images/0299.png is a low contrast image\n"
     ]
    },
    {
     "name": "stdout",
     "output_type": "stream",
     "text": [
      "0299.png\n"
     ]
    },
    {
     "name": "stderr",
     "output_type": "stream",
     "text": [
      "/home/sh38/anaconda3/envs/proGAN_tf/lib/python3.6/site-packages/ipykernel_launcher.py:28: UserWarning: /home/sh38/segmentation_models/phase_cells/data/cell_cycle_down2/train_masks/0299.png is a low contrast image\n"
     ]
    },
    {
     "name": "stdout",
     "output_type": "stream",
     "text": [
      "0653.png\n"
     ]
    },
    {
     "name": "stderr",
     "output_type": "stream",
     "text": [
      "/home/sh38/anaconda3/envs/proGAN_tf/lib/python3.6/site-packages/ipykernel_launcher.py:28: UserWarning: /home/sh38/segmentation_models/phase_cells/data/cell_cycle_down2/train_masks/0653.png is a low contrast image\n"
     ]
    },
    {
     "name": "stdout",
     "output_type": "stream",
     "text": [
      "0276.png\n"
     ]
    },
    {
     "name": "stderr",
     "output_type": "stream",
     "text": [
      "/home/sh38/anaconda3/envs/proGAN_tf/lib/python3.6/site-packages/ipykernel_launcher.py:28: UserWarning: /home/sh38/segmentation_models/phase_cells/data/cell_cycle_down2/train_masks/0276.png is a low contrast image\n"
     ]
    },
    {
     "name": "stdout",
     "output_type": "stream",
     "text": [
      "0813.png\n"
     ]
    },
    {
     "name": "stderr",
     "output_type": "stream",
     "text": [
      "/home/sh38/anaconda3/envs/proGAN_tf/lib/python3.6/site-packages/ipykernel_launcher.py:28: UserWarning: /home/sh38/segmentation_models/phase_cells/data/cell_cycle_down2/train_masks/0813.png is a low contrast image\n",
      "/home/sh38/anaconda3/envs/proGAN_tf/lib/python3.6/site-packages/ipykernel_launcher.py:28: UserWarning: /home/sh38/segmentation_models/phase_cells/data/cell_cycle_down2/train_images/0064.png is a low contrast image\n"
     ]
    },
    {
     "name": "stdout",
     "output_type": "stream",
     "text": [
      "0064.png\n"
     ]
    },
    {
     "name": "stderr",
     "output_type": "stream",
     "text": [
      "/home/sh38/anaconda3/envs/proGAN_tf/lib/python3.6/site-packages/ipykernel_launcher.py:28: UserWarning: /home/sh38/segmentation_models/phase_cells/data/cell_cycle_down2/train_masks/0064.png is a low contrast image\n"
     ]
    },
    {
     "name": "stdout",
     "output_type": "stream",
     "text": [
      "0242.png\n"
     ]
    },
    {
     "name": "stderr",
     "output_type": "stream",
     "text": [
      "/home/sh38/anaconda3/envs/proGAN_tf/lib/python3.6/site-packages/ipykernel_launcher.py:28: UserWarning: /home/sh38/segmentation_models/phase_cells/data/cell_cycle_down2/train_masks/0242.png is a low contrast image\n"
     ]
    },
    {
     "name": "stdout",
     "output_type": "stream",
     "text": [
      "0493.png\n"
     ]
    },
    {
     "name": "stderr",
     "output_type": "stream",
     "text": [
      "/home/sh38/anaconda3/envs/proGAN_tf/lib/python3.6/site-packages/ipykernel_launcher.py:28: UserWarning: /home/sh38/segmentation_models/phase_cells/data/cell_cycle_down2/train_masks/0493.png is a low contrast image\n"
     ]
    },
    {
     "name": "stdout",
     "output_type": "stream",
     "text": [
      "0119.png\n"
     ]
    },
    {
     "name": "stderr",
     "output_type": "stream",
     "text": [
      "/home/sh38/anaconda3/envs/proGAN_tf/lib/python3.6/site-packages/ipykernel_launcher.py:28: UserWarning: /home/sh38/segmentation_models/phase_cells/data/cell_cycle_down2/train_masks/0119.png is a low contrast image\n"
     ]
    },
    {
     "name": "stdout",
     "output_type": "stream",
     "text": [
      "0645.png\n"
     ]
    },
    {
     "name": "stderr",
     "output_type": "stream",
     "text": [
      "/home/sh38/anaconda3/envs/proGAN_tf/lib/python3.6/site-packages/ipykernel_launcher.py:28: UserWarning: /home/sh38/segmentation_models/phase_cells/data/cell_cycle_down2/train_masks/0645.png is a low contrast image\n"
     ]
    },
    {
     "name": "stdout",
     "output_type": "stream",
     "text": [
      "0745.png\n"
     ]
    },
    {
     "name": "stderr",
     "output_type": "stream",
     "text": [
      "/home/sh38/anaconda3/envs/proGAN_tf/lib/python3.6/site-packages/ipykernel_launcher.py:28: UserWarning: /home/sh38/segmentation_models/phase_cells/data/cell_cycle_down2/train_masks/0745.png is a low contrast image\n"
     ]
    },
    {
     "name": "stdout",
     "output_type": "stream",
     "text": [
      "0278.png\n"
     ]
    },
    {
     "name": "stderr",
     "output_type": "stream",
     "text": [
      "/home/sh38/anaconda3/envs/proGAN_tf/lib/python3.6/site-packages/ipykernel_launcher.py:28: UserWarning: /home/sh38/segmentation_models/phase_cells/data/cell_cycle_down2/train_masks/0278.png is a low contrast image\n"
     ]
    },
    {
     "name": "stdout",
     "output_type": "stream",
     "text": [
      "0248.png\n"
     ]
    },
    {
     "name": "stderr",
     "output_type": "stream",
     "text": [
      "/home/sh38/anaconda3/envs/proGAN_tf/lib/python3.6/site-packages/ipykernel_launcher.py:28: UserWarning: /home/sh38/segmentation_models/phase_cells/data/cell_cycle_down2/train_masks/0248.png is a low contrast image\n"
     ]
    },
    {
     "name": "stdout",
     "output_type": "stream",
     "text": [
      "0143.png\n"
     ]
    },
    {
     "name": "stderr",
     "output_type": "stream",
     "text": [
      "/home/sh38/anaconda3/envs/proGAN_tf/lib/python3.6/site-packages/ipykernel_launcher.py:28: UserWarning: /home/sh38/segmentation_models/phase_cells/data/cell_cycle_down2/train_masks/0143.png is a low contrast image\n",
      "/home/sh38/anaconda3/envs/proGAN_tf/lib/python3.6/site-packages/ipykernel_launcher.py:28: UserWarning: /home/sh38/segmentation_models/phase_cells/data/cell_cycle_down2/train_images/0522.png is a low contrast image\n"
     ]
    },
    {
     "name": "stdout",
     "output_type": "stream",
     "text": [
      "0522.png\n"
     ]
    },
    {
     "name": "stderr",
     "output_type": "stream",
     "text": [
      "/home/sh38/anaconda3/envs/proGAN_tf/lib/python3.6/site-packages/ipykernel_launcher.py:28: UserWarning: /home/sh38/segmentation_models/phase_cells/data/cell_cycle_down2/train_masks/0522.png is a low contrast image\n"
     ]
    },
    {
     "name": "stdout",
     "output_type": "stream",
     "text": [
      "0880.png\n"
     ]
    },
    {
     "name": "stderr",
     "output_type": "stream",
     "text": [
      "/home/sh38/anaconda3/envs/proGAN_tf/lib/python3.6/site-packages/ipykernel_launcher.py:28: UserWarning: /home/sh38/segmentation_models/phase_cells/data/cell_cycle_down2/train_masks/0880.png is a low contrast image\n"
     ]
    },
    {
     "name": "stdout",
     "output_type": "stream",
     "text": [
      "0482.png\n"
     ]
    },
    {
     "name": "stderr",
     "output_type": "stream",
     "text": [
      "/home/sh38/anaconda3/envs/proGAN_tf/lib/python3.6/site-packages/ipykernel_launcher.py:28: UserWarning: /home/sh38/segmentation_models/phase_cells/data/cell_cycle_down2/train_masks/0482.png is a low contrast image\n"
     ]
    },
    {
     "name": "stdout",
     "output_type": "stream",
     "text": [
      "0125.png\n"
     ]
    },
    {
     "name": "stderr",
     "output_type": "stream",
     "text": [
      "/home/sh38/anaconda3/envs/proGAN_tf/lib/python3.6/site-packages/ipykernel_launcher.py:28: UserWarning: /home/sh38/segmentation_models/phase_cells/data/cell_cycle_down2/train_masks/0125.png is a low contrast image\n"
     ]
    },
    {
     "name": "stdout",
     "output_type": "stream",
     "text": [
      "0715.png\n"
     ]
    },
    {
     "name": "stderr",
     "output_type": "stream",
     "text": [
      "/home/sh38/anaconda3/envs/proGAN_tf/lib/python3.6/site-packages/ipykernel_launcher.py:28: UserWarning: /home/sh38/segmentation_models/phase_cells/data/cell_cycle_down2/train_masks/0715.png is a low contrast image\n"
     ]
    },
    {
     "name": "stdout",
     "output_type": "stream",
     "text": [
      "0652.png\n"
     ]
    },
    {
     "name": "stderr",
     "output_type": "stream",
     "text": [
      "/home/sh38/anaconda3/envs/proGAN_tf/lib/python3.6/site-packages/ipykernel_launcher.py:28: UserWarning: /home/sh38/segmentation_models/phase_cells/data/cell_cycle_down2/train_masks/0652.png is a low contrast image\n"
     ]
    },
    {
     "name": "stdout",
     "output_type": "stream",
     "text": [
      "0073.png\n"
     ]
    },
    {
     "name": "stderr",
     "output_type": "stream",
     "text": [
      "/home/sh38/anaconda3/envs/proGAN_tf/lib/python3.6/site-packages/ipykernel_launcher.py:28: UserWarning: /home/sh38/segmentation_models/phase_cells/data/cell_cycle_down2/train_masks/0073.png is a low contrast image\n"
     ]
    },
    {
     "name": "stdout",
     "output_type": "stream",
     "text": [
      "0127.png\n"
     ]
    },
    {
     "name": "stderr",
     "output_type": "stream",
     "text": [
      "/home/sh38/anaconda3/envs/proGAN_tf/lib/python3.6/site-packages/ipykernel_launcher.py:28: UserWarning: /home/sh38/segmentation_models/phase_cells/data/cell_cycle_down2/train_masks/0127.png is a low contrast image\n"
     ]
    },
    {
     "name": "stdout",
     "output_type": "stream",
     "text": [
      "0508.png\n"
     ]
    },
    {
     "name": "stderr",
     "output_type": "stream",
     "text": [
      "/home/sh38/anaconda3/envs/proGAN_tf/lib/python3.6/site-packages/ipykernel_launcher.py:28: UserWarning: /home/sh38/segmentation_models/phase_cells/data/cell_cycle_down2/train_masks/0508.png is a low contrast image\n"
     ]
    },
    {
     "name": "stdout",
     "output_type": "stream",
     "text": [
      "0788.png\n"
     ]
    },
    {
     "name": "stderr",
     "output_type": "stream",
     "text": [
      "/home/sh38/anaconda3/envs/proGAN_tf/lib/python3.6/site-packages/ipykernel_launcher.py:28: UserWarning: /home/sh38/segmentation_models/phase_cells/data/cell_cycle_down2/train_masks/0788.png is a low contrast image\n",
      "/home/sh38/anaconda3/envs/proGAN_tf/lib/python3.6/site-packages/ipykernel_launcher.py:28: UserWarning: /home/sh38/segmentation_models/phase_cells/data/cell_cycle_down2/train_images/0348.png is a low contrast image\n"
     ]
    },
    {
     "name": "stdout",
     "output_type": "stream",
     "text": [
      "0348.png\n"
     ]
    },
    {
     "name": "stderr",
     "output_type": "stream",
     "text": [
      "/home/sh38/anaconda3/envs/proGAN_tf/lib/python3.6/site-packages/ipykernel_launcher.py:28: UserWarning: /home/sh38/segmentation_models/phase_cells/data/cell_cycle_down2/train_masks/0348.png is a low contrast image\n"
     ]
    },
    {
     "name": "stdout",
     "output_type": "stream",
     "text": [
      "0661.png\n"
     ]
    },
    {
     "name": "stderr",
     "output_type": "stream",
     "text": [
      "/home/sh38/anaconda3/envs/proGAN_tf/lib/python3.6/site-packages/ipykernel_launcher.py:28: UserWarning: /home/sh38/segmentation_models/phase_cells/data/cell_cycle_down2/train_masks/0661.png is a low contrast image\n"
     ]
    },
    {
     "name": "stdout",
     "output_type": "stream",
     "text": [
      "0582.png\n"
     ]
    },
    {
     "name": "stderr",
     "output_type": "stream",
     "text": [
      "/home/sh38/anaconda3/envs/proGAN_tf/lib/python3.6/site-packages/ipykernel_launcher.py:28: UserWarning: /home/sh38/segmentation_models/phase_cells/data/cell_cycle_down2/train_masks/0582.png is a low contrast image\n"
     ]
    },
    {
     "name": "stdout",
     "output_type": "stream",
     "text": [
      "0232.png\n"
     ]
    },
    {
     "name": "stderr",
     "output_type": "stream",
     "text": [
      "/home/sh38/anaconda3/envs/proGAN_tf/lib/python3.6/site-packages/ipykernel_launcher.py:28: UserWarning: /home/sh38/segmentation_models/phase_cells/data/cell_cycle_down2/train_masks/0232.png is a low contrast image\n"
     ]
    },
    {
     "name": "stdout",
     "output_type": "stream",
     "text": [
      "0504.png\n"
     ]
    },
    {
     "name": "stderr",
     "output_type": "stream",
     "text": [
      "/home/sh38/anaconda3/envs/proGAN_tf/lib/python3.6/site-packages/ipykernel_launcher.py:28: UserWarning: /home/sh38/segmentation_models/phase_cells/data/cell_cycle_down2/train_masks/0504.png is a low contrast image\n"
     ]
    },
    {
     "name": "stdout",
     "output_type": "stream",
     "text": [
      "0050.png\n"
     ]
    },
    {
     "name": "stderr",
     "output_type": "stream",
     "text": [
      "/home/sh38/anaconda3/envs/proGAN_tf/lib/python3.6/site-packages/ipykernel_launcher.py:28: UserWarning: /home/sh38/segmentation_models/phase_cells/data/cell_cycle_down2/train_masks/0050.png is a low contrast image\n"
     ]
    },
    {
     "name": "stdout",
     "output_type": "stream",
     "text": [
      "0352.png\n"
     ]
    },
    {
     "name": "stderr",
     "output_type": "stream",
     "text": [
      "/home/sh38/anaconda3/envs/proGAN_tf/lib/python3.6/site-packages/ipykernel_launcher.py:28: UserWarning: /home/sh38/segmentation_models/phase_cells/data/cell_cycle_down2/train_masks/0352.png is a low contrast image\n"
     ]
    },
    {
     "name": "stdout",
     "output_type": "stream",
     "text": [
      "0785.png\n"
     ]
    },
    {
     "name": "stderr",
     "output_type": "stream",
     "text": [
      "/home/sh38/anaconda3/envs/proGAN_tf/lib/python3.6/site-packages/ipykernel_launcher.py:28: UserWarning: /home/sh38/segmentation_models/phase_cells/data/cell_cycle_down2/train_masks/0785.png is a low contrast image\n"
     ]
    },
    {
     "name": "stdout",
     "output_type": "stream",
     "text": [
      "0305.png\n"
     ]
    },
    {
     "name": "stderr",
     "output_type": "stream",
     "text": [
      "/home/sh38/anaconda3/envs/proGAN_tf/lib/python3.6/site-packages/ipykernel_launcher.py:28: UserWarning: /home/sh38/segmentation_models/phase_cells/data/cell_cycle_down2/train_masks/0305.png is a low contrast image\n"
     ]
    },
    {
     "name": "stdout",
     "output_type": "stream",
     "text": [
      "0464.png\n"
     ]
    },
    {
     "name": "stderr",
     "output_type": "stream",
     "text": [
      "/home/sh38/anaconda3/envs/proGAN_tf/lib/python3.6/site-packages/ipykernel_launcher.py:28: UserWarning: /home/sh38/segmentation_models/phase_cells/data/cell_cycle_down2/train_masks/0464.png is a low contrast image\n",
      "/home/sh38/anaconda3/envs/proGAN_tf/lib/python3.6/site-packages/ipykernel_launcher.py:28: UserWarning: /home/sh38/segmentation_models/phase_cells/data/cell_cycle_down2/train_images/0355.png is a low contrast image\n"
     ]
    },
    {
     "name": "stdout",
     "output_type": "stream",
     "text": [
      "0355.png\n"
     ]
    },
    {
     "name": "stderr",
     "output_type": "stream",
     "text": [
      "/home/sh38/anaconda3/envs/proGAN_tf/lib/python3.6/site-packages/ipykernel_launcher.py:28: UserWarning: /home/sh38/segmentation_models/phase_cells/data/cell_cycle_down2/train_masks/0355.png is a low contrast image\n"
     ]
    },
    {
     "name": "stdout",
     "output_type": "stream",
     "text": [
      "0445.png\n"
     ]
    },
    {
     "name": "stderr",
     "output_type": "stream",
     "text": [
      "/home/sh38/anaconda3/envs/proGAN_tf/lib/python3.6/site-packages/ipykernel_launcher.py:28: UserWarning: /home/sh38/segmentation_models/phase_cells/data/cell_cycle_down2/train_masks/0445.png is a low contrast image\n",
      "/home/sh38/anaconda3/envs/proGAN_tf/lib/python3.6/site-packages/ipykernel_launcher.py:28: UserWarning: /home/sh38/segmentation_models/phase_cells/data/cell_cycle_down2/train_images/0432.png is a low contrast image\n"
     ]
    },
    {
     "name": "stdout",
     "output_type": "stream",
     "text": [
      "0432.png\n"
     ]
    },
    {
     "name": "stderr",
     "output_type": "stream",
     "text": [
      "/home/sh38/anaconda3/envs/proGAN_tf/lib/python3.6/site-packages/ipykernel_launcher.py:28: UserWarning: /home/sh38/segmentation_models/phase_cells/data/cell_cycle_down2/train_masks/0432.png is a low contrast image\n",
      "/home/sh38/anaconda3/envs/proGAN_tf/lib/python3.6/site-packages/ipykernel_launcher.py:28: UserWarning: /home/sh38/segmentation_models/phase_cells/data/cell_cycle_down2/train_images/0590.png is a low contrast image\n"
     ]
    },
    {
     "name": "stdout",
     "output_type": "stream",
     "text": [
      "0590.png\n"
     ]
    },
    {
     "name": "stderr",
     "output_type": "stream",
     "text": [
      "/home/sh38/anaconda3/envs/proGAN_tf/lib/python3.6/site-packages/ipykernel_launcher.py:28: UserWarning: /home/sh38/segmentation_models/phase_cells/data/cell_cycle_down2/train_masks/0590.png is a low contrast image\n"
     ]
    },
    {
     "name": "stdout",
     "output_type": "stream",
     "text": [
      "0470.png\n"
     ]
    },
    {
     "name": "stderr",
     "output_type": "stream",
     "text": [
      "/home/sh38/anaconda3/envs/proGAN_tf/lib/python3.6/site-packages/ipykernel_launcher.py:28: UserWarning: /home/sh38/segmentation_models/phase_cells/data/cell_cycle_down2/train_masks/0470.png is a low contrast image\n"
     ]
    },
    {
     "name": "stdout",
     "output_type": "stream",
     "text": [
      "0371.png\n"
     ]
    },
    {
     "name": "stderr",
     "output_type": "stream",
     "text": [
      "/home/sh38/anaconda3/envs/proGAN_tf/lib/python3.6/site-packages/ipykernel_launcher.py:28: UserWarning: /home/sh38/segmentation_models/phase_cells/data/cell_cycle_down2/train_masks/0371.png is a low contrast image\n"
     ]
    },
    {
     "name": "stdout",
     "output_type": "stream",
     "text": [
      "0719.png\n"
     ]
    },
    {
     "name": "stderr",
     "output_type": "stream",
     "text": [
      "/home/sh38/anaconda3/envs/proGAN_tf/lib/python3.6/site-packages/ipykernel_launcher.py:28: UserWarning: /home/sh38/segmentation_models/phase_cells/data/cell_cycle_down2/train_masks/0719.png is a low contrast image\n",
      "/home/sh38/anaconda3/envs/proGAN_tf/lib/python3.6/site-packages/ipykernel_launcher.py:28: UserWarning: /home/sh38/segmentation_models/phase_cells/data/cell_cycle_down2/train_images/0502.png is a low contrast image\n"
     ]
    },
    {
     "name": "stdout",
     "output_type": "stream",
     "text": [
      "0502.png\n"
     ]
    },
    {
     "name": "stderr",
     "output_type": "stream",
     "text": [
      "/home/sh38/anaconda3/envs/proGAN_tf/lib/python3.6/site-packages/ipykernel_launcher.py:28: UserWarning: /home/sh38/segmentation_models/phase_cells/data/cell_cycle_down2/train_masks/0502.png is a low contrast image\n"
     ]
    },
    {
     "name": "stdout",
     "output_type": "stream",
     "text": [
      "0521.png\n"
     ]
    },
    {
     "name": "stderr",
     "output_type": "stream",
     "text": [
      "/home/sh38/anaconda3/envs/proGAN_tf/lib/python3.6/site-packages/ipykernel_launcher.py:28: UserWarning: /home/sh38/segmentation_models/phase_cells/data/cell_cycle_down2/train_masks/0521.png is a low contrast image\n"
     ]
    },
    {
     "name": "stdout",
     "output_type": "stream",
     "text": [
      "0244.png\n"
     ]
    },
    {
     "name": "stderr",
     "output_type": "stream",
     "text": [
      "/home/sh38/anaconda3/envs/proGAN_tf/lib/python3.6/site-packages/ipykernel_launcher.py:28: UserWarning: /home/sh38/segmentation_models/phase_cells/data/cell_cycle_down2/train_masks/0244.png is a low contrast image\n"
     ]
    },
    {
     "name": "stdout",
     "output_type": "stream",
     "text": [
      "0067.png\n"
     ]
    },
    {
     "name": "stderr",
     "output_type": "stream",
     "text": [
      "/home/sh38/anaconda3/envs/proGAN_tf/lib/python3.6/site-packages/ipykernel_launcher.py:28: UserWarning: /home/sh38/segmentation_models/phase_cells/data/cell_cycle_down2/train_masks/0067.png is a low contrast image\n"
     ]
    },
    {
     "name": "stdout",
     "output_type": "stream",
     "text": [
      "0458.png\n"
     ]
    },
    {
     "name": "stderr",
     "output_type": "stream",
     "text": [
      "/home/sh38/anaconda3/envs/proGAN_tf/lib/python3.6/site-packages/ipykernel_launcher.py:28: UserWarning: /home/sh38/segmentation_models/phase_cells/data/cell_cycle_down2/train_masks/0458.png is a low contrast image\n"
     ]
    },
    {
     "name": "stdout",
     "output_type": "stream",
     "text": [
      "0217.png\n"
     ]
    },
    {
     "name": "stderr",
     "output_type": "stream",
     "text": [
      "/home/sh38/anaconda3/envs/proGAN_tf/lib/python3.6/site-packages/ipykernel_launcher.py:28: UserWarning: /home/sh38/segmentation_models/phase_cells/data/cell_cycle_down2/train_masks/0217.png is a low contrast image\n"
     ]
    },
    {
     "name": "stdout",
     "output_type": "stream",
     "text": [
      "0412.png\n"
     ]
    },
    {
     "name": "stderr",
     "output_type": "stream",
     "text": [
      "/home/sh38/anaconda3/envs/proGAN_tf/lib/python3.6/site-packages/ipykernel_launcher.py:28: UserWarning: /home/sh38/segmentation_models/phase_cells/data/cell_cycle_down2/train_masks/0412.png is a low contrast image\n"
     ]
    },
    {
     "name": "stdout",
     "output_type": "stream",
     "text": [
      "0490.png\n"
     ]
    },
    {
     "name": "stderr",
     "output_type": "stream",
     "text": [
      "/home/sh38/anaconda3/envs/proGAN_tf/lib/python3.6/site-packages/ipykernel_launcher.py:28: UserWarning: /home/sh38/segmentation_models/phase_cells/data/cell_cycle_down2/train_masks/0490.png is a low contrast image\n"
     ]
    },
    {
     "name": "stdout",
     "output_type": "stream",
     "text": [
      "0617.png\n"
     ]
    },
    {
     "name": "stderr",
     "output_type": "stream",
     "text": [
      "/home/sh38/anaconda3/envs/proGAN_tf/lib/python3.6/site-packages/ipykernel_launcher.py:28: UserWarning: /home/sh38/segmentation_models/phase_cells/data/cell_cycle_down2/train_masks/0617.png is a low contrast image\n"
     ]
    },
    {
     "name": "stdout",
     "output_type": "stream",
     "text": [
      "0469.png\n"
     ]
    },
    {
     "name": "stderr",
     "output_type": "stream",
     "text": [
      "/home/sh38/anaconda3/envs/proGAN_tf/lib/python3.6/site-packages/ipykernel_launcher.py:28: UserWarning: /home/sh38/segmentation_models/phase_cells/data/cell_cycle_down2/train_masks/0469.png is a low contrast image\n"
     ]
    },
    {
     "name": "stdout",
     "output_type": "stream",
     "text": [
      "0437.png\n"
     ]
    },
    {
     "name": "stderr",
     "output_type": "stream",
     "text": [
      "/home/sh38/anaconda3/envs/proGAN_tf/lib/python3.6/site-packages/ipykernel_launcher.py:28: UserWarning: /home/sh38/segmentation_models/phase_cells/data/cell_cycle_down2/train_masks/0437.png is a low contrast image\n"
     ]
    },
    {
     "name": "stdout",
     "output_type": "stream",
     "text": [
      "0577.png\n"
     ]
    },
    {
     "name": "stderr",
     "output_type": "stream",
     "text": [
      "/home/sh38/anaconda3/envs/proGAN_tf/lib/python3.6/site-packages/ipykernel_launcher.py:28: UserWarning: /home/sh38/segmentation_models/phase_cells/data/cell_cycle_down2/train_masks/0577.png is a low contrast image\n"
     ]
    },
    {
     "name": "stdout",
     "output_type": "stream",
     "text": [
      "0681.png\n"
     ]
    },
    {
     "name": "stderr",
     "output_type": "stream",
     "text": [
      "/home/sh38/anaconda3/envs/proGAN_tf/lib/python3.6/site-packages/ipykernel_launcher.py:28: UserWarning: /home/sh38/segmentation_models/phase_cells/data/cell_cycle_down2/train_masks/0681.png is a low contrast image\n"
     ]
    },
    {
     "name": "stdout",
     "output_type": "stream",
     "text": [
      "0346.png\n"
     ]
    },
    {
     "name": "stderr",
     "output_type": "stream",
     "text": [
      "/home/sh38/anaconda3/envs/proGAN_tf/lib/python3.6/site-packages/ipykernel_launcher.py:28: UserWarning: /home/sh38/segmentation_models/phase_cells/data/cell_cycle_down2/train_masks/0346.png is a low contrast image\n"
     ]
    },
    {
     "name": "stdout",
     "output_type": "stream",
     "text": [
      "0746.png\n"
     ]
    },
    {
     "name": "stderr",
     "output_type": "stream",
     "text": [
      "/home/sh38/anaconda3/envs/proGAN_tf/lib/python3.6/site-packages/ipykernel_launcher.py:28: UserWarning: /home/sh38/segmentation_models/phase_cells/data/cell_cycle_down2/train_masks/0746.png is a low contrast image\n"
     ]
    },
    {
     "name": "stdout",
     "output_type": "stream",
     "text": [
      "0177.png\n"
     ]
    },
    {
     "name": "stderr",
     "output_type": "stream",
     "text": [
      "/home/sh38/anaconda3/envs/proGAN_tf/lib/python3.6/site-packages/ipykernel_launcher.py:28: UserWarning: /home/sh38/segmentation_models/phase_cells/data/cell_cycle_down2/train_masks/0177.png is a low contrast image\n"
     ]
    },
    {
     "name": "stdout",
     "output_type": "stream",
     "text": [
      "0079.png\n"
     ]
    },
    {
     "name": "stderr",
     "output_type": "stream",
     "text": [
      "/home/sh38/anaconda3/envs/proGAN_tf/lib/python3.6/site-packages/ipykernel_launcher.py:28: UserWarning: /home/sh38/segmentation_models/phase_cells/data/cell_cycle_down2/train_masks/0079.png is a low contrast image\n"
     ]
    },
    {
     "name": "stdout",
     "output_type": "stream",
     "text": [
      "0187.png\n"
     ]
    },
    {
     "name": "stderr",
     "output_type": "stream",
     "text": [
      "/home/sh38/anaconda3/envs/proGAN_tf/lib/python3.6/site-packages/ipykernel_launcher.py:28: UserWarning: /home/sh38/segmentation_models/phase_cells/data/cell_cycle_down2/train_masks/0187.png is a low contrast image\n"
     ]
    },
    {
     "name": "stdout",
     "output_type": "stream",
     "text": [
      "0787.png\n"
     ]
    },
    {
     "name": "stderr",
     "output_type": "stream",
     "text": [
      "/home/sh38/anaconda3/envs/proGAN_tf/lib/python3.6/site-packages/ipykernel_launcher.py:28: UserWarning: /home/sh38/segmentation_models/phase_cells/data/cell_cycle_down2/train_masks/0787.png is a low contrast image\n"
     ]
    },
    {
     "name": "stdout",
     "output_type": "stream",
     "text": [
      "0374.png\n"
     ]
    },
    {
     "name": "stderr",
     "output_type": "stream",
     "text": [
      "/home/sh38/anaconda3/envs/proGAN_tf/lib/python3.6/site-packages/ipykernel_launcher.py:28: UserWarning: /home/sh38/segmentation_models/phase_cells/data/cell_cycle_down2/train_masks/0374.png is a low contrast image\n"
     ]
    },
    {
     "name": "stdout",
     "output_type": "stream",
     "text": [
      "0238.png\n"
     ]
    },
    {
     "name": "stderr",
     "output_type": "stream",
     "text": [
      "/home/sh38/anaconda3/envs/proGAN_tf/lib/python3.6/site-packages/ipykernel_launcher.py:28: UserWarning: /home/sh38/segmentation_models/phase_cells/data/cell_cycle_down2/train_masks/0238.png is a low contrast image\n",
      "/home/sh38/anaconda3/envs/proGAN_tf/lib/python3.6/site-packages/ipykernel_launcher.py:28: UserWarning: /home/sh38/segmentation_models/phase_cells/data/cell_cycle_down2/train_images/0012.png is a low contrast image\n"
     ]
    },
    {
     "name": "stdout",
     "output_type": "stream",
     "text": [
      "0012.png\n"
     ]
    },
    {
     "name": "stderr",
     "output_type": "stream",
     "text": [
      "/home/sh38/anaconda3/envs/proGAN_tf/lib/python3.6/site-packages/ipykernel_launcher.py:28: UserWarning: /home/sh38/segmentation_models/phase_cells/data/cell_cycle_down2/train_masks/0012.png is a low contrast image\n"
     ]
    },
    {
     "name": "stdout",
     "output_type": "stream",
     "text": [
      "0046.png\n"
     ]
    },
    {
     "name": "stderr",
     "output_type": "stream",
     "text": [
      "/home/sh38/anaconda3/envs/proGAN_tf/lib/python3.6/site-packages/ipykernel_launcher.py:28: UserWarning: /home/sh38/segmentation_models/phase_cells/data/cell_cycle_down2/train_masks/0046.png is a low contrast image\n"
     ]
    },
    {
     "name": "stdout",
     "output_type": "stream",
     "text": [
      "0319.png\n"
     ]
    },
    {
     "name": "stderr",
     "output_type": "stream",
     "text": [
      "/home/sh38/anaconda3/envs/proGAN_tf/lib/python3.6/site-packages/ipykernel_launcher.py:28: UserWarning: /home/sh38/segmentation_models/phase_cells/data/cell_cycle_down2/train_masks/0319.png is a low contrast image\n"
     ]
    },
    {
     "name": "stdout",
     "output_type": "stream",
     "text": [
      "0116.png\n"
     ]
    },
    {
     "name": "stderr",
     "output_type": "stream",
     "text": [
      "/home/sh38/anaconda3/envs/proGAN_tf/lib/python3.6/site-packages/ipykernel_launcher.py:28: UserWarning: /home/sh38/segmentation_models/phase_cells/data/cell_cycle_down2/train_masks/0116.png is a low contrast image\n"
     ]
    },
    {
     "name": "stdout",
     "output_type": "stream",
     "text": [
      "0720.png\n"
     ]
    },
    {
     "name": "stderr",
     "output_type": "stream",
     "text": [
      "/home/sh38/anaconda3/envs/proGAN_tf/lib/python3.6/site-packages/ipykernel_launcher.py:28: UserWarning: /home/sh38/segmentation_models/phase_cells/data/cell_cycle_down2/train_masks/0720.png is a low contrast image\n"
     ]
    },
    {
     "name": "stdout",
     "output_type": "stream",
     "text": [
      "0405.png\n"
     ]
    },
    {
     "name": "stderr",
     "output_type": "stream",
     "text": [
      "/home/sh38/anaconda3/envs/proGAN_tf/lib/python3.6/site-packages/ipykernel_launcher.py:28: UserWarning: /home/sh38/segmentation_models/phase_cells/data/cell_cycle_down2/train_masks/0405.png is a low contrast image\n"
     ]
    },
    {
     "name": "stdout",
     "output_type": "stream",
     "text": [
      "0825.png\n"
     ]
    },
    {
     "name": "stderr",
     "output_type": "stream",
     "text": [
      "/home/sh38/anaconda3/envs/proGAN_tf/lib/python3.6/site-packages/ipykernel_launcher.py:28: UserWarning: /home/sh38/segmentation_models/phase_cells/data/cell_cycle_down2/train_masks/0825.png is a low contrast image\n"
     ]
    },
    {
     "name": "stdout",
     "output_type": "stream",
     "text": [
      "0015.png\n"
     ]
    },
    {
     "name": "stderr",
     "output_type": "stream",
     "text": [
      "/home/sh38/anaconda3/envs/proGAN_tf/lib/python3.6/site-packages/ipykernel_launcher.py:28: UserWarning: /home/sh38/segmentation_models/phase_cells/data/cell_cycle_down2/train_masks/0015.png is a low contrast image\n",
      "/home/sh38/anaconda3/envs/proGAN_tf/lib/python3.6/site-packages/ipykernel_launcher.py:28: UserWarning: /home/sh38/segmentation_models/phase_cells/data/cell_cycle_down2/train_images/0865.png is a low contrast image\n"
     ]
    },
    {
     "name": "stdout",
     "output_type": "stream",
     "text": [
      "0865.png\n"
     ]
    },
    {
     "name": "stderr",
     "output_type": "stream",
     "text": [
      "/home/sh38/anaconda3/envs/proGAN_tf/lib/python3.6/site-packages/ipykernel_launcher.py:28: UserWarning: /home/sh38/segmentation_models/phase_cells/data/cell_cycle_down2/train_masks/0865.png is a low contrast image\n"
     ]
    },
    {
     "name": "stdout",
     "output_type": "stream",
     "text": [
      "0468.png\n"
     ]
    },
    {
     "name": "stderr",
     "output_type": "stream",
     "text": [
      "/home/sh38/anaconda3/envs/proGAN_tf/lib/python3.6/site-packages/ipykernel_launcher.py:28: UserWarning: /home/sh38/segmentation_models/phase_cells/data/cell_cycle_down2/train_masks/0468.png is a low contrast image\n",
      "/home/sh38/anaconda3/envs/proGAN_tf/lib/python3.6/site-packages/ipykernel_launcher.py:28: UserWarning: /home/sh38/segmentation_models/phase_cells/data/cell_cycle_down2/train_images/0607.png is a low contrast image\n"
     ]
    },
    {
     "name": "stdout",
     "output_type": "stream",
     "text": [
      "0607.png\n"
     ]
    },
    {
     "name": "stderr",
     "output_type": "stream",
     "text": [
      "/home/sh38/anaconda3/envs/proGAN_tf/lib/python3.6/site-packages/ipykernel_launcher.py:28: UserWarning: /home/sh38/segmentation_models/phase_cells/data/cell_cycle_down2/train_masks/0607.png is a low contrast image\n"
     ]
    },
    {
     "name": "stdout",
     "output_type": "stream",
     "text": [
      "0753.png\n"
     ]
    },
    {
     "name": "stderr",
     "output_type": "stream",
     "text": [
      "/home/sh38/anaconda3/envs/proGAN_tf/lib/python3.6/site-packages/ipykernel_launcher.py:28: UserWarning: /home/sh38/segmentation_models/phase_cells/data/cell_cycle_down2/train_masks/0753.png is a low contrast image\n",
      "/home/sh38/anaconda3/envs/proGAN_tf/lib/python3.6/site-packages/ipykernel_launcher.py:28: UserWarning: /home/sh38/segmentation_models/phase_cells/data/cell_cycle_down2/train_images/0705.png is a low contrast image\n"
     ]
    },
    {
     "name": "stdout",
     "output_type": "stream",
     "text": [
      "0705.png\n"
     ]
    },
    {
     "name": "stderr",
     "output_type": "stream",
     "text": [
      "/home/sh38/anaconda3/envs/proGAN_tf/lib/python3.6/site-packages/ipykernel_launcher.py:28: UserWarning: /home/sh38/segmentation_models/phase_cells/data/cell_cycle_down2/train_masks/0705.png is a low contrast image\n"
     ]
    },
    {
     "name": "stdout",
     "output_type": "stream",
     "text": [
      "0860.png\n"
     ]
    },
    {
     "name": "stderr",
     "output_type": "stream",
     "text": [
      "/home/sh38/anaconda3/envs/proGAN_tf/lib/python3.6/site-packages/ipykernel_launcher.py:28: UserWarning: /home/sh38/segmentation_models/phase_cells/data/cell_cycle_down2/train_masks/0860.png is a low contrast image\n"
     ]
    },
    {
     "name": "stdout",
     "output_type": "stream",
     "text": [
      "0210.png\n"
     ]
    },
    {
     "name": "stderr",
     "output_type": "stream",
     "text": [
      "/home/sh38/anaconda3/envs/proGAN_tf/lib/python3.6/site-packages/ipykernel_launcher.py:28: UserWarning: /home/sh38/segmentation_models/phase_cells/data/cell_cycle_down2/train_masks/0210.png is a low contrast image\n"
     ]
    },
    {
     "name": "stdout",
     "output_type": "stream",
     "text": [
      "0118.png\n"
     ]
    },
    {
     "name": "stderr",
     "output_type": "stream",
     "text": [
      "/home/sh38/anaconda3/envs/proGAN_tf/lib/python3.6/site-packages/ipykernel_launcher.py:28: UserWarning: /home/sh38/segmentation_models/phase_cells/data/cell_cycle_down2/train_masks/0118.png is a low contrast image\n"
     ]
    },
    {
     "name": "stdout",
     "output_type": "stream",
     "text": [
      "0009.png\n"
     ]
    },
    {
     "name": "stderr",
     "output_type": "stream",
     "text": [
      "/home/sh38/anaconda3/envs/proGAN_tf/lib/python3.6/site-packages/ipykernel_launcher.py:28: UserWarning: /home/sh38/segmentation_models/phase_cells/data/cell_cycle_down2/train_masks/0009.png is a low contrast image\n"
     ]
    },
    {
     "name": "stdout",
     "output_type": "stream",
     "text": [
      "0290.png\n"
     ]
    },
    {
     "name": "stderr",
     "output_type": "stream",
     "text": [
      "/home/sh38/anaconda3/envs/proGAN_tf/lib/python3.6/site-packages/ipykernel_launcher.py:28: UserWarning: /home/sh38/segmentation_models/phase_cells/data/cell_cycle_down2/train_masks/0290.png is a low contrast image\n"
     ]
    },
    {
     "name": "stdout",
     "output_type": "stream",
     "text": [
      "0477.png\n"
     ]
    },
    {
     "name": "stderr",
     "output_type": "stream",
     "text": [
      "/home/sh38/anaconda3/envs/proGAN_tf/lib/python3.6/site-packages/ipykernel_launcher.py:28: UserWarning: /home/sh38/segmentation_models/phase_cells/data/cell_cycle_down2/train_masks/0477.png is a low contrast image\n"
     ]
    },
    {
     "name": "stdout",
     "output_type": "stream",
     "text": [
      "0246.png\n"
     ]
    },
    {
     "name": "stderr",
     "output_type": "stream",
     "text": [
      "/home/sh38/anaconda3/envs/proGAN_tf/lib/python3.6/site-packages/ipykernel_launcher.py:28: UserWarning: /home/sh38/segmentation_models/phase_cells/data/cell_cycle_down2/train_masks/0246.png is a low contrast image\n"
     ]
    },
    {
     "name": "stdout",
     "output_type": "stream",
     "text": [
      "0416.png\n"
     ]
    },
    {
     "name": "stderr",
     "output_type": "stream",
     "text": [
      "/home/sh38/anaconda3/envs/proGAN_tf/lib/python3.6/site-packages/ipykernel_launcher.py:28: UserWarning: /home/sh38/segmentation_models/phase_cells/data/cell_cycle_down2/train_masks/0416.png is a low contrast image\n"
     ]
    },
    {
     "name": "stdout",
     "output_type": "stream",
     "text": [
      "0330.png\n"
     ]
    },
    {
     "name": "stderr",
     "output_type": "stream",
     "text": [
      "/home/sh38/anaconda3/envs/proGAN_tf/lib/python3.6/site-packages/ipykernel_launcher.py:28: UserWarning: /home/sh38/segmentation_models/phase_cells/data/cell_cycle_down2/train_masks/0330.png is a low contrast image\n",
      "/home/sh38/anaconda3/envs/proGAN_tf/lib/python3.6/site-packages/ipykernel_launcher.py:28: UserWarning: /home/sh38/segmentation_models/phase_cells/data/cell_cycle_down2/train_images/0351.png is a low contrast image\n"
     ]
    },
    {
     "name": "stdout",
     "output_type": "stream",
     "text": [
      "0351.png\n"
     ]
    },
    {
     "name": "stderr",
     "output_type": "stream",
     "text": [
      "/home/sh38/anaconda3/envs/proGAN_tf/lib/python3.6/site-packages/ipykernel_launcher.py:28: UserWarning: /home/sh38/segmentation_models/phase_cells/data/cell_cycle_down2/train_masks/0351.png is a low contrast image\n"
     ]
    },
    {
     "name": "stdout",
     "output_type": "stream",
     "text": [
      "0221.png\n"
     ]
    },
    {
     "name": "stderr",
     "output_type": "stream",
     "text": [
      "/home/sh38/anaconda3/envs/proGAN_tf/lib/python3.6/site-packages/ipykernel_launcher.py:28: UserWarning: /home/sh38/segmentation_models/phase_cells/data/cell_cycle_down2/train_masks/0221.png is a low contrast image\n"
     ]
    },
    {
     "name": "stdout",
     "output_type": "stream",
     "text": [
      "0113.png\n"
     ]
    },
    {
     "name": "stderr",
     "output_type": "stream",
     "text": [
      "/home/sh38/anaconda3/envs/proGAN_tf/lib/python3.6/site-packages/ipykernel_launcher.py:28: UserWarning: /home/sh38/segmentation_models/phase_cells/data/cell_cycle_down2/train_masks/0113.png is a low contrast image\n"
     ]
    },
    {
     "name": "stdout",
     "output_type": "stream",
     "text": [
      "0861.png\n"
     ]
    },
    {
     "name": "stderr",
     "output_type": "stream",
     "text": [
      "/home/sh38/anaconda3/envs/proGAN_tf/lib/python3.6/site-packages/ipykernel_launcher.py:28: UserWarning: /home/sh38/segmentation_models/phase_cells/data/cell_cycle_down2/train_masks/0861.png is a low contrast image\n"
     ]
    },
    {
     "name": "stdout",
     "output_type": "stream",
     "text": [
      "0203.png\n"
     ]
    },
    {
     "name": "stderr",
     "output_type": "stream",
     "text": [
      "/home/sh38/anaconda3/envs/proGAN_tf/lib/python3.6/site-packages/ipykernel_launcher.py:28: UserWarning: /home/sh38/segmentation_models/phase_cells/data/cell_cycle_down2/train_masks/0203.png is a low contrast image\n"
     ]
    },
    {
     "name": "stdout",
     "output_type": "stream",
     "text": [
      "0094.png\n"
     ]
    },
    {
     "name": "stderr",
     "output_type": "stream",
     "text": [
      "/home/sh38/anaconda3/envs/proGAN_tf/lib/python3.6/site-packages/ipykernel_launcher.py:28: UserWarning: /home/sh38/segmentation_models/phase_cells/data/cell_cycle_down2/train_masks/0094.png is a low contrast image\n"
     ]
    },
    {
     "name": "stdout",
     "output_type": "stream",
     "text": [
      "0199.png\n"
     ]
    },
    {
     "name": "stderr",
     "output_type": "stream",
     "text": [
      "/home/sh38/anaconda3/envs/proGAN_tf/lib/python3.6/site-packages/ipykernel_launcher.py:28: UserWarning: /home/sh38/segmentation_models/phase_cells/data/cell_cycle_down2/train_masks/0199.png is a low contrast image\n"
     ]
    },
    {
     "name": "stdout",
     "output_type": "stream",
     "text": [
      "0191.png\n"
     ]
    },
    {
     "name": "stderr",
     "output_type": "stream",
     "text": [
      "/home/sh38/anaconda3/envs/proGAN_tf/lib/python3.6/site-packages/ipykernel_launcher.py:28: UserWarning: /home/sh38/segmentation_models/phase_cells/data/cell_cycle_down2/train_masks/0191.png is a low contrast image\n"
     ]
    },
    {
     "name": "stdout",
     "output_type": "stream",
     "text": [
      "0797.png\n"
     ]
    },
    {
     "name": "stderr",
     "output_type": "stream",
     "text": [
      "/home/sh38/anaconda3/envs/proGAN_tf/lib/python3.6/site-packages/ipykernel_launcher.py:28: UserWarning: /home/sh38/segmentation_models/phase_cells/data/cell_cycle_down2/train_masks/0797.png is a low contrast image\n"
     ]
    },
    {
     "name": "stdout",
     "output_type": "stream",
     "text": [
      "0580.png\n"
     ]
    },
    {
     "name": "stderr",
     "output_type": "stream",
     "text": [
      "/home/sh38/anaconda3/envs/proGAN_tf/lib/python3.6/site-packages/ipykernel_launcher.py:28: UserWarning: /home/sh38/segmentation_models/phase_cells/data/cell_cycle_down2/train_masks/0580.png is a low contrast image\n"
     ]
    },
    {
     "name": "stdout",
     "output_type": "stream",
     "text": [
      "0573.png\n"
     ]
    },
    {
     "name": "stderr",
     "output_type": "stream",
     "text": [
      "/home/sh38/anaconda3/envs/proGAN_tf/lib/python3.6/site-packages/ipykernel_launcher.py:28: UserWarning: /home/sh38/segmentation_models/phase_cells/data/cell_cycle_down2/train_masks/0573.png is a low contrast image\n"
     ]
    },
    {
     "name": "stdout",
     "output_type": "stream",
     "text": [
      "0829.png\n"
     ]
    },
    {
     "name": "stderr",
     "output_type": "stream",
     "text": [
      "/home/sh38/anaconda3/envs/proGAN_tf/lib/python3.6/site-packages/ipykernel_launcher.py:28: UserWarning: /home/sh38/segmentation_models/phase_cells/data/cell_cycle_down2/train_masks/0829.png is a low contrast image\n"
     ]
    },
    {
     "name": "stdout",
     "output_type": "stream",
     "text": [
      "0350.png\n"
     ]
    },
    {
     "name": "stderr",
     "output_type": "stream",
     "text": [
      "/home/sh38/anaconda3/envs/proGAN_tf/lib/python3.6/site-packages/ipykernel_launcher.py:28: UserWarning: /home/sh38/segmentation_models/phase_cells/data/cell_cycle_down2/train_masks/0350.png is a low contrast image\n"
     ]
    },
    {
     "name": "stdout",
     "output_type": "stream",
     "text": [
      "0708.png\n"
     ]
    },
    {
     "name": "stderr",
     "output_type": "stream",
     "text": [
      "/home/sh38/anaconda3/envs/proGAN_tf/lib/python3.6/site-packages/ipykernel_launcher.py:28: UserWarning: /home/sh38/segmentation_models/phase_cells/data/cell_cycle_down2/train_masks/0708.png is a low contrast image\n"
     ]
    },
    {
     "name": "stdout",
     "output_type": "stream",
     "text": [
      "0512.png\n"
     ]
    },
    {
     "name": "stderr",
     "output_type": "stream",
     "text": [
      "/home/sh38/anaconda3/envs/proGAN_tf/lib/python3.6/site-packages/ipykernel_launcher.py:28: UserWarning: /home/sh38/segmentation_models/phase_cells/data/cell_cycle_down2/train_masks/0512.png is a low contrast image\n"
     ]
    },
    {
     "name": "stdout",
     "output_type": "stream",
     "text": [
      "0040.png\n"
     ]
    },
    {
     "name": "stderr",
     "output_type": "stream",
     "text": [
      "/home/sh38/anaconda3/envs/proGAN_tf/lib/python3.6/site-packages/ipykernel_launcher.py:28: UserWarning: /home/sh38/segmentation_models/phase_cells/data/cell_cycle_down2/train_masks/0040.png is a low contrast image\n"
     ]
    },
    {
     "name": "stdout",
     "output_type": "stream",
     "text": [
      "0041.png\n"
     ]
    },
    {
     "name": "stderr",
     "output_type": "stream",
     "text": [
      "/home/sh38/anaconda3/envs/proGAN_tf/lib/python3.6/site-packages/ipykernel_launcher.py:28: UserWarning: /home/sh38/segmentation_models/phase_cells/data/cell_cycle_down2/train_masks/0041.png is a low contrast image\n"
     ]
    },
    {
     "name": "stdout",
     "output_type": "stream",
     "text": [
      "0181.png\n"
     ]
    },
    {
     "name": "stderr",
     "output_type": "stream",
     "text": [
      "/home/sh38/anaconda3/envs/proGAN_tf/lib/python3.6/site-packages/ipykernel_launcher.py:28: UserWarning: /home/sh38/segmentation_models/phase_cells/data/cell_cycle_down2/train_masks/0181.png is a low contrast image\n"
     ]
    },
    {
     "name": "stdout",
     "output_type": "stream",
     "text": [
      "0075.png\n"
     ]
    },
    {
     "name": "stderr",
     "output_type": "stream",
     "text": [
      "/home/sh38/anaconda3/envs/proGAN_tf/lib/python3.6/site-packages/ipykernel_launcher.py:28: UserWarning: /home/sh38/segmentation_models/phase_cells/data/cell_cycle_down2/train_masks/0075.png is a low contrast image\n"
     ]
    },
    {
     "name": "stdout",
     "output_type": "stream",
     "text": [
      "0421.png\n"
     ]
    },
    {
     "name": "stderr",
     "output_type": "stream",
     "text": [
      "/home/sh38/anaconda3/envs/proGAN_tf/lib/python3.6/site-packages/ipykernel_launcher.py:28: UserWarning: /home/sh38/segmentation_models/phase_cells/data/cell_cycle_down2/train_masks/0421.png is a low contrast image\n",
      "/home/sh38/anaconda3/envs/proGAN_tf/lib/python3.6/site-packages/ipykernel_launcher.py:28: UserWarning: /home/sh38/segmentation_models/phase_cells/data/cell_cycle_down2/train_images/0008.png is a low contrast image\n"
     ]
    },
    {
     "name": "stdout",
     "output_type": "stream",
     "text": [
      "0008.png\n"
     ]
    },
    {
     "name": "stderr",
     "output_type": "stream",
     "text": [
      "/home/sh38/anaconda3/envs/proGAN_tf/lib/python3.6/site-packages/ipykernel_launcher.py:28: UserWarning: /home/sh38/segmentation_models/phase_cells/data/cell_cycle_down2/train_masks/0008.png is a low contrast image\n"
     ]
    },
    {
     "name": "stdout",
     "output_type": "stream",
     "text": [
      "0184.png\n"
     ]
    },
    {
     "name": "stderr",
     "output_type": "stream",
     "text": [
      "/home/sh38/anaconda3/envs/proGAN_tf/lib/python3.6/site-packages/ipykernel_launcher.py:28: UserWarning: /home/sh38/segmentation_models/phase_cells/data/cell_cycle_down2/train_masks/0184.png is a low contrast image\n"
     ]
    },
    {
     "name": "stdout",
     "output_type": "stream",
     "text": [
      "0101.png\n"
     ]
    },
    {
     "name": "stderr",
     "output_type": "stream",
     "text": [
      "/home/sh38/anaconda3/envs/proGAN_tf/lib/python3.6/site-packages/ipykernel_launcher.py:28: UserWarning: /home/sh38/segmentation_models/phase_cells/data/cell_cycle_down2/train_masks/0101.png is a low contrast image\n"
     ]
    },
    {
     "name": "stdout",
     "output_type": "stream",
     "text": [
      "0338.png\n"
     ]
    },
    {
     "name": "stderr",
     "output_type": "stream",
     "text": [
      "/home/sh38/anaconda3/envs/proGAN_tf/lib/python3.6/site-packages/ipykernel_launcher.py:28: UserWarning: /home/sh38/segmentation_models/phase_cells/data/cell_cycle_down2/train_masks/0338.png is a low contrast image\n"
     ]
    },
    {
     "name": "stdout",
     "output_type": "stream",
     "text": [
      "0546.png\n"
     ]
    },
    {
     "name": "stderr",
     "output_type": "stream",
     "text": [
      "/home/sh38/anaconda3/envs/proGAN_tf/lib/python3.6/site-packages/ipykernel_launcher.py:28: UserWarning: /home/sh38/segmentation_models/phase_cells/data/cell_cycle_down2/train_masks/0546.png is a low contrast image\n",
      "/home/sh38/anaconda3/envs/proGAN_tf/lib/python3.6/site-packages/ipykernel_launcher.py:28: UserWarning: /home/sh38/segmentation_models/phase_cells/data/cell_cycle_down2/train_images/0247.png is a low contrast image\n"
     ]
    },
    {
     "name": "stdout",
     "output_type": "stream",
     "text": [
      "0247.png\n"
     ]
    },
    {
     "name": "stderr",
     "output_type": "stream",
     "text": [
      "/home/sh38/anaconda3/envs/proGAN_tf/lib/python3.6/site-packages/ipykernel_launcher.py:28: UserWarning: /home/sh38/segmentation_models/phase_cells/data/cell_cycle_down2/train_masks/0247.png is a low contrast image\n"
     ]
    },
    {
     "name": "stdout",
     "output_type": "stream",
     "text": [
      "0096.png\n"
     ]
    },
    {
     "name": "stderr",
     "output_type": "stream",
     "text": [
      "/home/sh38/anaconda3/envs/proGAN_tf/lib/python3.6/site-packages/ipykernel_launcher.py:28: UserWarning: /home/sh38/segmentation_models/phase_cells/data/cell_cycle_down2/train_masks/0096.png is a low contrast image\n",
      "/home/sh38/anaconda3/envs/proGAN_tf/lib/python3.6/site-packages/ipykernel_launcher.py:28: UserWarning: /home/sh38/segmentation_models/phase_cells/data/cell_cycle_down2/train_images/0375.png is a low contrast image\n"
     ]
    },
    {
     "name": "stdout",
     "output_type": "stream",
     "text": [
      "0375.png\n"
     ]
    },
    {
     "name": "stderr",
     "output_type": "stream",
     "text": [
      "/home/sh38/anaconda3/envs/proGAN_tf/lib/python3.6/site-packages/ipykernel_launcher.py:28: UserWarning: /home/sh38/segmentation_models/phase_cells/data/cell_cycle_down2/train_masks/0375.png is a low contrast image\n"
     ]
    },
    {
     "name": "stdout",
     "output_type": "stream",
     "text": [
      "0631.png\n"
     ]
    },
    {
     "name": "stderr",
     "output_type": "stream",
     "text": [
      "/home/sh38/anaconda3/envs/proGAN_tf/lib/python3.6/site-packages/ipykernel_launcher.py:28: UserWarning: /home/sh38/segmentation_models/phase_cells/data/cell_cycle_down2/train_masks/0631.png is a low contrast image\n"
     ]
    },
    {
     "name": "stdout",
     "output_type": "stream",
     "text": [
      "0176.png\n"
     ]
    },
    {
     "name": "stderr",
     "output_type": "stream",
     "text": [
      "/home/sh38/anaconda3/envs/proGAN_tf/lib/python3.6/site-packages/ipykernel_launcher.py:28: UserWarning: /home/sh38/segmentation_models/phase_cells/data/cell_cycle_down2/train_masks/0176.png is a low contrast image\n"
     ]
    },
    {
     "name": "stdout",
     "output_type": "stream",
     "text": [
      "0148.png\n"
     ]
    },
    {
     "name": "stderr",
     "output_type": "stream",
     "text": [
      "/home/sh38/anaconda3/envs/proGAN_tf/lib/python3.6/site-packages/ipykernel_launcher.py:28: UserWarning: /home/sh38/segmentation_models/phase_cells/data/cell_cycle_down2/train_masks/0148.png is a low contrast image\n"
     ]
    },
    {
     "name": "stdout",
     "output_type": "stream",
     "text": [
      "0759.png\n"
     ]
    },
    {
     "name": "stderr",
     "output_type": "stream",
     "text": [
      "/home/sh38/anaconda3/envs/proGAN_tf/lib/python3.6/site-packages/ipykernel_launcher.py:28: UserWarning: /home/sh38/segmentation_models/phase_cells/data/cell_cycle_down2/train_masks/0759.png is a low contrast image\n"
     ]
    },
    {
     "name": "stdout",
     "output_type": "stream",
     "text": [
      "0194.png\n"
     ]
    },
    {
     "name": "stderr",
     "output_type": "stream",
     "text": [
      "/home/sh38/anaconda3/envs/proGAN_tf/lib/python3.6/site-packages/ipykernel_launcher.py:28: UserWarning: /home/sh38/segmentation_models/phase_cells/data/cell_cycle_down2/train_masks/0194.png is a low contrast image\n"
     ]
    },
    {
     "name": "stdout",
     "output_type": "stream",
     "text": [
      "0052.png\n"
     ]
    },
    {
     "name": "stderr",
     "output_type": "stream",
     "text": [
      "/home/sh38/anaconda3/envs/proGAN_tf/lib/python3.6/site-packages/ipykernel_launcher.py:28: UserWarning: /home/sh38/segmentation_models/phase_cells/data/cell_cycle_down2/train_masks/0052.png is a low contrast image\n"
     ]
    },
    {
     "name": "stdout",
     "output_type": "stream",
     "text": [
      "0223.png\n"
     ]
    },
    {
     "name": "stderr",
     "output_type": "stream",
     "text": [
      "/home/sh38/anaconda3/envs/proGAN_tf/lib/python3.6/site-packages/ipykernel_launcher.py:28: UserWarning: /home/sh38/segmentation_models/phase_cells/data/cell_cycle_down2/train_masks/0223.png is a low contrast image\n"
     ]
    },
    {
     "name": "stdout",
     "output_type": "stream",
     "text": [
      "0484.png\n"
     ]
    },
    {
     "name": "stderr",
     "output_type": "stream",
     "text": [
      "/home/sh38/anaconda3/envs/proGAN_tf/lib/python3.6/site-packages/ipykernel_launcher.py:28: UserWarning: /home/sh38/segmentation_models/phase_cells/data/cell_cycle_down2/train_masks/0484.png is a low contrast image\n"
     ]
    },
    {
     "name": "stdout",
     "output_type": "stream",
     "text": [
      "0814.png\n"
     ]
    },
    {
     "name": "stderr",
     "output_type": "stream",
     "text": [
      "/home/sh38/anaconda3/envs/proGAN_tf/lib/python3.6/site-packages/ipykernel_launcher.py:28: UserWarning: /home/sh38/segmentation_models/phase_cells/data/cell_cycle_down2/train_masks/0814.png is a low contrast image\n",
      "/home/sh38/anaconda3/envs/proGAN_tf/lib/python3.6/site-packages/ipykernel_launcher.py:28: UserWarning: /home/sh38/segmentation_models/phase_cells/data/cell_cycle_down2/train_images/0541.png is a low contrast image\n"
     ]
    },
    {
     "name": "stdout",
     "output_type": "stream",
     "text": [
      "0541.png\n"
     ]
    },
    {
     "name": "stderr",
     "output_type": "stream",
     "text": [
      "/home/sh38/anaconda3/envs/proGAN_tf/lib/python3.6/site-packages/ipykernel_launcher.py:28: UserWarning: /home/sh38/segmentation_models/phase_cells/data/cell_cycle_down2/train_masks/0541.png is a low contrast image\n",
      "/home/sh38/anaconda3/envs/proGAN_tf/lib/python3.6/site-packages/ipykernel_launcher.py:28: UserWarning: /home/sh38/segmentation_models/phase_cells/data/cell_cycle_down2/train_images/0215.png is a low contrast image\n"
     ]
    },
    {
     "name": "stdout",
     "output_type": "stream",
     "text": [
      "0215.png\n"
     ]
    },
    {
     "name": "stderr",
     "output_type": "stream",
     "text": [
      "/home/sh38/anaconda3/envs/proGAN_tf/lib/python3.6/site-packages/ipykernel_launcher.py:28: UserWarning: /home/sh38/segmentation_models/phase_cells/data/cell_cycle_down2/train_masks/0215.png is a low contrast image\n"
     ]
    },
    {
     "name": "stdout",
     "output_type": "stream",
     "text": [
      "0366.png\n"
     ]
    },
    {
     "name": "stderr",
     "output_type": "stream",
     "text": [
      "/home/sh38/anaconda3/envs/proGAN_tf/lib/python3.6/site-packages/ipykernel_launcher.py:28: UserWarning: /home/sh38/segmentation_models/phase_cells/data/cell_cycle_down2/train_masks/0366.png is a low contrast image\n"
     ]
    },
    {
     "name": "stdout",
     "output_type": "stream",
     "text": [
      "0129.png\n"
     ]
    },
    {
     "name": "stderr",
     "output_type": "stream",
     "text": [
      "/home/sh38/anaconda3/envs/proGAN_tf/lib/python3.6/site-packages/ipykernel_launcher.py:28: UserWarning: /home/sh38/segmentation_models/phase_cells/data/cell_cycle_down2/train_masks/0129.png is a low contrast image\n"
     ]
    },
    {
     "name": "stdout",
     "output_type": "stream",
     "text": [
      "0059.png\n"
     ]
    },
    {
     "name": "stderr",
     "output_type": "stream",
     "text": [
      "/home/sh38/anaconda3/envs/proGAN_tf/lib/python3.6/site-packages/ipykernel_launcher.py:28: UserWarning: /home/sh38/segmentation_models/phase_cells/data/cell_cycle_down2/train_masks/0059.png is a low contrast image\n"
     ]
    },
    {
     "name": "stdout",
     "output_type": "stream",
     "text": [
      "0329.png\n"
     ]
    },
    {
     "name": "stderr",
     "output_type": "stream",
     "text": [
      "/home/sh38/anaconda3/envs/proGAN_tf/lib/python3.6/site-packages/ipykernel_launcher.py:28: UserWarning: /home/sh38/segmentation_models/phase_cells/data/cell_cycle_down2/train_masks/0329.png is a low contrast image\n"
     ]
    },
    {
     "name": "stdout",
     "output_type": "stream",
     "text": [
      "0610.png\n"
     ]
    },
    {
     "name": "stderr",
     "output_type": "stream",
     "text": [
      "/home/sh38/anaconda3/envs/proGAN_tf/lib/python3.6/site-packages/ipykernel_launcher.py:28: UserWarning: /home/sh38/segmentation_models/phase_cells/data/cell_cycle_down2/train_masks/0610.png is a low contrast image\n"
     ]
    },
    {
     "name": "stdout",
     "output_type": "stream",
     "text": [
      "0323.png\n"
     ]
    },
    {
     "name": "stderr",
     "output_type": "stream",
     "text": [
      "/home/sh38/anaconda3/envs/proGAN_tf/lib/python3.6/site-packages/ipykernel_launcher.py:28: UserWarning: /home/sh38/segmentation_models/phase_cells/data/cell_cycle_down2/train_masks/0323.png is a low contrast image\n"
     ]
    },
    {
     "name": "stdout",
     "output_type": "stream",
     "text": [
      "0381.png\n"
     ]
    },
    {
     "name": "stderr",
     "output_type": "stream",
     "text": [
      "/home/sh38/anaconda3/envs/proGAN_tf/lib/python3.6/site-packages/ipykernel_launcher.py:28: UserWarning: /home/sh38/segmentation_models/phase_cells/data/cell_cycle_down2/train_masks/0381.png is a low contrast image\n"
     ]
    },
    {
     "name": "stdout",
     "output_type": "stream",
     "text": [
      "0564.png\n"
     ]
    },
    {
     "name": "stderr",
     "output_type": "stream",
     "text": [
      "/home/sh38/anaconda3/envs/proGAN_tf/lib/python3.6/site-packages/ipykernel_launcher.py:28: UserWarning: /home/sh38/segmentation_models/phase_cells/data/cell_cycle_down2/train_masks/0564.png is a low contrast image\n"
     ]
    },
    {
     "name": "stdout",
     "output_type": "stream",
     "text": [
      "0804.png\n"
     ]
    },
    {
     "name": "stderr",
     "output_type": "stream",
     "text": [
      "/home/sh38/anaconda3/envs/proGAN_tf/lib/python3.6/site-packages/ipykernel_launcher.py:28: UserWarning: /home/sh38/segmentation_models/phase_cells/data/cell_cycle_down2/train_masks/0804.png is a low contrast image\n"
     ]
    },
    {
     "name": "stdout",
     "output_type": "stream",
     "text": [
      "0450.png\n"
     ]
    },
    {
     "name": "stderr",
     "output_type": "stream",
     "text": [
      "/home/sh38/anaconda3/envs/proGAN_tf/lib/python3.6/site-packages/ipykernel_launcher.py:28: UserWarning: /home/sh38/segmentation_models/phase_cells/data/cell_cycle_down2/train_masks/0450.png is a low contrast image\n"
     ]
    },
    {
     "name": "stdout",
     "output_type": "stream",
     "text": [
      "0255.png\n"
     ]
    },
    {
     "name": "stderr",
     "output_type": "stream",
     "text": [
      "/home/sh38/anaconda3/envs/proGAN_tf/lib/python3.6/site-packages/ipykernel_launcher.py:28: UserWarning: /home/sh38/segmentation_models/phase_cells/data/cell_cycle_down2/train_masks/0255.png is a low contrast image\n"
     ]
    },
    {
     "name": "stdout",
     "output_type": "stream",
     "text": [
      "0039.png\n"
     ]
    },
    {
     "name": "stderr",
     "output_type": "stream",
     "text": [
      "/home/sh38/anaconda3/envs/proGAN_tf/lib/python3.6/site-packages/ipykernel_launcher.py:28: UserWarning: /home/sh38/segmentation_models/phase_cells/data/cell_cycle_down2/train_masks/0039.png is a low contrast image\n"
     ]
    },
    {
     "name": "stdout",
     "output_type": "stream",
     "text": [
      "0764.png\n"
     ]
    },
    {
     "name": "stderr",
     "output_type": "stream",
     "text": [
      "/home/sh38/anaconda3/envs/proGAN_tf/lib/python3.6/site-packages/ipykernel_launcher.py:28: UserWarning: /home/sh38/segmentation_models/phase_cells/data/cell_cycle_down2/train_masks/0764.png is a low contrast image\n"
     ]
    },
    {
     "name": "stdout",
     "output_type": "stream",
     "text": [
      "0333.png\n"
     ]
    },
    {
     "name": "stderr",
     "output_type": "stream",
     "text": [
      "/home/sh38/anaconda3/envs/proGAN_tf/lib/python3.6/site-packages/ipykernel_launcher.py:28: UserWarning: /home/sh38/segmentation_models/phase_cells/data/cell_cycle_down2/train_masks/0333.png is a low contrast image\n"
     ]
    },
    {
     "name": "stdout",
     "output_type": "stream",
     "text": [
      "0135.png\n"
     ]
    },
    {
     "name": "stderr",
     "output_type": "stream",
     "text": [
      "/home/sh38/anaconda3/envs/proGAN_tf/lib/python3.6/site-packages/ipykernel_launcher.py:28: UserWarning: /home/sh38/segmentation_models/phase_cells/data/cell_cycle_down2/train_masks/0135.png is a low contrast image\n"
     ]
    },
    {
     "name": "stdout",
     "output_type": "stream",
     "text": [
      "0619.png\n"
     ]
    },
    {
     "name": "stderr",
     "output_type": "stream",
     "text": [
      "/home/sh38/anaconda3/envs/proGAN_tf/lib/python3.6/site-packages/ipykernel_launcher.py:28: UserWarning: /home/sh38/segmentation_models/phase_cells/data/cell_cycle_down2/train_masks/0619.png is a low contrast image\n"
     ]
    },
    {
     "name": "stdout",
     "output_type": "stream",
     "text": [
      "0260.png\n"
     ]
    },
    {
     "name": "stderr",
     "output_type": "stream",
     "text": [
      "/home/sh38/anaconda3/envs/proGAN_tf/lib/python3.6/site-packages/ipykernel_launcher.py:28: UserWarning: /home/sh38/segmentation_models/phase_cells/data/cell_cycle_down2/train_masks/0260.png is a low contrast image\n",
      "/home/sh38/anaconda3/envs/proGAN_tf/lib/python3.6/site-packages/ipykernel_launcher.py:28: UserWarning: /home/sh38/segmentation_models/phase_cells/data/cell_cycle_down2/train_images/0345.png is a low contrast image\n"
     ]
    },
    {
     "name": "stdout",
     "output_type": "stream",
     "text": [
      "0345.png\n"
     ]
    },
    {
     "name": "stderr",
     "output_type": "stream",
     "text": [
      "/home/sh38/anaconda3/envs/proGAN_tf/lib/python3.6/site-packages/ipykernel_launcher.py:28: UserWarning: /home/sh38/segmentation_models/phase_cells/data/cell_cycle_down2/train_masks/0345.png is a low contrast image\n"
     ]
    },
    {
     "name": "stdout",
     "output_type": "stream",
     "text": [
      "0204.png\n"
     ]
    },
    {
     "name": "stderr",
     "output_type": "stream",
     "text": [
      "/home/sh38/anaconda3/envs/proGAN_tf/lib/python3.6/site-packages/ipykernel_launcher.py:28: UserWarning: /home/sh38/segmentation_models/phase_cells/data/cell_cycle_down2/train_masks/0204.png is a low contrast image\n"
     ]
    },
    {
     "name": "stdout",
     "output_type": "stream",
     "text": [
      "0651.png\n"
     ]
    },
    {
     "name": "stderr",
     "output_type": "stream",
     "text": [
      "/home/sh38/anaconda3/envs/proGAN_tf/lib/python3.6/site-packages/ipykernel_launcher.py:28: UserWarning: /home/sh38/segmentation_models/phase_cells/data/cell_cycle_down2/train_masks/0651.png is a low contrast image\n"
     ]
    },
    {
     "name": "stdout",
     "output_type": "stream",
     "text": [
      "0123.png\n"
     ]
    },
    {
     "name": "stderr",
     "output_type": "stream",
     "text": [
      "/home/sh38/anaconda3/envs/proGAN_tf/lib/python3.6/site-packages/ipykernel_launcher.py:28: UserWarning: /home/sh38/segmentation_models/phase_cells/data/cell_cycle_down2/train_masks/0123.png is a low contrast image\n"
     ]
    },
    {
     "name": "stdout",
     "output_type": "stream",
     "text": [
      "0062.png\n"
     ]
    },
    {
     "name": "stderr",
     "output_type": "stream",
     "text": [
      "/home/sh38/anaconda3/envs/proGAN_tf/lib/python3.6/site-packages/ipykernel_launcher.py:28: UserWarning: /home/sh38/segmentation_models/phase_cells/data/cell_cycle_down2/train_masks/0062.png is a low contrast image\n"
     ]
    },
    {
     "name": "stdout",
     "output_type": "stream",
     "text": [
      "0322.png\n"
     ]
    },
    {
     "name": "stderr",
     "output_type": "stream",
     "text": [
      "/home/sh38/anaconda3/envs/proGAN_tf/lib/python3.6/site-packages/ipykernel_launcher.py:28: UserWarning: /home/sh38/segmentation_models/phase_cells/data/cell_cycle_down2/train_masks/0322.png is a low contrast image\n"
     ]
    },
    {
     "name": "stdout",
     "output_type": "stream",
     "text": [
      "0258.png\n"
     ]
    },
    {
     "name": "stderr",
     "output_type": "stream",
     "text": [
      "/home/sh38/anaconda3/envs/proGAN_tf/lib/python3.6/site-packages/ipykernel_launcher.py:28: UserWarning: /home/sh38/segmentation_models/phase_cells/data/cell_cycle_down2/train_masks/0258.png is a low contrast image\n"
     ]
    },
    {
     "name": "stdout",
     "output_type": "stream",
     "text": [
      "0145.png\n"
     ]
    },
    {
     "name": "stderr",
     "output_type": "stream",
     "text": [
      "/home/sh38/anaconda3/envs/proGAN_tf/lib/python3.6/site-packages/ipykernel_launcher.py:28: UserWarning: /home/sh38/segmentation_models/phase_cells/data/cell_cycle_down2/train_masks/0145.png is a low contrast image\n"
     ]
    },
    {
     "name": "stdout",
     "output_type": "stream",
     "text": [
      "0716.png\n"
     ]
    },
    {
     "name": "stderr",
     "output_type": "stream",
     "text": [
      "/home/sh38/anaconda3/envs/proGAN_tf/lib/python3.6/site-packages/ipykernel_launcher.py:28: UserWarning: /home/sh38/segmentation_models/phase_cells/data/cell_cycle_down2/train_masks/0716.png is a low contrast image\n",
      "/home/sh38/anaconda3/envs/proGAN_tf/lib/python3.6/site-packages/ipykernel_launcher.py:28: UserWarning: /home/sh38/segmentation_models/phase_cells/data/cell_cycle_down2/train_images/0677.png is a low contrast image\n"
     ]
    },
    {
     "name": "stdout",
     "output_type": "stream",
     "text": [
      "0677.png\n"
     ]
    },
    {
     "name": "stderr",
     "output_type": "stream",
     "text": [
      "/home/sh38/anaconda3/envs/proGAN_tf/lib/python3.6/site-packages/ipykernel_launcher.py:28: UserWarning: /home/sh38/segmentation_models/phase_cells/data/cell_cycle_down2/train_masks/0677.png is a low contrast image\n"
     ]
    },
    {
     "name": "stdout",
     "output_type": "stream",
     "text": [
      "0686.png\n"
     ]
    },
    {
     "name": "stderr",
     "output_type": "stream",
     "text": [
      "/home/sh38/anaconda3/envs/proGAN_tf/lib/python3.6/site-packages/ipykernel_launcher.py:28: UserWarning: /home/sh38/segmentation_models/phase_cells/data/cell_cycle_down2/train_masks/0686.png is a low contrast image\n"
     ]
    },
    {
     "name": "stdout",
     "output_type": "stream",
     "text": [
      "0426.png\n"
     ]
    },
    {
     "name": "stderr",
     "output_type": "stream",
     "text": [
      "/home/sh38/anaconda3/envs/proGAN_tf/lib/python3.6/site-packages/ipykernel_launcher.py:28: UserWarning: /home/sh38/segmentation_models/phase_cells/data/cell_cycle_down2/train_masks/0426.png is a low contrast image\n"
     ]
    },
    {
     "name": "stdout",
     "output_type": "stream",
     "text": [
      "0503.png\n"
     ]
    },
    {
     "name": "stderr",
     "output_type": "stream",
     "text": [
      "/home/sh38/anaconda3/envs/proGAN_tf/lib/python3.6/site-packages/ipykernel_launcher.py:28: UserWarning: /home/sh38/segmentation_models/phase_cells/data/cell_cycle_down2/train_masks/0503.png is a low contrast image\n"
     ]
    },
    {
     "name": "stdout",
     "output_type": "stream",
     "text": [
      "0713.png\n"
     ]
    },
    {
     "name": "stderr",
     "output_type": "stream",
     "text": [
      "/home/sh38/anaconda3/envs/proGAN_tf/lib/python3.6/site-packages/ipykernel_launcher.py:28: UserWarning: /home/sh38/segmentation_models/phase_cells/data/cell_cycle_down2/train_masks/0713.png is a low contrast image\n"
     ]
    },
    {
     "name": "stdout",
     "output_type": "stream",
     "text": [
      "0562.png\n"
     ]
    },
    {
     "name": "stderr",
     "output_type": "stream",
     "text": [
      "/home/sh38/anaconda3/envs/proGAN_tf/lib/python3.6/site-packages/ipykernel_launcher.py:28: UserWarning: /home/sh38/segmentation_models/phase_cells/data/cell_cycle_down2/train_masks/0562.png is a low contrast image\n"
     ]
    },
    {
     "name": "stdout",
     "output_type": "stream",
     "text": [
      "0427.png\n"
     ]
    },
    {
     "name": "stderr",
     "output_type": "stream",
     "text": [
      "/home/sh38/anaconda3/envs/proGAN_tf/lib/python3.6/site-packages/ipykernel_launcher.py:28: UserWarning: /home/sh38/segmentation_models/phase_cells/data/cell_cycle_down2/train_masks/0427.png is a low contrast image\n",
      "/home/sh38/anaconda3/envs/proGAN_tf/lib/python3.6/site-packages/ipykernel_launcher.py:28: UserWarning: /home/sh38/segmentation_models/phase_cells/data/cell_cycle_down2/train_images/0394.png is a low contrast image\n"
     ]
    },
    {
     "name": "stdout",
     "output_type": "stream",
     "text": [
      "0394.png\n"
     ]
    },
    {
     "name": "stderr",
     "output_type": "stream",
     "text": [
      "/home/sh38/anaconda3/envs/proGAN_tf/lib/python3.6/site-packages/ipykernel_launcher.py:28: UserWarning: /home/sh38/segmentation_models/phase_cells/data/cell_cycle_down2/train_masks/0394.png is a low contrast image\n"
     ]
    },
    {
     "name": "stdout",
     "output_type": "stream",
     "text": [
      "0514.png\n"
     ]
    },
    {
     "name": "stderr",
     "output_type": "stream",
     "text": [
      "/home/sh38/anaconda3/envs/proGAN_tf/lib/python3.6/site-packages/ipykernel_launcher.py:28: UserWarning: /home/sh38/segmentation_models/phase_cells/data/cell_cycle_down2/train_masks/0514.png is a low contrast image\n"
     ]
    },
    {
     "name": "stdout",
     "output_type": "stream",
     "text": [
      "0401.png\n"
     ]
    },
    {
     "name": "stderr",
     "output_type": "stream",
     "text": [
      "/home/sh38/anaconda3/envs/proGAN_tf/lib/python3.6/site-packages/ipykernel_launcher.py:28: UserWarning: /home/sh38/segmentation_models/phase_cells/data/cell_cycle_down2/train_masks/0401.png is a low contrast image\n"
     ]
    },
    {
     "name": "stdout",
     "output_type": "stream",
     "text": [
      "0418.png\n"
     ]
    },
    {
     "name": "stderr",
     "output_type": "stream",
     "text": [
      "/home/sh38/anaconda3/envs/proGAN_tf/lib/python3.6/site-packages/ipykernel_launcher.py:28: UserWarning: /home/sh38/segmentation_models/phase_cells/data/cell_cycle_down2/train_masks/0418.png is a low contrast image\n"
     ]
    },
    {
     "name": "stdout",
     "output_type": "stream",
     "text": [
      "0604.png\n"
     ]
    },
    {
     "name": "stderr",
     "output_type": "stream",
     "text": [
      "/home/sh38/anaconda3/envs/proGAN_tf/lib/python3.6/site-packages/ipykernel_launcher.py:28: UserWarning: /home/sh38/segmentation_models/phase_cells/data/cell_cycle_down2/train_masks/0604.png is a low contrast image\n"
     ]
    },
    {
     "name": "stdout",
     "output_type": "stream",
     "text": [
      "0124.png\n"
     ]
    },
    {
     "name": "stderr",
     "output_type": "stream",
     "text": [
      "/home/sh38/anaconda3/envs/proGAN_tf/lib/python3.6/site-packages/ipykernel_launcher.py:28: UserWarning: /home/sh38/segmentation_models/phase_cells/data/cell_cycle_down2/train_masks/0124.png is a low contrast image\n"
     ]
    },
    {
     "name": "stdout",
     "output_type": "stream",
     "text": [
      "0565.png\n"
     ]
    },
    {
     "name": "stderr",
     "output_type": "stream",
     "text": [
      "/home/sh38/anaconda3/envs/proGAN_tf/lib/python3.6/site-packages/ipykernel_launcher.py:28: UserWarning: /home/sh38/segmentation_models/phase_cells/data/cell_cycle_down2/train_masks/0565.png is a low contrast image\n"
     ]
    },
    {
     "name": "stdout",
     "output_type": "stream",
     "text": [
      "0869.png\n"
     ]
    },
    {
     "name": "stderr",
     "output_type": "stream",
     "text": [
      "/home/sh38/anaconda3/envs/proGAN_tf/lib/python3.6/site-packages/ipykernel_launcher.py:28: UserWarning: /home/sh38/segmentation_models/phase_cells/data/cell_cycle_down2/train_masks/0869.png is a low contrast image\n"
     ]
    },
    {
     "name": "stdout",
     "output_type": "stream",
     "text": [
      "0487.png\n"
     ]
    },
    {
     "name": "stderr",
     "output_type": "stream",
     "text": [
      "/home/sh38/anaconda3/envs/proGAN_tf/lib/python3.6/site-packages/ipykernel_launcher.py:28: UserWarning: /home/sh38/segmentation_models/phase_cells/data/cell_cycle_down2/train_masks/0487.png is a low contrast image\n"
     ]
    },
    {
     "name": "stdout",
     "output_type": "stream",
     "text": [
      "0356.png\n"
     ]
    },
    {
     "name": "stderr",
     "output_type": "stream",
     "text": [
      "/home/sh38/anaconda3/envs/proGAN_tf/lib/python3.6/site-packages/ipykernel_launcher.py:28: UserWarning: /home/sh38/segmentation_models/phase_cells/data/cell_cycle_down2/train_masks/0356.png is a low contrast image\n"
     ]
    },
    {
     "name": "stdout",
     "output_type": "stream",
     "text": [
      "0606.png\n"
     ]
    },
    {
     "name": "stderr",
     "output_type": "stream",
     "text": [
      "/home/sh38/anaconda3/envs/proGAN_tf/lib/python3.6/site-packages/ipykernel_launcher.py:28: UserWarning: /home/sh38/segmentation_models/phase_cells/data/cell_cycle_down2/train_masks/0606.png is a low contrast image\n"
     ]
    },
    {
     "name": "stdout",
     "output_type": "stream",
     "text": [
      "0858.png\n"
     ]
    },
    {
     "name": "stderr",
     "output_type": "stream",
     "text": [
      "/home/sh38/anaconda3/envs/proGAN_tf/lib/python3.6/site-packages/ipykernel_launcher.py:28: UserWarning: /home/sh38/segmentation_models/phase_cells/data/cell_cycle_down2/train_masks/0858.png is a low contrast image\n",
      "/home/sh38/anaconda3/envs/proGAN_tf/lib/python3.6/site-packages/ipykernel_launcher.py:28: UserWarning: /home/sh38/segmentation_models/phase_cells/data/cell_cycle_down2/train_images/0572.png is a low contrast image\n"
     ]
    },
    {
     "name": "stdout",
     "output_type": "stream",
     "text": [
      "0572.png\n"
     ]
    },
    {
     "name": "stderr",
     "output_type": "stream",
     "text": [
      "/home/sh38/anaconda3/envs/proGAN_tf/lib/python3.6/site-packages/ipykernel_launcher.py:28: UserWarning: /home/sh38/segmentation_models/phase_cells/data/cell_cycle_down2/train_masks/0572.png is a low contrast image\n"
     ]
    },
    {
     "name": "stdout",
     "output_type": "stream",
     "text": [
      "0341.png\n"
     ]
    },
    {
     "name": "stderr",
     "output_type": "stream",
     "text": [
      "/home/sh38/anaconda3/envs/proGAN_tf/lib/python3.6/site-packages/ipykernel_launcher.py:28: UserWarning: /home/sh38/segmentation_models/phase_cells/data/cell_cycle_down2/train_masks/0341.png is a low contrast image\n"
     ]
    },
    {
     "name": "stdout",
     "output_type": "stream",
     "text": [
      "0496.png\n"
     ]
    },
    {
     "name": "stderr",
     "output_type": "stream",
     "text": [
      "/home/sh38/anaconda3/envs/proGAN_tf/lib/python3.6/site-packages/ipykernel_launcher.py:28: UserWarning: /home/sh38/segmentation_models/phase_cells/data/cell_cycle_down2/train_masks/0496.png is a low contrast image\n"
     ]
    },
    {
     "name": "stdout",
     "output_type": "stream",
     "text": [
      "0818.png\n"
     ]
    },
    {
     "name": "stderr",
     "output_type": "stream",
     "text": [
      "/home/sh38/anaconda3/envs/proGAN_tf/lib/python3.6/site-packages/ipykernel_launcher.py:28: UserWarning: /home/sh38/segmentation_models/phase_cells/data/cell_cycle_down2/train_masks/0818.png is a low contrast image\n"
     ]
    },
    {
     "name": "stdout",
     "output_type": "stream",
     "text": [
      "0139.png\n"
     ]
    },
    {
     "name": "stderr",
     "output_type": "stream",
     "text": [
      "/home/sh38/anaconda3/envs/proGAN_tf/lib/python3.6/site-packages/ipykernel_launcher.py:28: UserWarning: /home/sh38/segmentation_models/phase_cells/data/cell_cycle_down2/train_masks/0139.png is a low contrast image\n"
     ]
    },
    {
     "name": "stdout",
     "output_type": "stream",
     "text": [
      "0190.png\n"
     ]
    },
    {
     "name": "stderr",
     "output_type": "stream",
     "text": [
      "/home/sh38/anaconda3/envs/proGAN_tf/lib/python3.6/site-packages/ipykernel_launcher.py:28: UserWarning: /home/sh38/segmentation_models/phase_cells/data/cell_cycle_down2/train_masks/0190.png is a low contrast image\n"
     ]
    },
    {
     "name": "stdout",
     "output_type": "stream",
     "text": [
      "0336.png\n"
     ]
    },
    {
     "name": "stderr",
     "output_type": "stream",
     "text": [
      "/home/sh38/anaconda3/envs/proGAN_tf/lib/python3.6/site-packages/ipykernel_launcher.py:28: UserWarning: /home/sh38/segmentation_models/phase_cells/data/cell_cycle_down2/train_masks/0336.png is a low contrast image\n"
     ]
    },
    {
     "name": "stdout",
     "output_type": "stream",
     "text": [
      "0399.png\n"
     ]
    },
    {
     "name": "stderr",
     "output_type": "stream",
     "text": [
      "/home/sh38/anaconda3/envs/proGAN_tf/lib/python3.6/site-packages/ipykernel_launcher.py:28: UserWarning: /home/sh38/segmentation_models/phase_cells/data/cell_cycle_down2/train_masks/0399.png is a low contrast image\n"
     ]
    },
    {
     "name": "stdout",
     "output_type": "stream",
     "text": [
      "0531.png\n"
     ]
    },
    {
     "name": "stderr",
     "output_type": "stream",
     "text": [
      "/home/sh38/anaconda3/envs/proGAN_tf/lib/python3.6/site-packages/ipykernel_launcher.py:28: UserWarning: /home/sh38/segmentation_models/phase_cells/data/cell_cycle_down2/train_masks/0531.png is a low contrast image\n",
      "/home/sh38/anaconda3/envs/proGAN_tf/lib/python3.6/site-packages/ipykernel_launcher.py:28: UserWarning: /home/sh38/segmentation_models/phase_cells/data/cell_cycle_down2/train_images/0600.png is a low contrast image\n"
     ]
    },
    {
     "name": "stdout",
     "output_type": "stream",
     "text": [
      "0600.png\n"
     ]
    },
    {
     "name": "stderr",
     "output_type": "stream",
     "text": [
      "/home/sh38/anaconda3/envs/proGAN_tf/lib/python3.6/site-packages/ipykernel_launcher.py:28: UserWarning: /home/sh38/segmentation_models/phase_cells/data/cell_cycle_down2/train_masks/0600.png is a low contrast image\n"
     ]
    },
    {
     "name": "stdout",
     "output_type": "stream",
     "text": [
      "0344.png\n"
     ]
    },
    {
     "name": "stderr",
     "output_type": "stream",
     "text": [
      "/home/sh38/anaconda3/envs/proGAN_tf/lib/python3.6/site-packages/ipykernel_launcher.py:28: UserWarning: /home/sh38/segmentation_models/phase_cells/data/cell_cycle_down2/train_masks/0344.png is a low contrast image\n"
     ]
    },
    {
     "name": "stdout",
     "output_type": "stream",
     "text": [
      "0402.png\n"
     ]
    },
    {
     "name": "stderr",
     "output_type": "stream",
     "text": [
      "/home/sh38/anaconda3/envs/proGAN_tf/lib/python3.6/site-packages/ipykernel_launcher.py:28: UserWarning: /home/sh38/segmentation_models/phase_cells/data/cell_cycle_down2/train_masks/0402.png is a low contrast image\n"
     ]
    },
    {
     "name": "stdout",
     "output_type": "stream",
     "text": [
      "0252.png\n"
     ]
    },
    {
     "name": "stderr",
     "output_type": "stream",
     "text": [
      "/home/sh38/anaconda3/envs/proGAN_tf/lib/python3.6/site-packages/ipykernel_launcher.py:28: UserWarning: /home/sh38/segmentation_models/phase_cells/data/cell_cycle_down2/train_masks/0252.png is a low contrast image\n",
      "/home/sh38/anaconda3/envs/proGAN_tf/lib/python3.6/site-packages/ipykernel_launcher.py:28: UserWarning: /home/sh38/segmentation_models/phase_cells/data/cell_cycle_down2/train_images/0082.png is a low contrast image\n"
     ]
    },
    {
     "name": "stdout",
     "output_type": "stream",
     "text": [
      "0082.png\n"
     ]
    },
    {
     "name": "stderr",
     "output_type": "stream",
     "text": [
      "/home/sh38/anaconda3/envs/proGAN_tf/lib/python3.6/site-packages/ipykernel_launcher.py:28: UserWarning: /home/sh38/segmentation_models/phase_cells/data/cell_cycle_down2/train_masks/0082.png is a low contrast image\n"
     ]
    },
    {
     "name": "stdout",
     "output_type": "stream",
     "text": [
      "0647.png\n"
     ]
    },
    {
     "name": "stderr",
     "output_type": "stream",
     "text": [
      "/home/sh38/anaconda3/envs/proGAN_tf/lib/python3.6/site-packages/ipykernel_launcher.py:28: UserWarning: /home/sh38/segmentation_models/phase_cells/data/cell_cycle_down2/train_masks/0647.png is a low contrast image\n"
     ]
    },
    {
     "name": "stdout",
     "output_type": "stream",
     "text": [
      "0739.png\n"
     ]
    },
    {
     "name": "stderr",
     "output_type": "stream",
     "text": [
      "/home/sh38/anaconda3/envs/proGAN_tf/lib/python3.6/site-packages/ipykernel_launcher.py:28: UserWarning: /home/sh38/segmentation_models/phase_cells/data/cell_cycle_down2/train_masks/0739.png is a low contrast image\n"
     ]
    },
    {
     "name": "stdout",
     "output_type": "stream",
     "text": [
      "0623.png\n"
     ]
    },
    {
     "name": "stderr",
     "output_type": "stream",
     "text": [
      "/home/sh38/anaconda3/envs/proGAN_tf/lib/python3.6/site-packages/ipykernel_launcher.py:28: UserWarning: /home/sh38/segmentation_models/phase_cells/data/cell_cycle_down2/train_masks/0623.png is a low contrast image\n"
     ]
    },
    {
     "name": "stdout",
     "output_type": "stream",
     "text": [
      "0462.png\n"
     ]
    },
    {
     "name": "stderr",
     "output_type": "stream",
     "text": [
      "/home/sh38/anaconda3/envs/proGAN_tf/lib/python3.6/site-packages/ipykernel_launcher.py:28: UserWarning: /home/sh38/segmentation_models/phase_cells/data/cell_cycle_down2/train_masks/0462.png is a low contrast image\n"
     ]
    },
    {
     "name": "stdout",
     "output_type": "stream",
     "text": [
      "0646.png\n"
     ]
    },
    {
     "name": "stderr",
     "output_type": "stream",
     "text": [
      "/home/sh38/anaconda3/envs/proGAN_tf/lib/python3.6/site-packages/ipykernel_launcher.py:28: UserWarning: /home/sh38/segmentation_models/phase_cells/data/cell_cycle_down2/train_masks/0646.png is a low contrast image\n"
     ]
    },
    {
     "name": "stdout",
     "output_type": "stream",
     "text": [
      "0369.png\n"
     ]
    },
    {
     "name": "stderr",
     "output_type": "stream",
     "text": [
      "/home/sh38/anaconda3/envs/proGAN_tf/lib/python3.6/site-packages/ipykernel_launcher.py:28: UserWarning: /home/sh38/segmentation_models/phase_cells/data/cell_cycle_down2/train_masks/0369.png is a low contrast image\n"
     ]
    },
    {
     "name": "stdout",
     "output_type": "stream",
     "text": [
      "0241.png\n"
     ]
    },
    {
     "name": "stderr",
     "output_type": "stream",
     "text": [
      "/home/sh38/anaconda3/envs/proGAN_tf/lib/python3.6/site-packages/ipykernel_launcher.py:28: UserWarning: /home/sh38/segmentation_models/phase_cells/data/cell_cycle_down2/train_masks/0241.png is a low contrast image\n"
     ]
    },
    {
     "name": "stdout",
     "output_type": "stream",
     "text": [
      "0090.png\n"
     ]
    },
    {
     "name": "stderr",
     "output_type": "stream",
     "text": [
      "/home/sh38/anaconda3/envs/proGAN_tf/lib/python3.6/site-packages/ipykernel_launcher.py:28: UserWarning: /home/sh38/segmentation_models/phase_cells/data/cell_cycle_down2/train_masks/0090.png is a low contrast image\n"
     ]
    },
    {
     "name": "stdout",
     "output_type": "stream",
     "text": [
      "0095.png\n"
     ]
    },
    {
     "name": "stderr",
     "output_type": "stream",
     "text": [
      "/home/sh38/anaconda3/envs/proGAN_tf/lib/python3.6/site-packages/ipykernel_launcher.py:28: UserWarning: /home/sh38/segmentation_models/phase_cells/data/cell_cycle_down2/train_masks/0095.png is a low contrast image\n"
     ]
    },
    {
     "name": "stdout",
     "output_type": "stream",
     "text": [
      "0542.png\n"
     ]
    },
    {
     "name": "stderr",
     "output_type": "stream",
     "text": [
      "/home/sh38/anaconda3/envs/proGAN_tf/lib/python3.6/site-packages/ipykernel_launcher.py:28: UserWarning: /home/sh38/segmentation_models/phase_cells/data/cell_cycle_down2/train_masks/0542.png is a low contrast image\n"
     ]
    },
    {
     "name": "stdout",
     "output_type": "stream",
     "text": [
      "0781.png\n"
     ]
    },
    {
     "name": "stderr",
     "output_type": "stream",
     "text": [
      "/home/sh38/anaconda3/envs/proGAN_tf/lib/python3.6/site-packages/ipykernel_launcher.py:28: UserWarning: /home/sh38/segmentation_models/phase_cells/data/cell_cycle_down2/train_masks/0781.png is a low contrast image\n"
     ]
    },
    {
     "name": "stdout",
     "output_type": "stream",
     "text": [
      "0489.png\n"
     ]
    },
    {
     "name": "stderr",
     "output_type": "stream",
     "text": [
      "/home/sh38/anaconda3/envs/proGAN_tf/lib/python3.6/site-packages/ipykernel_launcher.py:28: UserWarning: /home/sh38/segmentation_models/phase_cells/data/cell_cycle_down2/train_masks/0489.png is a low contrast image\n"
     ]
    },
    {
     "name": "stdout",
     "output_type": "stream",
     "text": [
      "0795.png\n"
     ]
    },
    {
     "name": "stderr",
     "output_type": "stream",
     "text": [
      "/home/sh38/anaconda3/envs/proGAN_tf/lib/python3.6/site-packages/ipykernel_launcher.py:28: UserWarning: /home/sh38/segmentation_models/phase_cells/data/cell_cycle_down2/train_masks/0795.png is a low contrast image\n"
     ]
    },
    {
     "name": "stdout",
     "output_type": "stream",
     "text": [
      "0560.png\n"
     ]
    },
    {
     "name": "stderr",
     "output_type": "stream",
     "text": [
      "/home/sh38/anaconda3/envs/proGAN_tf/lib/python3.6/site-packages/ipykernel_launcher.py:28: UserWarning: /home/sh38/segmentation_models/phase_cells/data/cell_cycle_down2/train_masks/0560.png is a low contrast image\n"
     ]
    },
    {
     "name": "stdout",
     "output_type": "stream",
     "text": [
      "0679.png\n"
     ]
    },
    {
     "name": "stderr",
     "output_type": "stream",
     "text": [
      "/home/sh38/anaconda3/envs/proGAN_tf/lib/python3.6/site-packages/ipykernel_launcher.py:28: UserWarning: /home/sh38/segmentation_models/phase_cells/data/cell_cycle_down2/train_masks/0679.png is a low contrast image\n"
     ]
    },
    {
     "name": "stdout",
     "output_type": "stream",
     "text": [
      "0703.png\n"
     ]
    },
    {
     "name": "stderr",
     "output_type": "stream",
     "text": [
      "/home/sh38/anaconda3/envs/proGAN_tf/lib/python3.6/site-packages/ipykernel_launcher.py:28: UserWarning: /home/sh38/segmentation_models/phase_cells/data/cell_cycle_down2/train_masks/0703.png is a low contrast image\n"
     ]
    },
    {
     "name": "stdout",
     "output_type": "stream",
     "text": [
      "0570.png\n"
     ]
    },
    {
     "name": "stderr",
     "output_type": "stream",
     "text": [
      "/home/sh38/anaconda3/envs/proGAN_tf/lib/python3.6/site-packages/ipykernel_launcher.py:28: UserWarning: /home/sh38/segmentation_models/phase_cells/data/cell_cycle_down2/train_masks/0570.png is a low contrast image\n"
     ]
    },
    {
     "name": "stdout",
     "output_type": "stream",
     "text": [
      "0235.png\n"
     ]
    },
    {
     "name": "stderr",
     "output_type": "stream",
     "text": [
      "/home/sh38/anaconda3/envs/proGAN_tf/lib/python3.6/site-packages/ipykernel_launcher.py:28: UserWarning: /home/sh38/segmentation_models/phase_cells/data/cell_cycle_down2/train_masks/0235.png is a low contrast image\n"
     ]
    },
    {
     "name": "stdout",
     "output_type": "stream",
     "text": [
      "0429.png\n"
     ]
    },
    {
     "name": "stderr",
     "output_type": "stream",
     "text": [
      "/home/sh38/anaconda3/envs/proGAN_tf/lib/python3.6/site-packages/ipykernel_launcher.py:28: UserWarning: /home/sh38/segmentation_models/phase_cells/data/cell_cycle_down2/train_masks/0429.png is a low contrast image\n"
     ]
    },
    {
     "name": "stdout",
     "output_type": "stream",
     "text": [
      "0629.png\n"
     ]
    },
    {
     "name": "stderr",
     "output_type": "stream",
     "text": [
      "/home/sh38/anaconda3/envs/proGAN_tf/lib/python3.6/site-packages/ipykernel_launcher.py:28: UserWarning: /home/sh38/segmentation_models/phase_cells/data/cell_cycle_down2/train_masks/0629.png is a low contrast image\n"
     ]
    },
    {
     "name": "stdout",
     "output_type": "stream",
     "text": [
      "0690.png\n"
     ]
    },
    {
     "name": "stderr",
     "output_type": "stream",
     "text": [
      "/home/sh38/anaconda3/envs/proGAN_tf/lib/python3.6/site-packages/ipykernel_launcher.py:28: UserWarning: /home/sh38/segmentation_models/phase_cells/data/cell_cycle_down2/train_masks/0690.png is a low contrast image\n"
     ]
    },
    {
     "name": "stdout",
     "output_type": "stream",
     "text": [
      "0141.png\n"
     ]
    },
    {
     "name": "stderr",
     "output_type": "stream",
     "text": [
      "/home/sh38/anaconda3/envs/proGAN_tf/lib/python3.6/site-packages/ipykernel_launcher.py:28: UserWarning: /home/sh38/segmentation_models/phase_cells/data/cell_cycle_down2/train_masks/0141.png is a low contrast image\n"
     ]
    },
    {
     "name": "stdout",
     "output_type": "stream",
     "text": [
      "0311.png\n"
     ]
    },
    {
     "name": "stderr",
     "output_type": "stream",
     "text": [
      "/home/sh38/anaconda3/envs/proGAN_tf/lib/python3.6/site-packages/ipykernel_launcher.py:28: UserWarning: /home/sh38/segmentation_models/phase_cells/data/cell_cycle_down2/train_masks/0311.png is a low contrast image\n"
     ]
    },
    {
     "name": "stdout",
     "output_type": "stream",
     "text": [
      "0122.png\n"
     ]
    },
    {
     "name": "stderr",
     "output_type": "stream",
     "text": [
      "/home/sh38/anaconda3/envs/proGAN_tf/lib/python3.6/site-packages/ipykernel_launcher.py:28: UserWarning: /home/sh38/segmentation_models/phase_cells/data/cell_cycle_down2/train_masks/0122.png is a low contrast image\n"
     ]
    },
    {
     "name": "stdout",
     "output_type": "stream",
     "text": [
      "0074.png\n"
     ]
    },
    {
     "name": "stderr",
     "output_type": "stream",
     "text": [
      "/home/sh38/anaconda3/envs/proGAN_tf/lib/python3.6/site-packages/ipykernel_launcher.py:28: UserWarning: /home/sh38/segmentation_models/phase_cells/data/cell_cycle_down2/train_masks/0074.png is a low contrast image\n"
     ]
    },
    {
     "name": "stdout",
     "output_type": "stream",
     "text": [
      "0098.png\n"
     ]
    },
    {
     "name": "stderr",
     "output_type": "stream",
     "text": [
      "/home/sh38/anaconda3/envs/proGAN_tf/lib/python3.6/site-packages/ipykernel_launcher.py:28: UserWarning: /home/sh38/segmentation_models/phase_cells/data/cell_cycle_down2/train_masks/0098.png is a low contrast image\n"
     ]
    },
    {
     "name": "stdout",
     "output_type": "stream",
     "text": [
      "0388.png\n"
     ]
    },
    {
     "name": "stderr",
     "output_type": "stream",
     "text": [
      "/home/sh38/anaconda3/envs/proGAN_tf/lib/python3.6/site-packages/ipykernel_launcher.py:28: UserWarning: /home/sh38/segmentation_models/phase_cells/data/cell_cycle_down2/train_masks/0388.png is a low contrast image\n"
     ]
    },
    {
     "name": "stdout",
     "output_type": "stream",
     "text": [
      "0700.png\n"
     ]
    },
    {
     "name": "stderr",
     "output_type": "stream",
     "text": [
      "/home/sh38/anaconda3/envs/proGAN_tf/lib/python3.6/site-packages/ipykernel_launcher.py:28: UserWarning: /home/sh38/segmentation_models/phase_cells/data/cell_cycle_down2/train_masks/0700.png is a low contrast image\n"
     ]
    },
    {
     "name": "stdout",
     "output_type": "stream",
     "text": [
      "0027.png\n"
     ]
    },
    {
     "name": "stderr",
     "output_type": "stream",
     "text": [
      "/home/sh38/anaconda3/envs/proGAN_tf/lib/python3.6/site-packages/ipykernel_launcher.py:28: UserWarning: /home/sh38/segmentation_models/phase_cells/data/cell_cycle_down2/train_masks/0027.png is a low contrast image\n"
     ]
    },
    {
     "name": "stdout",
     "output_type": "stream",
     "text": [
      "0587.png\n"
     ]
    },
    {
     "name": "stderr",
     "output_type": "stream",
     "text": [
      "/home/sh38/anaconda3/envs/proGAN_tf/lib/python3.6/site-packages/ipykernel_launcher.py:28: UserWarning: /home/sh38/segmentation_models/phase_cells/data/cell_cycle_down2/train_masks/0587.png is a low contrast image\n",
      "/home/sh38/anaconda3/envs/proGAN_tf/lib/python3.6/site-packages/ipykernel_launcher.py:28: UserWarning: /home/sh38/segmentation_models/phase_cells/data/cell_cycle_down2/train_images/0130.png is a low contrast image\n"
     ]
    },
    {
     "name": "stdout",
     "output_type": "stream",
     "text": [
      "0130.png\n"
     ]
    },
    {
     "name": "stderr",
     "output_type": "stream",
     "text": [
      "/home/sh38/anaconda3/envs/proGAN_tf/lib/python3.6/site-packages/ipykernel_launcher.py:28: UserWarning: /home/sh38/segmentation_models/phase_cells/data/cell_cycle_down2/train_masks/0130.png is a low contrast image\n"
     ]
    },
    {
     "name": "stdout",
     "output_type": "stream",
     "text": [
      "0859.png\n"
     ]
    },
    {
     "name": "stderr",
     "output_type": "stream",
     "text": [
      "/home/sh38/anaconda3/envs/proGAN_tf/lib/python3.6/site-packages/ipykernel_launcher.py:28: UserWarning: /home/sh38/segmentation_models/phase_cells/data/cell_cycle_down2/train_masks/0859.png is a low contrast image\n"
     ]
    },
    {
     "name": "stdout",
     "output_type": "stream",
     "text": [
      "0632.png\n"
     ]
    },
    {
     "name": "stderr",
     "output_type": "stream",
     "text": [
      "/home/sh38/anaconda3/envs/proGAN_tf/lib/python3.6/site-packages/ipykernel_launcher.py:28: UserWarning: /home/sh38/segmentation_models/phase_cells/data/cell_cycle_down2/train_masks/0632.png is a low contrast image\n"
     ]
    },
    {
     "name": "stdout",
     "output_type": "stream",
     "text": [
      "0150.png\n"
     ]
    },
    {
     "name": "stderr",
     "output_type": "stream",
     "text": [
      "/home/sh38/anaconda3/envs/proGAN_tf/lib/python3.6/site-packages/ipykernel_launcher.py:28: UserWarning: /home/sh38/segmentation_models/phase_cells/data/cell_cycle_down2/train_masks/0150.png is a low contrast image\n"
     ]
    },
    {
     "name": "stdout",
     "output_type": "stream",
     "text": [
      "0163.png\n"
     ]
    },
    {
     "name": "stderr",
     "output_type": "stream",
     "text": [
      "/home/sh38/anaconda3/envs/proGAN_tf/lib/python3.6/site-packages/ipykernel_launcher.py:28: UserWarning: /home/sh38/segmentation_models/phase_cells/data/cell_cycle_down2/train_masks/0163.png is a low contrast image\n"
     ]
    },
    {
     "name": "stdout",
     "output_type": "stream",
     "text": [
      "0048.png\n"
     ]
    },
    {
     "name": "stderr",
     "output_type": "stream",
     "text": [
      "/home/sh38/anaconda3/envs/proGAN_tf/lib/python3.6/site-packages/ipykernel_launcher.py:28: UserWarning: /home/sh38/segmentation_models/phase_cells/data/cell_cycle_down2/train_masks/0048.png is a low contrast image\n"
     ]
    },
    {
     "name": "stdout",
     "output_type": "stream",
     "text": [
      "0507.png\n"
     ]
    },
    {
     "name": "stderr",
     "output_type": "stream",
     "text": [
      "/home/sh38/anaconda3/envs/proGAN_tf/lib/python3.6/site-packages/ipykernel_launcher.py:28: UserWarning: /home/sh38/segmentation_models/phase_cells/data/cell_cycle_down2/train_masks/0507.png is a low contrast image\n"
     ]
    },
    {
     "name": "stdout",
     "output_type": "stream",
     "text": [
      "0730.png\n"
     ]
    },
    {
     "name": "stderr",
     "output_type": "stream",
     "text": [
      "/home/sh38/anaconda3/envs/proGAN_tf/lib/python3.6/site-packages/ipykernel_launcher.py:28: UserWarning: /home/sh38/segmentation_models/phase_cells/data/cell_cycle_down2/train_masks/0730.png is a low contrast image\n"
     ]
    },
    {
     "name": "stdout",
     "output_type": "stream",
     "text": [
      "0025.png\n"
     ]
    },
    {
     "name": "stderr",
     "output_type": "stream",
     "text": [
      "/home/sh38/anaconda3/envs/proGAN_tf/lib/python3.6/site-packages/ipykernel_launcher.py:28: UserWarning: /home/sh38/segmentation_models/phase_cells/data/cell_cycle_down2/train_masks/0025.png is a low contrast image\n"
     ]
    },
    {
     "name": "stdout",
     "output_type": "stream",
     "text": [
      "0058.png\n"
     ]
    },
    {
     "name": "stderr",
     "output_type": "stream",
     "text": [
      "/home/sh38/anaconda3/envs/proGAN_tf/lib/python3.6/site-packages/ipykernel_launcher.py:28: UserWarning: /home/sh38/segmentation_models/phase_cells/data/cell_cycle_down2/train_masks/0058.png is a low contrast image\n"
     ]
    },
    {
     "name": "stdout",
     "output_type": "stream",
     "text": [
      "0535.png\n"
     ]
    },
    {
     "name": "stderr",
     "output_type": "stream",
     "text": [
      "/home/sh38/anaconda3/envs/proGAN_tf/lib/python3.6/site-packages/ipykernel_launcher.py:28: UserWarning: /home/sh38/segmentation_models/phase_cells/data/cell_cycle_down2/train_masks/0535.png is a low contrast image\n"
     ]
    },
    {
     "name": "stdout",
     "output_type": "stream",
     "text": [
      "0209.png\n"
     ]
    },
    {
     "name": "stderr",
     "output_type": "stream",
     "text": [
      "/home/sh38/anaconda3/envs/proGAN_tf/lib/python3.6/site-packages/ipykernel_launcher.py:28: UserWarning: /home/sh38/segmentation_models/phase_cells/data/cell_cycle_down2/train_masks/0209.png is a low contrast image\n"
     ]
    },
    {
     "name": "stdout",
     "output_type": "stream",
     "text": [
      "0655.png\n"
     ]
    },
    {
     "name": "stderr",
     "output_type": "stream",
     "text": [
      "/home/sh38/anaconda3/envs/proGAN_tf/lib/python3.6/site-packages/ipykernel_launcher.py:28: UserWarning: /home/sh38/segmentation_models/phase_cells/data/cell_cycle_down2/train_masks/0655.png is a low contrast image\n"
     ]
    },
    {
     "name": "stdout",
     "output_type": "stream",
     "text": [
      "0102.png\n"
     ]
    },
    {
     "name": "stderr",
     "output_type": "stream",
     "text": [
      "/home/sh38/anaconda3/envs/proGAN_tf/lib/python3.6/site-packages/ipykernel_launcher.py:28: UserWarning: /home/sh38/segmentation_models/phase_cells/data/cell_cycle_down2/train_masks/0102.png is a low contrast image\n"
     ]
    },
    {
     "name": "stdout",
     "output_type": "stream",
     "text": [
      "0343.png\n"
     ]
    },
    {
     "name": "stderr",
     "output_type": "stream",
     "text": [
      "/home/sh38/anaconda3/envs/proGAN_tf/lib/python3.6/site-packages/ipykernel_launcher.py:28: UserWarning: /home/sh38/segmentation_models/phase_cells/data/cell_cycle_down2/train_masks/0343.png is a low contrast image\n"
     ]
    },
    {
     "name": "stdout",
     "output_type": "stream",
     "text": [
      "0273.png\n"
     ]
    },
    {
     "name": "stderr",
     "output_type": "stream",
     "text": [
      "/home/sh38/anaconda3/envs/proGAN_tf/lib/python3.6/site-packages/ipykernel_launcher.py:28: UserWarning: /home/sh38/segmentation_models/phase_cells/data/cell_cycle_down2/train_masks/0273.png is a low contrast image\n"
     ]
    },
    {
     "name": "stdout",
     "output_type": "stream",
     "text": [
      "0758.png\n"
     ]
    },
    {
     "name": "stderr",
     "output_type": "stream",
     "text": [
      "/home/sh38/anaconda3/envs/proGAN_tf/lib/python3.6/site-packages/ipykernel_launcher.py:28: UserWarning: /home/sh38/segmentation_models/phase_cells/data/cell_cycle_down2/train_masks/0758.png is a low contrast image\n"
     ]
    },
    {
     "name": "stdout",
     "output_type": "stream",
     "text": [
      "0400.png\n"
     ]
    },
    {
     "name": "stderr",
     "output_type": "stream",
     "text": [
      "/home/sh38/anaconda3/envs/proGAN_tf/lib/python3.6/site-packages/ipykernel_launcher.py:28: UserWarning: /home/sh38/segmentation_models/phase_cells/data/cell_cycle_down2/train_masks/0400.png is a low contrast image\n"
     ]
    },
    {
     "name": "stdout",
     "output_type": "stream",
     "text": [
      "0597.png\n"
     ]
    },
    {
     "name": "stderr",
     "output_type": "stream",
     "text": [
      "/home/sh38/anaconda3/envs/proGAN_tf/lib/python3.6/site-packages/ipykernel_launcher.py:28: UserWarning: /home/sh38/segmentation_models/phase_cells/data/cell_cycle_down2/train_masks/0597.png is a low contrast image\n"
     ]
    },
    {
     "name": "stdout",
     "output_type": "stream",
     "text": [
      "0047.png\n"
     ]
    },
    {
     "name": "stderr",
     "output_type": "stream",
     "text": [
      "/home/sh38/anaconda3/envs/proGAN_tf/lib/python3.6/site-packages/ipykernel_launcher.py:28: UserWarning: /home/sh38/segmentation_models/phase_cells/data/cell_cycle_down2/train_masks/0047.png is a low contrast image\n",
      "/home/sh38/anaconda3/envs/proGAN_tf/lib/python3.6/site-packages/ipykernel_launcher.py:28: UserWarning: /home/sh38/segmentation_models/phase_cells/data/cell_cycle_down2/train_images/0642.png is a low contrast image\n"
     ]
    },
    {
     "name": "stdout",
     "output_type": "stream",
     "text": [
      "0642.png\n"
     ]
    },
    {
     "name": "stderr",
     "output_type": "stream",
     "text": [
      "/home/sh38/anaconda3/envs/proGAN_tf/lib/python3.6/site-packages/ipykernel_launcher.py:28: UserWarning: /home/sh38/segmentation_models/phase_cells/data/cell_cycle_down2/train_masks/0642.png is a low contrast image\n"
     ]
    },
    {
     "name": "stdout",
     "output_type": "stream",
     "text": [
      "0863.png\n"
     ]
    },
    {
     "name": "stderr",
     "output_type": "stream",
     "text": [
      "/home/sh38/anaconda3/envs/proGAN_tf/lib/python3.6/site-packages/ipykernel_launcher.py:28: UserWarning: /home/sh38/segmentation_models/phase_cells/data/cell_cycle_down2/train_masks/0863.png is a low contrast image\n"
     ]
    },
    {
     "name": "stdout",
     "output_type": "stream",
     "text": [
      "0444.png\n"
     ]
    },
    {
     "name": "stderr",
     "output_type": "stream",
     "text": [
      "/home/sh38/anaconda3/envs/proGAN_tf/lib/python3.6/site-packages/ipykernel_launcher.py:28: UserWarning: /home/sh38/segmentation_models/phase_cells/data/cell_cycle_down2/train_masks/0444.png is a low contrast image\n"
     ]
    },
    {
     "name": "stdout",
     "output_type": "stream",
     "text": [
      "0310.png\n"
     ]
    },
    {
     "name": "stderr",
     "output_type": "stream",
     "text": [
      "/home/sh38/anaconda3/envs/proGAN_tf/lib/python3.6/site-packages/ipykernel_launcher.py:28: UserWarning: /home/sh38/segmentation_models/phase_cells/data/cell_cycle_down2/train_masks/0310.png is a low contrast image\n"
     ]
    },
    {
     "name": "stdout",
     "output_type": "stream",
     "text": [
      "0480.png\n"
     ]
    },
    {
     "name": "stderr",
     "output_type": "stream",
     "text": [
      "/home/sh38/anaconda3/envs/proGAN_tf/lib/python3.6/site-packages/ipykernel_launcher.py:28: UserWarning: /home/sh38/segmentation_models/phase_cells/data/cell_cycle_down2/train_masks/0480.png is a low contrast image\n"
     ]
    },
    {
     "name": "stdout",
     "output_type": "stream",
     "text": [
      "0488.png\n"
     ]
    },
    {
     "name": "stderr",
     "output_type": "stream",
     "text": [
      "/home/sh38/anaconda3/envs/proGAN_tf/lib/python3.6/site-packages/ipykernel_launcher.py:28: UserWarning: /home/sh38/segmentation_models/phase_cells/data/cell_cycle_down2/train_masks/0488.png is a low contrast image\n"
     ]
    },
    {
     "name": "stdout",
     "output_type": "stream",
     "text": [
      "0494.png\n"
     ]
    },
    {
     "name": "stderr",
     "output_type": "stream",
     "text": [
      "/home/sh38/anaconda3/envs/proGAN_tf/lib/python3.6/site-packages/ipykernel_launcher.py:28: UserWarning: /home/sh38/segmentation_models/phase_cells/data/cell_cycle_down2/train_masks/0494.png is a low contrast image\n"
     ]
    },
    {
     "name": "stdout",
     "output_type": "stream",
     "text": [
      "0615.png\n"
     ]
    },
    {
     "name": "stderr",
     "output_type": "stream",
     "text": [
      "/home/sh38/anaconda3/envs/proGAN_tf/lib/python3.6/site-packages/ipykernel_launcher.py:28: UserWarning: /home/sh38/segmentation_models/phase_cells/data/cell_cycle_down2/train_masks/0615.png is a low contrast image\n"
     ]
    },
    {
     "name": "stdout",
     "output_type": "stream",
     "text": [
      "0520.png\n"
     ]
    },
    {
     "name": "stderr",
     "output_type": "stream",
     "text": [
      "/home/sh38/anaconda3/envs/proGAN_tf/lib/python3.6/site-packages/ipykernel_launcher.py:28: UserWarning: /home/sh38/segmentation_models/phase_cells/data/cell_cycle_down2/train_masks/0520.png is a low contrast image\n"
     ]
    },
    {
     "name": "stdout",
     "output_type": "stream",
     "text": [
      "0106.png\n"
     ]
    },
    {
     "name": "stderr",
     "output_type": "stream",
     "text": [
      "/home/sh38/anaconda3/envs/proGAN_tf/lib/python3.6/site-packages/ipykernel_launcher.py:28: UserWarning: /home/sh38/segmentation_models/phase_cells/data/cell_cycle_down2/train_masks/0106.png is a low contrast image\n"
     ]
    },
    {
     "name": "stdout",
     "output_type": "stream",
     "text": [
      "0591.png\n"
     ]
    },
    {
     "name": "stderr",
     "output_type": "stream",
     "text": [
      "/home/sh38/anaconda3/envs/proGAN_tf/lib/python3.6/site-packages/ipykernel_launcher.py:28: UserWarning: /home/sh38/segmentation_models/phase_cells/data/cell_cycle_down2/train_masks/0591.png is a low contrast image\n"
     ]
    },
    {
     "name": "stdout",
     "output_type": "stream",
     "text": [
      "0156.png\n"
     ]
    },
    {
     "name": "stderr",
     "output_type": "stream",
     "text": [
      "/home/sh38/anaconda3/envs/proGAN_tf/lib/python3.6/site-packages/ipykernel_launcher.py:28: UserWarning: /home/sh38/segmentation_models/phase_cells/data/cell_cycle_down2/train_masks/0156.png is a low contrast image\n"
     ]
    },
    {
     "name": "stdout",
     "output_type": "stream",
     "text": [
      "0783.png\n"
     ]
    },
    {
     "name": "stderr",
     "output_type": "stream",
     "text": [
      "/home/sh38/anaconda3/envs/proGAN_tf/lib/python3.6/site-packages/ipykernel_launcher.py:28: UserWarning: /home/sh38/segmentation_models/phase_cells/data/cell_cycle_down2/train_masks/0783.png is a low contrast image\n"
     ]
    },
    {
     "name": "stdout",
     "output_type": "stream",
     "text": [
      "0084.png\n"
     ]
    },
    {
     "name": "stderr",
     "output_type": "stream",
     "text": [
      "/home/sh38/anaconda3/envs/proGAN_tf/lib/python3.6/site-packages/ipykernel_launcher.py:28: UserWarning: /home/sh38/segmentation_models/phase_cells/data/cell_cycle_down2/train_masks/0084.png is a low contrast image\n"
     ]
    },
    {
     "name": "stdout",
     "output_type": "stream",
     "text": [
      "0004.png\n"
     ]
    },
    {
     "name": "stderr",
     "output_type": "stream",
     "text": [
      "/home/sh38/anaconda3/envs/proGAN_tf/lib/python3.6/site-packages/ipykernel_launcher.py:28: UserWarning: /home/sh38/segmentation_models/phase_cells/data/cell_cycle_down2/train_masks/0004.png is a low contrast image\n"
     ]
    },
    {
     "name": "stdout",
     "output_type": "stream",
     "text": [
      "0298.png\n"
     ]
    },
    {
     "name": "stderr",
     "output_type": "stream",
     "text": [
      "/home/sh38/anaconda3/envs/proGAN_tf/lib/python3.6/site-packages/ipykernel_launcher.py:28: UserWarning: /home/sh38/segmentation_models/phase_cells/data/cell_cycle_down2/train_masks/0298.png is a low contrast image\n"
     ]
    },
    {
     "name": "stdout",
     "output_type": "stream",
     "text": [
      "0365.png\n"
     ]
    },
    {
     "name": "stderr",
     "output_type": "stream",
     "text": [
      "/home/sh38/anaconda3/envs/proGAN_tf/lib/python3.6/site-packages/ipykernel_launcher.py:28: UserWarning: /home/sh38/segmentation_models/phase_cells/data/cell_cycle_down2/train_masks/0365.png is a low contrast image\n"
     ]
    },
    {
     "name": "stdout",
     "output_type": "stream",
     "text": [
      "0316.png\n"
     ]
    },
    {
     "name": "stderr",
     "output_type": "stream",
     "text": [
      "/home/sh38/anaconda3/envs/proGAN_tf/lib/python3.6/site-packages/ipykernel_launcher.py:28: UserWarning: /home/sh38/segmentation_models/phase_cells/data/cell_cycle_down2/train_masks/0316.png is a low contrast image\n"
     ]
    },
    {
     "name": "stdout",
     "output_type": "stream",
     "text": [
      "0031.png\n"
     ]
    },
    {
     "name": "stderr",
     "output_type": "stream",
     "text": [
      "/home/sh38/anaconda3/envs/proGAN_tf/lib/python3.6/site-packages/ipykernel_launcher.py:28: UserWarning: /home/sh38/segmentation_models/phase_cells/data/cell_cycle_down2/train_masks/0031.png is a low contrast image\n"
     ]
    },
    {
     "name": "stdout",
     "output_type": "stream",
     "text": [
      "0537.png\n"
     ]
    },
    {
     "name": "stderr",
     "output_type": "stream",
     "text": [
      "/home/sh38/anaconda3/envs/proGAN_tf/lib/python3.6/site-packages/ipykernel_launcher.py:28: UserWarning: /home/sh38/segmentation_models/phase_cells/data/cell_cycle_down2/train_masks/0537.png is a low contrast image\n"
     ]
    },
    {
     "name": "stdout",
     "output_type": "stream",
     "text": [
      "0741.png\n"
     ]
    },
    {
     "name": "stderr",
     "output_type": "stream",
     "text": [
      "/home/sh38/anaconda3/envs/proGAN_tf/lib/python3.6/site-packages/ipykernel_launcher.py:28: UserWarning: /home/sh38/segmentation_models/phase_cells/data/cell_cycle_down2/train_masks/0741.png is a low contrast image\n"
     ]
    },
    {
     "name": "stdout",
     "output_type": "stream",
     "text": [
      "0286.png\n"
     ]
    },
    {
     "name": "stderr",
     "output_type": "stream",
     "text": [
      "/home/sh38/anaconda3/envs/proGAN_tf/lib/python3.6/site-packages/ipykernel_launcher.py:28: UserWarning: /home/sh38/segmentation_models/phase_cells/data/cell_cycle_down2/train_masks/0286.png is a low contrast image\n"
     ]
    },
    {
     "name": "stdout",
     "output_type": "stream",
     "text": [
      "0543.png\n"
     ]
    },
    {
     "name": "stderr",
     "output_type": "stream",
     "text": [
      "/home/sh38/anaconda3/envs/proGAN_tf/lib/python3.6/site-packages/ipykernel_launcher.py:28: UserWarning: /home/sh38/segmentation_models/phase_cells/data/cell_cycle_down2/train_masks/0543.png is a low contrast image\n",
      "/home/sh38/anaconda3/envs/proGAN_tf/lib/python3.6/site-packages/ipykernel_launcher.py:28: UserWarning: /home/sh38/segmentation_models/phase_cells/data/cell_cycle_down2/train_images/0257.png is a low contrast image\n"
     ]
    },
    {
     "name": "stdout",
     "output_type": "stream",
     "text": [
      "0257.png\n"
     ]
    },
    {
     "name": "stderr",
     "output_type": "stream",
     "text": [
      "/home/sh38/anaconda3/envs/proGAN_tf/lib/python3.6/site-packages/ipykernel_launcher.py:28: UserWarning: /home/sh38/segmentation_models/phase_cells/data/cell_cycle_down2/train_masks/0257.png is a low contrast image\n"
     ]
    },
    {
     "name": "stdout",
     "output_type": "stream",
     "text": [
      "0616.png\n"
     ]
    },
    {
     "name": "stderr",
     "output_type": "stream",
     "text": [
      "/home/sh38/anaconda3/envs/proGAN_tf/lib/python3.6/site-packages/ipykernel_launcher.py:28: UserWarning: /home/sh38/segmentation_models/phase_cells/data/cell_cycle_down2/train_masks/0616.png is a low contrast image\n"
     ]
    },
    {
     "name": "stdout",
     "output_type": "stream",
     "text": [
      "0308.png\n"
     ]
    },
    {
     "name": "stderr",
     "output_type": "stream",
     "text": [
      "/home/sh38/anaconda3/envs/proGAN_tf/lib/python3.6/site-packages/ipykernel_launcher.py:28: UserWarning: /home/sh38/segmentation_models/phase_cells/data/cell_cycle_down2/train_masks/0308.png is a low contrast image\n"
     ]
    },
    {
     "name": "stdout",
     "output_type": "stream",
     "text": [
      "0828.png\n"
     ]
    },
    {
     "name": "stderr",
     "output_type": "stream",
     "text": [
      "/home/sh38/anaconda3/envs/proGAN_tf/lib/python3.6/site-packages/ipykernel_launcher.py:28: UserWarning: /home/sh38/segmentation_models/phase_cells/data/cell_cycle_down2/train_masks/0828.png is a low contrast image\n"
     ]
    },
    {
     "name": "stdout",
     "output_type": "stream",
     "text": [
      "0029.png\n"
     ]
    },
    {
     "name": "stderr",
     "output_type": "stream",
     "text": [
      "/home/sh38/anaconda3/envs/proGAN_tf/lib/python3.6/site-packages/ipykernel_launcher.py:28: UserWarning: /home/sh38/segmentation_models/phase_cells/data/cell_cycle_down2/train_masks/0029.png is a low contrast image\n",
      "/home/sh38/anaconda3/envs/proGAN_tf/lib/python3.6/site-packages/ipykernel_launcher.py:28: UserWarning: /home/sh38/segmentation_models/phase_cells/data/cell_cycle_down2/train_images/0775.png is a low contrast image\n"
     ]
    },
    {
     "name": "stdout",
     "output_type": "stream",
     "text": [
      "0775.png\n"
     ]
    },
    {
     "name": "stderr",
     "output_type": "stream",
     "text": [
      "/home/sh38/anaconda3/envs/proGAN_tf/lib/python3.6/site-packages/ipykernel_launcher.py:28: UserWarning: /home/sh38/segmentation_models/phase_cells/data/cell_cycle_down2/train_masks/0775.png is a low contrast image\n"
     ]
    },
    {
     "name": "stdout",
     "output_type": "stream",
     "text": [
      "0080.png\n"
     ]
    },
    {
     "name": "stderr",
     "output_type": "stream",
     "text": [
      "/home/sh38/anaconda3/envs/proGAN_tf/lib/python3.6/site-packages/ipykernel_launcher.py:28: UserWarning: /home/sh38/segmentation_models/phase_cells/data/cell_cycle_down2/train_masks/0080.png is a low contrast image\n"
     ]
    },
    {
     "name": "stdout",
     "output_type": "stream",
     "text": [
      "0171.png\n"
     ]
    },
    {
     "name": "stderr",
     "output_type": "stream",
     "text": [
      "/home/sh38/anaconda3/envs/proGAN_tf/lib/python3.6/site-packages/ipykernel_launcher.py:28: UserWarning: /home/sh38/segmentation_models/phase_cells/data/cell_cycle_down2/train_masks/0171.png is a low contrast image\n"
     ]
    },
    {
     "name": "stdout",
     "output_type": "stream",
     "text": [
      "0088.png\n"
     ]
    },
    {
     "name": "stderr",
     "output_type": "stream",
     "text": [
      "/home/sh38/anaconda3/envs/proGAN_tf/lib/python3.6/site-packages/ipykernel_launcher.py:28: UserWarning: /home/sh38/segmentation_models/phase_cells/data/cell_cycle_down2/train_masks/0088.png is a low contrast image\n"
     ]
    },
    {
     "name": "stdout",
     "output_type": "stream",
     "text": [
      "0137.png\n"
     ]
    },
    {
     "name": "stderr",
     "output_type": "stream",
     "text": [
      "/home/sh38/anaconda3/envs/proGAN_tf/lib/python3.6/site-packages/ipykernel_launcher.py:28: UserWarning: /home/sh38/segmentation_models/phase_cells/data/cell_cycle_down2/train_masks/0137.png is a low contrast image\n"
     ]
    },
    {
     "name": "stdout",
     "output_type": "stream",
     "text": [
      "0650.png\n"
     ]
    },
    {
     "name": "stderr",
     "output_type": "stream",
     "text": [
      "/home/sh38/anaconda3/envs/proGAN_tf/lib/python3.6/site-packages/ipykernel_launcher.py:28: UserWarning: /home/sh38/segmentation_models/phase_cells/data/cell_cycle_down2/train_masks/0650.png is a low contrast image\n"
     ]
    },
    {
     "name": "stdout",
     "output_type": "stream",
     "text": [
      "0178.png\n"
     ]
    },
    {
     "name": "stderr",
     "output_type": "stream",
     "text": [
      "/home/sh38/anaconda3/envs/proGAN_tf/lib/python3.6/site-packages/ipykernel_launcher.py:28: UserWarning: /home/sh38/segmentation_models/phase_cells/data/cell_cycle_down2/train_masks/0178.png is a low contrast image\n"
     ]
    },
    {
     "name": "stdout",
     "output_type": "stream",
     "text": [
      "0805.png\n"
     ]
    },
    {
     "name": "stderr",
     "output_type": "stream",
     "text": [
      "/home/sh38/anaconda3/envs/proGAN_tf/lib/python3.6/site-packages/ipykernel_launcher.py:28: UserWarning: /home/sh38/segmentation_models/phase_cells/data/cell_cycle_down2/train_masks/0805.png is a low contrast image\n"
     ]
    },
    {
     "name": "stdout",
     "output_type": "stream",
     "text": [
      "0378.png\n"
     ]
    },
    {
     "name": "stderr",
     "output_type": "stream",
     "text": [
      "/home/sh38/anaconda3/envs/proGAN_tf/lib/python3.6/site-packages/ipykernel_launcher.py:28: UserWarning: /home/sh38/segmentation_models/phase_cells/data/cell_cycle_down2/train_masks/0378.png is a low contrast image\n"
     ]
    },
    {
     "name": "stdout",
     "output_type": "stream",
     "text": [
      "0417.png\n"
     ]
    },
    {
     "name": "stderr",
     "output_type": "stream",
     "text": [
      "/home/sh38/anaconda3/envs/proGAN_tf/lib/python3.6/site-packages/ipykernel_launcher.py:28: UserWarning: /home/sh38/segmentation_models/phase_cells/data/cell_cycle_down2/train_masks/0417.png is a low contrast image\n"
     ]
    },
    {
     "name": "stdout",
     "output_type": "stream",
     "text": [
      "0036.png\n"
     ]
    },
    {
     "name": "stderr",
     "output_type": "stream",
     "text": [
      "/home/sh38/anaconda3/envs/proGAN_tf/lib/python3.6/site-packages/ipykernel_launcher.py:28: UserWarning: /home/sh38/segmentation_models/phase_cells/data/cell_cycle_down2/train_masks/0036.png is a low contrast image\n",
      "/home/sh38/anaconda3/envs/proGAN_tf/lib/python3.6/site-packages/ipykernel_launcher.py:28: UserWarning: /home/sh38/segmentation_models/phase_cells/data/cell_cycle_down2/train_images/0473.png is a low contrast image\n"
     ]
    },
    {
     "name": "stdout",
     "output_type": "stream",
     "text": [
      "0473.png\n"
     ]
    },
    {
     "name": "stderr",
     "output_type": "stream",
     "text": [
      "/home/sh38/anaconda3/envs/proGAN_tf/lib/python3.6/site-packages/ipykernel_launcher.py:28: UserWarning: /home/sh38/segmentation_models/phase_cells/data/cell_cycle_down2/train_masks/0473.png is a low contrast image\n"
     ]
    },
    {
     "name": "stdout",
     "output_type": "stream",
     "text": [
      "0243.png\n"
     ]
    },
    {
     "name": "stderr",
     "output_type": "stream",
     "text": [
      "/home/sh38/anaconda3/envs/proGAN_tf/lib/python3.6/site-packages/ipykernel_launcher.py:28: UserWarning: /home/sh38/segmentation_models/phase_cells/data/cell_cycle_down2/train_masks/0243.png is a low contrast image\n"
     ]
    },
    {
     "name": "stdout",
     "output_type": "stream",
     "text": [
      "0608.png\n"
     ]
    },
    {
     "name": "stderr",
     "output_type": "stream",
     "text": [
      "/home/sh38/anaconda3/envs/proGAN_tf/lib/python3.6/site-packages/ipykernel_launcher.py:28: UserWarning: /home/sh38/segmentation_models/phase_cells/data/cell_cycle_down2/train_masks/0608.png is a low contrast image\n"
     ]
    },
    {
     "name": "stdout",
     "output_type": "stream",
     "text": [
      "0626.png\n"
     ]
    },
    {
     "name": "stderr",
     "output_type": "stream",
     "text": [
      "/home/sh38/anaconda3/envs/proGAN_tf/lib/python3.6/site-packages/ipykernel_launcher.py:28: UserWarning: /home/sh38/segmentation_models/phase_cells/data/cell_cycle_down2/train_masks/0626.png is a low contrast image\n"
     ]
    },
    {
     "name": "stdout",
     "output_type": "stream",
     "text": [
      "0115.png\n"
     ]
    },
    {
     "name": "stderr",
     "output_type": "stream",
     "text": [
      "/home/sh38/anaconda3/envs/proGAN_tf/lib/python3.6/site-packages/ipykernel_launcher.py:28: UserWarning: /home/sh38/segmentation_models/phase_cells/data/cell_cycle_down2/train_masks/0115.png is a low contrast image\n"
     ]
    },
    {
     "name": "stdout",
     "output_type": "stream",
     "text": [
      "0028.png\n"
     ]
    },
    {
     "name": "stderr",
     "output_type": "stream",
     "text": [
      "/home/sh38/anaconda3/envs/proGAN_tf/lib/python3.6/site-packages/ipykernel_launcher.py:28: UserWarning: /home/sh38/segmentation_models/phase_cells/data/cell_cycle_down2/train_masks/0028.png is a low contrast image\n"
     ]
    },
    {
     "name": "stdout",
     "output_type": "stream",
     "text": [
      "0823.png\n"
     ]
    },
    {
     "name": "stderr",
     "output_type": "stream",
     "text": [
      "/home/sh38/anaconda3/envs/proGAN_tf/lib/python3.6/site-packages/ipykernel_launcher.py:28: UserWarning: /home/sh38/segmentation_models/phase_cells/data/cell_cycle_down2/train_masks/0823.png is a low contrast image\n"
     ]
    },
    {
     "name": "stdout",
     "output_type": "stream",
     "text": [
      "0576.png\n"
     ]
    },
    {
     "name": "stderr",
     "output_type": "stream",
     "text": [
      "/home/sh38/anaconda3/envs/proGAN_tf/lib/python3.6/site-packages/ipykernel_launcher.py:28: UserWarning: /home/sh38/segmentation_models/phase_cells/data/cell_cycle_down2/train_masks/0576.png is a low contrast image\n"
     ]
    },
    {
     "name": "stdout",
     "output_type": "stream",
     "text": [
      "0447.png\n"
     ]
    },
    {
     "name": "stderr",
     "output_type": "stream",
     "text": [
      "/home/sh38/anaconda3/envs/proGAN_tf/lib/python3.6/site-packages/ipykernel_launcher.py:28: UserWarning: /home/sh38/segmentation_models/phase_cells/data/cell_cycle_down2/train_masks/0447.png is a low contrast image\n"
     ]
    },
    {
     "name": "stdout",
     "output_type": "stream",
     "text": [
      "0034.png\n"
     ]
    },
    {
     "name": "stderr",
     "output_type": "stream",
     "text": [
      "/home/sh38/anaconda3/envs/proGAN_tf/lib/python3.6/site-packages/ipykernel_launcher.py:28: UserWarning: /home/sh38/segmentation_models/phase_cells/data/cell_cycle_down2/train_masks/0034.png is a low contrast image\n"
     ]
    },
    {
     "name": "stdout",
     "output_type": "stream",
     "text": [
      "0588.png\n"
     ]
    },
    {
     "name": "stderr",
     "output_type": "stream",
     "text": [
      "/home/sh38/anaconda3/envs/proGAN_tf/lib/python3.6/site-packages/ipykernel_launcher.py:28: UserWarning: /home/sh38/segmentation_models/phase_cells/data/cell_cycle_down2/train_masks/0588.png is a low contrast image\n"
     ]
    },
    {
     "name": "stdout",
     "output_type": "stream",
     "text": [
      "0561.png\n"
     ]
    },
    {
     "name": "stderr",
     "output_type": "stream",
     "text": [
      "/home/sh38/anaconda3/envs/proGAN_tf/lib/python3.6/site-packages/ipykernel_launcher.py:28: UserWarning: /home/sh38/segmentation_models/phase_cells/data/cell_cycle_down2/train_masks/0561.png is a low contrast image\n",
      "/home/sh38/anaconda3/envs/proGAN_tf/lib/python3.6/site-packages/ipykernel_launcher.py:28: UserWarning: /home/sh38/segmentation_models/phase_cells/data/cell_cycle_down2/train_images/0838.png is a low contrast image\n"
     ]
    },
    {
     "name": "stdout",
     "output_type": "stream",
     "text": [
      "0838.png\n"
     ]
    },
    {
     "name": "stderr",
     "output_type": "stream",
     "text": [
      "/home/sh38/anaconda3/envs/proGAN_tf/lib/python3.6/site-packages/ipykernel_launcher.py:28: UserWarning: /home/sh38/segmentation_models/phase_cells/data/cell_cycle_down2/train_masks/0838.png is a low contrast image\n"
     ]
    },
    {
     "name": "stdout",
     "output_type": "stream",
     "text": [
      "0534.png\n"
     ]
    },
    {
     "name": "stderr",
     "output_type": "stream",
     "text": [
      "/home/sh38/anaconda3/envs/proGAN_tf/lib/python3.6/site-packages/ipykernel_launcher.py:28: UserWarning: /home/sh38/segmentation_models/phase_cells/data/cell_cycle_down2/train_masks/0534.png is a low contrast image\n"
     ]
    },
    {
     "name": "stdout",
     "output_type": "stream",
     "text": [
      "0151.png\n"
     ]
    },
    {
     "name": "stderr",
     "output_type": "stream",
     "text": [
      "/home/sh38/anaconda3/envs/proGAN_tf/lib/python3.6/site-packages/ipykernel_launcher.py:28: UserWarning: /home/sh38/segmentation_models/phase_cells/data/cell_cycle_down2/train_masks/0151.png is a low contrast image\n"
     ]
    },
    {
     "name": "stdout",
     "output_type": "stream",
     "text": [
      "0525.png\n"
     ]
    },
    {
     "name": "stderr",
     "output_type": "stream",
     "text": [
      "/home/sh38/anaconda3/envs/proGAN_tf/lib/python3.6/site-packages/ipykernel_launcher.py:28: UserWarning: /home/sh38/segmentation_models/phase_cells/data/cell_cycle_down2/train_masks/0525.png is a low contrast image\n"
     ]
    },
    {
     "name": "stdout",
     "output_type": "stream",
     "text": [
      "0377.png\n"
     ]
    },
    {
     "name": "stderr",
     "output_type": "stream",
     "text": [
      "/home/sh38/anaconda3/envs/proGAN_tf/lib/python3.6/site-packages/ipykernel_launcher.py:28: UserWarning: /home/sh38/segmentation_models/phase_cells/data/cell_cycle_down2/train_masks/0377.png is a low contrast image\n",
      "/home/sh38/anaconda3/envs/proGAN_tf/lib/python3.6/site-packages/ipykernel_launcher.py:28: UserWarning: /home/sh38/segmentation_models/phase_cells/data/cell_cycle_down2/train_images/0100.png is a low contrast image\n"
     ]
    },
    {
     "name": "stdout",
     "output_type": "stream",
     "text": [
      "0100.png\n"
     ]
    },
    {
     "name": "stderr",
     "output_type": "stream",
     "text": [
      "/home/sh38/anaconda3/envs/proGAN_tf/lib/python3.6/site-packages/ipykernel_launcher.py:28: UserWarning: /home/sh38/segmentation_models/phase_cells/data/cell_cycle_down2/train_masks/0100.png is a low contrast image\n"
     ]
    },
    {
     "name": "stdout",
     "output_type": "stream",
     "text": [
      "0667.png\n"
     ]
    },
    {
     "name": "stderr",
     "output_type": "stream",
     "text": [
      "/home/sh38/anaconda3/envs/proGAN_tf/lib/python3.6/site-packages/ipykernel_launcher.py:28: UserWarning: /home/sh38/segmentation_models/phase_cells/data/cell_cycle_down2/train_masks/0667.png is a low contrast image\n",
      "/home/sh38/anaconda3/envs/proGAN_tf/lib/python3.6/site-packages/ipykernel_launcher.py:28: UserWarning: /home/sh38/segmentation_models/phase_cells/data/cell_cycle_down2/train_images/0620.png is a low contrast image\n"
     ]
    },
    {
     "name": "stdout",
     "output_type": "stream",
     "text": [
      "0620.png\n"
     ]
    },
    {
     "name": "stderr",
     "output_type": "stream",
     "text": [
      "/home/sh38/anaconda3/envs/proGAN_tf/lib/python3.6/site-packages/ipykernel_launcher.py:28: UserWarning: /home/sh38/segmentation_models/phase_cells/data/cell_cycle_down2/train_masks/0620.png is a low contrast image\n"
     ]
    },
    {
     "name": "stdout",
     "output_type": "stream",
     "text": [
      "0132.png\n"
     ]
    },
    {
     "name": "stderr",
     "output_type": "stream",
     "text": [
      "/home/sh38/anaconda3/envs/proGAN_tf/lib/python3.6/site-packages/ipykernel_launcher.py:28: UserWarning: /home/sh38/segmentation_models/phase_cells/data/cell_cycle_down2/train_masks/0132.png is a low contrast image\n"
     ]
    },
    {
     "name": "stdout",
     "output_type": "stream",
     "text": [
      "0472.png\n"
     ]
    },
    {
     "name": "stderr",
     "output_type": "stream",
     "text": [
      "/home/sh38/anaconda3/envs/proGAN_tf/lib/python3.6/site-packages/ipykernel_launcher.py:28: UserWarning: /home/sh38/segmentation_models/phase_cells/data/cell_cycle_down2/train_masks/0472.png is a low contrast image\n"
     ]
    },
    {
     "name": "stdout",
     "output_type": "stream",
     "text": [
      "0275.png\n"
     ]
    },
    {
     "name": "stderr",
     "output_type": "stream",
     "text": [
      "/home/sh38/anaconda3/envs/proGAN_tf/lib/python3.6/site-packages/ipykernel_launcher.py:28: UserWarning: /home/sh38/segmentation_models/phase_cells/data/cell_cycle_down2/train_masks/0275.png is a low contrast image\n"
     ]
    },
    {
     "name": "stdout",
     "output_type": "stream",
     "text": [
      "0808.png\n"
     ]
    },
    {
     "name": "stderr",
     "output_type": "stream",
     "text": [
      "/home/sh38/anaconda3/envs/proGAN_tf/lib/python3.6/site-packages/ipykernel_launcher.py:28: UserWarning: /home/sh38/segmentation_models/phase_cells/data/cell_cycle_down2/train_masks/0808.png is a low contrast image\n"
     ]
    },
    {
     "name": "stdout",
     "output_type": "stream",
     "text": [
      "0817.png\n"
     ]
    },
    {
     "name": "stderr",
     "output_type": "stream",
     "text": [
      "/home/sh38/anaconda3/envs/proGAN_tf/lib/python3.6/site-packages/ipykernel_launcher.py:28: UserWarning: /home/sh38/segmentation_models/phase_cells/data/cell_cycle_down2/train_masks/0817.png is a low contrast image\n"
     ]
    },
    {
     "name": "stdout",
     "output_type": "stream",
     "text": [
      "0648.png\n"
     ]
    },
    {
     "name": "stderr",
     "output_type": "stream",
     "text": [
      "/home/sh38/anaconda3/envs/proGAN_tf/lib/python3.6/site-packages/ipykernel_launcher.py:28: UserWarning: /home/sh38/segmentation_models/phase_cells/data/cell_cycle_down2/train_masks/0648.png is a low contrast image\n"
     ]
    },
    {
     "name": "stdout",
     "output_type": "stream",
     "text": [
      "0832.png\n"
     ]
    },
    {
     "name": "stderr",
     "output_type": "stream",
     "text": [
      "/home/sh38/anaconda3/envs/proGAN_tf/lib/python3.6/site-packages/ipykernel_launcher.py:28: UserWarning: /home/sh38/segmentation_models/phase_cells/data/cell_cycle_down2/train_masks/0832.png is a low contrast image\n"
     ]
    },
    {
     "name": "stdout",
     "output_type": "stream",
     "text": [
      "0396.png\n"
     ]
    },
    {
     "name": "stderr",
     "output_type": "stream",
     "text": [
      "/home/sh38/anaconda3/envs/proGAN_tf/lib/python3.6/site-packages/ipykernel_launcher.py:28: UserWarning: /home/sh38/segmentation_models/phase_cells/data/cell_cycle_down2/train_masks/0396.png is a low contrast image\n",
      "/home/sh38/anaconda3/envs/proGAN_tf/lib/python3.6/site-packages/ipykernel_launcher.py:28: UserWarning: /home/sh38/segmentation_models/phase_cells/data/cell_cycle_down2/train_images/0068.png is a low contrast image\n"
     ]
    },
    {
     "name": "stdout",
     "output_type": "stream",
     "text": [
      "0068.png\n"
     ]
    },
    {
     "name": "stderr",
     "output_type": "stream",
     "text": [
      "/home/sh38/anaconda3/envs/proGAN_tf/lib/python3.6/site-packages/ipykernel_launcher.py:28: UserWarning: /home/sh38/segmentation_models/phase_cells/data/cell_cycle_down2/train_masks/0068.png is a low contrast image\n"
     ]
    },
    {
     "name": "stdout",
     "output_type": "stream",
     "text": [
      "0771.png\n"
     ]
    },
    {
     "name": "stderr",
     "output_type": "stream",
     "text": [
      "/home/sh38/anaconda3/envs/proGAN_tf/lib/python3.6/site-packages/ipykernel_launcher.py:28: UserWarning: /home/sh38/segmentation_models/phase_cells/data/cell_cycle_down2/train_masks/0771.png is a low contrast image\n",
      "/home/sh38/anaconda3/envs/proGAN_tf/lib/python3.6/site-packages/ipykernel_launcher.py:28: UserWarning: /home/sh38/segmentation_models/phase_cells/data/cell_cycle_down2/train_images/0460.png is a low contrast image\n"
     ]
    },
    {
     "name": "stdout",
     "output_type": "stream",
     "text": [
      "0460.png\n"
     ]
    },
    {
     "name": "stderr",
     "output_type": "stream",
     "text": [
      "/home/sh38/anaconda3/envs/proGAN_tf/lib/python3.6/site-packages/ipykernel_launcher.py:28: UserWarning: /home/sh38/segmentation_models/phase_cells/data/cell_cycle_down2/train_masks/0460.png is a low contrast image\n"
     ]
    },
    {
     "name": "stdout",
     "output_type": "stream",
     "text": [
      "0085.png\n"
     ]
    },
    {
     "name": "stderr",
     "output_type": "stream",
     "text": [
      "/home/sh38/anaconda3/envs/proGAN_tf/lib/python3.6/site-packages/ipykernel_launcher.py:28: UserWarning: /home/sh38/segmentation_models/phase_cells/data/cell_cycle_down2/train_masks/0085.png is a low contrast image\n"
     ]
    },
    {
     "name": "stdout",
     "output_type": "stream",
     "text": [
      "0414.png\n"
     ]
    },
    {
     "name": "stderr",
     "output_type": "stream",
     "text": [
      "/home/sh38/anaconda3/envs/proGAN_tf/lib/python3.6/site-packages/ipykernel_launcher.py:28: UserWarning: /home/sh38/segmentation_models/phase_cells/data/cell_cycle_down2/train_masks/0414.png is a low contrast image\n"
     ]
    },
    {
     "name": "stdout",
     "output_type": "stream",
     "text": [
      "0328.png\n"
     ]
    },
    {
     "name": "stderr",
     "output_type": "stream",
     "text": [
      "/home/sh38/anaconda3/envs/proGAN_tf/lib/python3.6/site-packages/ipykernel_launcher.py:28: UserWarning: /home/sh38/segmentation_models/phase_cells/data/cell_cycle_down2/train_masks/0328.png is a low contrast image\n"
     ]
    },
    {
     "name": "stdout",
     "output_type": "stream",
     "text": [
      "0841.png\n"
     ]
    },
    {
     "name": "stderr",
     "output_type": "stream",
     "text": [
      "/home/sh38/anaconda3/envs/proGAN_tf/lib/python3.6/site-packages/ipykernel_launcher.py:28: UserWarning: /home/sh38/segmentation_models/phase_cells/data/cell_cycle_down2/train_masks/0841.png is a low contrast image\n"
     ]
    },
    {
     "name": "stdout",
     "output_type": "stream",
     "text": [
      "0696.png\n"
     ]
    },
    {
     "name": "stderr",
     "output_type": "stream",
     "text": [
      "/home/sh38/anaconda3/envs/proGAN_tf/lib/python3.6/site-packages/ipykernel_launcher.py:28: UserWarning: /home/sh38/segmentation_models/phase_cells/data/cell_cycle_down2/train_masks/0696.png is a low contrast image\n"
     ]
    },
    {
     "name": "stdout",
     "output_type": "stream",
     "text": [
      "0172.png\n"
     ]
    },
    {
     "name": "stderr",
     "output_type": "stream",
     "text": [
      "/home/sh38/anaconda3/envs/proGAN_tf/lib/python3.6/site-packages/ipykernel_launcher.py:28: UserWarning: /home/sh38/segmentation_models/phase_cells/data/cell_cycle_down2/train_masks/0172.png is a low contrast image\n"
     ]
    },
    {
     "name": "stdout",
     "output_type": "stream",
     "text": [
      "0790.png\n"
     ]
    },
    {
     "name": "stderr",
     "output_type": "stream",
     "text": [
      "/home/sh38/anaconda3/envs/proGAN_tf/lib/python3.6/site-packages/ipykernel_launcher.py:28: UserWarning: /home/sh38/segmentation_models/phase_cells/data/cell_cycle_down2/train_masks/0790.png is a low contrast image\n"
     ]
    },
    {
     "name": "stdout",
     "output_type": "stream",
     "text": [
      "0142.png\n"
     ]
    },
    {
     "name": "stderr",
     "output_type": "stream",
     "text": [
      "/home/sh38/anaconda3/envs/proGAN_tf/lib/python3.6/site-packages/ipykernel_launcher.py:28: UserWarning: /home/sh38/segmentation_models/phase_cells/data/cell_cycle_down2/train_masks/0142.png is a low contrast image\n"
     ]
    },
    {
     "name": "stdout",
     "output_type": "stream",
     "text": [
      "0380.png\n"
     ]
    },
    {
     "name": "stderr",
     "output_type": "stream",
     "text": [
      "/home/sh38/anaconda3/envs/proGAN_tf/lib/python3.6/site-packages/ipykernel_launcher.py:28: UserWarning: /home/sh38/segmentation_models/phase_cells/data/cell_cycle_down2/train_masks/0380.png is a low contrast image\n"
     ]
    },
    {
     "name": "stdout",
     "output_type": "stream",
     "text": [
      "0317.png\n"
     ]
    },
    {
     "name": "stderr",
     "output_type": "stream",
     "text": [
      "/home/sh38/anaconda3/envs/proGAN_tf/lib/python3.6/site-packages/ipykernel_launcher.py:28: UserWarning: /home/sh38/segmentation_models/phase_cells/data/cell_cycle_down2/train_masks/0317.png is a low contrast image\n"
     ]
    },
    {
     "name": "stdout",
     "output_type": "stream",
     "text": [
      "0442.png\n"
     ]
    },
    {
     "name": "stderr",
     "output_type": "stream",
     "text": [
      "/home/sh38/anaconda3/envs/proGAN_tf/lib/python3.6/site-packages/ipykernel_launcher.py:28: UserWarning: /home/sh38/segmentation_models/phase_cells/data/cell_cycle_down2/train_masks/0442.png is a low contrast image\n"
     ]
    },
    {
     "name": "stdout",
     "output_type": "stream",
     "text": [
      "0283.png\n"
     ]
    },
    {
     "name": "stderr",
     "output_type": "stream",
     "text": [
      "/home/sh38/anaconda3/envs/proGAN_tf/lib/python3.6/site-packages/ipykernel_launcher.py:28: UserWarning: /home/sh38/segmentation_models/phase_cells/data/cell_cycle_down2/train_masks/0283.png is a low contrast image\n"
     ]
    },
    {
     "name": "stdout",
     "output_type": "stream",
     "text": [
      "0253.png\n"
     ]
    },
    {
     "name": "stderr",
     "output_type": "stream",
     "text": [
      "/home/sh38/anaconda3/envs/proGAN_tf/lib/python3.6/site-packages/ipykernel_launcher.py:28: UserWarning: /home/sh38/segmentation_models/phase_cells/data/cell_cycle_down2/train_masks/0253.png is a low contrast image\n",
      "/home/sh38/anaconda3/envs/proGAN_tf/lib/python3.6/site-packages/ipykernel_launcher.py:28: UserWarning: /home/sh38/segmentation_models/phase_cells/data/cell_cycle_down2/train_images/0057.png is a low contrast image\n"
     ]
    },
    {
     "name": "stdout",
     "output_type": "stream",
     "text": [
      "0057.png\n"
     ]
    },
    {
     "name": "stderr",
     "output_type": "stream",
     "text": [
      "/home/sh38/anaconda3/envs/proGAN_tf/lib/python3.6/site-packages/ipykernel_launcher.py:28: UserWarning: /home/sh38/segmentation_models/phase_cells/data/cell_cycle_down2/train_masks/0057.png is a low contrast image\n"
     ]
    },
    {
     "name": "stdout",
     "output_type": "stream",
     "text": [
      "0281.png\n"
     ]
    },
    {
     "name": "stderr",
     "output_type": "stream",
     "text": [
      "/home/sh38/anaconda3/envs/proGAN_tf/lib/python3.6/site-packages/ipykernel_launcher.py:28: UserWarning: /home/sh38/segmentation_models/phase_cells/data/cell_cycle_down2/train_masks/0281.png is a low contrast image\n",
      "/home/sh38/anaconda3/envs/proGAN_tf/lib/python3.6/site-packages/ipykernel_launcher.py:28: UserWarning: /home/sh38/segmentation_models/phase_cells/data/cell_cycle_down2/train_images/0558.png is a low contrast image\n"
     ]
    },
    {
     "name": "stdout",
     "output_type": "stream",
     "text": [
      "0558.png\n"
     ]
    },
    {
     "name": "stderr",
     "output_type": "stream",
     "text": [
      "/home/sh38/anaconda3/envs/proGAN_tf/lib/python3.6/site-packages/ipykernel_launcher.py:28: UserWarning: /home/sh38/segmentation_models/phase_cells/data/cell_cycle_down2/train_masks/0558.png is a low contrast image\n"
     ]
    },
    {
     "name": "stdout",
     "output_type": "stream",
     "text": [
      "0802.png\n"
     ]
    },
    {
     "name": "stderr",
     "output_type": "stream",
     "text": [
      "/home/sh38/anaconda3/envs/proGAN_tf/lib/python3.6/site-packages/ipykernel_launcher.py:28: UserWarning: /home/sh38/segmentation_models/phase_cells/data/cell_cycle_down2/train_masks/0802.png is a low contrast image\n",
      "/home/sh38/anaconda3/envs/proGAN_tf/lib/python3.6/site-packages/ipykernel_launcher.py:28: UserWarning: /home/sh38/segmentation_models/phase_cells/data/cell_cycle_down2/train_images/0803.png is a low contrast image\n"
     ]
    },
    {
     "name": "stdout",
     "output_type": "stream",
     "text": [
      "0803.png\n"
     ]
    },
    {
     "name": "stderr",
     "output_type": "stream",
     "text": [
      "/home/sh38/anaconda3/envs/proGAN_tf/lib/python3.6/site-packages/ipykernel_launcher.py:28: UserWarning: /home/sh38/segmentation_models/phase_cells/data/cell_cycle_down2/train_masks/0803.png is a low contrast image\n"
     ]
    },
    {
     "name": "stdout",
     "output_type": "stream",
     "text": [
      "0207.png\n"
     ]
    },
    {
     "name": "stderr",
     "output_type": "stream",
     "text": [
      "/home/sh38/anaconda3/envs/proGAN_tf/lib/python3.6/site-packages/ipykernel_launcher.py:28: UserWarning: /home/sh38/segmentation_models/phase_cells/data/cell_cycle_down2/train_masks/0207.png is a low contrast image\n"
     ]
    },
    {
     "name": "stdout",
     "output_type": "stream",
     "text": [
      "0769.png\n"
     ]
    },
    {
     "name": "stderr",
     "output_type": "stream",
     "text": [
      "/home/sh38/anaconda3/envs/proGAN_tf/lib/python3.6/site-packages/ipykernel_launcher.py:28: UserWarning: /home/sh38/segmentation_models/phase_cells/data/cell_cycle_down2/train_masks/0769.png is a low contrast image\n"
     ]
    },
    {
     "name": "stdout",
     "output_type": "stream",
     "text": [
      "0035.png\n"
     ]
    },
    {
     "name": "stderr",
     "output_type": "stream",
     "text": [
      "/home/sh38/anaconda3/envs/proGAN_tf/lib/python3.6/site-packages/ipykernel_launcher.py:28: UserWarning: /home/sh38/segmentation_models/phase_cells/data/cell_cycle_down2/train_masks/0035.png is a low contrast image\n"
     ]
    },
    {
     "name": "stdout",
     "output_type": "stream",
     "text": [
      "0579.png\n"
     ]
    },
    {
     "name": "stderr",
     "output_type": "stream",
     "text": [
      "/home/sh38/anaconda3/envs/proGAN_tf/lib/python3.6/site-packages/ipykernel_launcher.py:28: UserWarning: /home/sh38/segmentation_models/phase_cells/data/cell_cycle_down2/train_masks/0579.png is a low contrast image\n"
     ]
    },
    {
     "name": "stdout",
     "output_type": "stream",
     "text": [
      "0053.png\n"
     ]
    },
    {
     "name": "stderr",
     "output_type": "stream",
     "text": [
      "/home/sh38/anaconda3/envs/proGAN_tf/lib/python3.6/site-packages/ipykernel_launcher.py:28: UserWarning: /home/sh38/segmentation_models/phase_cells/data/cell_cycle_down2/train_masks/0053.png is a low contrast image\n"
     ]
    },
    {
     "name": "stdout",
     "output_type": "stream",
     "text": [
      "0353.png\n"
     ]
    },
    {
     "name": "stderr",
     "output_type": "stream",
     "text": [
      "/home/sh38/anaconda3/envs/proGAN_tf/lib/python3.6/site-packages/ipykernel_launcher.py:28: UserWarning: /home/sh38/segmentation_models/phase_cells/data/cell_cycle_down2/train_masks/0353.png is a low contrast image\n",
      "/home/sh38/anaconda3/envs/proGAN_tf/lib/python3.6/site-packages/ipykernel_launcher.py:28: UserWarning: /home/sh38/segmentation_models/phase_cells/data/cell_cycle_down2/train_images/0166.png is a low contrast image\n"
     ]
    },
    {
     "name": "stdout",
     "output_type": "stream",
     "text": [
      "0166.png\n"
     ]
    },
    {
     "name": "stderr",
     "output_type": "stream",
     "text": [
      "/home/sh38/anaconda3/envs/proGAN_tf/lib/python3.6/site-packages/ipykernel_launcher.py:28: UserWarning: /home/sh38/segmentation_models/phase_cells/data/cell_cycle_down2/train_masks/0166.png is a low contrast image\n"
     ]
    },
    {
     "name": "stdout",
     "output_type": "stream",
     "text": [
      "0640.png\n"
     ]
    },
    {
     "name": "stderr",
     "output_type": "stream",
     "text": [
      "/home/sh38/anaconda3/envs/proGAN_tf/lib/python3.6/site-packages/ipykernel_launcher.py:28: UserWarning: /home/sh38/segmentation_models/phase_cells/data/cell_cycle_down2/train_masks/0640.png is a low contrast image\n"
     ]
    },
    {
     "name": "stdout",
     "output_type": "stream",
     "text": [
      "0634.png\n"
     ]
    },
    {
     "name": "stderr",
     "output_type": "stream",
     "text": [
      "/home/sh38/anaconda3/envs/proGAN_tf/lib/python3.6/site-packages/ipykernel_launcher.py:28: UserWarning: /home/sh38/segmentation_models/phase_cells/data/cell_cycle_down2/train_masks/0634.png is a low contrast image\n"
     ]
    },
    {
     "name": "stdout",
     "output_type": "stream",
     "text": [
      "0060.png\n"
     ]
    },
    {
     "name": "stderr",
     "output_type": "stream",
     "text": [
      "/home/sh38/anaconda3/envs/proGAN_tf/lib/python3.6/site-packages/ipykernel_launcher.py:28: UserWarning: /home/sh38/segmentation_models/phase_cells/data/cell_cycle_down2/train_masks/0060.png is a low contrast image\n"
     ]
    },
    {
     "name": "stdout",
     "output_type": "stream",
     "text": [
      "0340.png\n"
     ]
    },
    {
     "name": "stderr",
     "output_type": "stream",
     "text": [
      "/home/sh38/anaconda3/envs/proGAN_tf/lib/python3.6/site-packages/ipykernel_launcher.py:28: UserWarning: /home/sh38/segmentation_models/phase_cells/data/cell_cycle_down2/train_masks/0340.png is a low contrast image\n"
     ]
    },
    {
     "name": "stdout",
     "output_type": "stream",
     "text": [
      "0320.png\n"
     ]
    },
    {
     "name": "stderr",
     "output_type": "stream",
     "text": [
      "/home/sh38/anaconda3/envs/proGAN_tf/lib/python3.6/site-packages/ipykernel_launcher.py:28: UserWarning: /home/sh38/segmentation_models/phase_cells/data/cell_cycle_down2/train_masks/0320.png is a low contrast image\n"
     ]
    },
    {
     "name": "stdout",
     "output_type": "stream",
     "text": [
      "0774.png\n"
     ]
    },
    {
     "name": "stderr",
     "output_type": "stream",
     "text": [
      "/home/sh38/anaconda3/envs/proGAN_tf/lib/python3.6/site-packages/ipykernel_launcher.py:28: UserWarning: /home/sh38/segmentation_models/phase_cells/data/cell_cycle_down2/train_masks/0774.png is a low contrast image\n"
     ]
    },
    {
     "name": "stdout",
     "output_type": "stream",
     "text": [
      "0391.png\n"
     ]
    },
    {
     "name": "stderr",
     "output_type": "stream",
     "text": [
      "/home/sh38/anaconda3/envs/proGAN_tf/lib/python3.6/site-packages/ipykernel_launcher.py:28: UserWarning: /home/sh38/segmentation_models/phase_cells/data/cell_cycle_down2/train_masks/0391.png is a low contrast image\n"
     ]
    },
    {
     "name": "stdout",
     "output_type": "stream",
     "text": [
      "0077.png\n"
     ]
    },
    {
     "name": "stderr",
     "output_type": "stream",
     "text": [
      "/home/sh38/anaconda3/envs/proGAN_tf/lib/python3.6/site-packages/ipykernel_launcher.py:28: UserWarning: /home/sh38/segmentation_models/phase_cells/data/cell_cycle_down2/train_masks/0077.png is a low contrast image\n"
     ]
    },
    {
     "name": "stdout",
     "output_type": "stream",
     "text": [
      "0723.png\n"
     ]
    },
    {
     "name": "stderr",
     "output_type": "stream",
     "text": [
      "/home/sh38/anaconda3/envs/proGAN_tf/lib/python3.6/site-packages/ipykernel_launcher.py:28: UserWarning: /home/sh38/segmentation_models/phase_cells/data/cell_cycle_down2/train_masks/0723.png is a low contrast image\n",
      "/home/sh38/anaconda3/envs/proGAN_tf/lib/python3.6/site-packages/ipykernel_launcher.py:28: UserWarning: /home/sh38/segmentation_models/phase_cells/data/cell_cycle_down2/train_images/0698.png is a low contrast image\n"
     ]
    },
    {
     "name": "stdout",
     "output_type": "stream",
     "text": [
      "0698.png\n"
     ]
    },
    {
     "name": "stderr",
     "output_type": "stream",
     "text": [
      "/home/sh38/anaconda3/envs/proGAN_tf/lib/python3.6/site-packages/ipykernel_launcher.py:28: UserWarning: /home/sh38/segmentation_models/phase_cells/data/cell_cycle_down2/train_masks/0698.png is a low contrast image\n"
     ]
    },
    {
     "name": "stdout",
     "output_type": "stream",
     "text": [
      "0358.png\n"
     ]
    },
    {
     "name": "stderr",
     "output_type": "stream",
     "text": [
      "/home/sh38/anaconda3/envs/proGAN_tf/lib/python3.6/site-packages/ipykernel_launcher.py:28: UserWarning: /home/sh38/segmentation_models/phase_cells/data/cell_cycle_down2/train_masks/0358.png is a low contrast image\n"
     ]
    },
    {
     "name": "stdout",
     "output_type": "stream",
     "text": [
      "0815.png\n"
     ]
    },
    {
     "name": "stderr",
     "output_type": "stream",
     "text": [
      "/home/sh38/anaconda3/envs/proGAN_tf/lib/python3.6/site-packages/ipykernel_launcher.py:28: UserWarning: /home/sh38/segmentation_models/phase_cells/data/cell_cycle_down2/train_masks/0815.png is a low contrast image\n",
      "/home/sh38/anaconda3/envs/proGAN_tf/lib/python3.6/site-packages/ipykernel_launcher.py:28: UserWarning: /home/sh38/segmentation_models/phase_cells/data/cell_cycle_down2/train_images/0302.png is a low contrast image\n"
     ]
    },
    {
     "name": "stdout",
     "output_type": "stream",
     "text": [
      "0302.png\n"
     ]
    },
    {
     "name": "stderr",
     "output_type": "stream",
     "text": [
      "/home/sh38/anaconda3/envs/proGAN_tf/lib/python3.6/site-packages/ipykernel_launcher.py:28: UserWarning: /home/sh38/segmentation_models/phase_cells/data/cell_cycle_down2/train_masks/0302.png is a low contrast image\n"
     ]
    },
    {
     "name": "stdout",
     "output_type": "stream",
     "text": [
      "0387.png\n"
     ]
    },
    {
     "name": "stderr",
     "output_type": "stream",
     "text": [
      "/home/sh38/anaconda3/envs/proGAN_tf/lib/python3.6/site-packages/ipykernel_launcher.py:28: UserWarning: /home/sh38/segmentation_models/phase_cells/data/cell_cycle_down2/train_masks/0387.png is a low contrast image\n",
      "/home/sh38/anaconda3/envs/proGAN_tf/lib/python3.6/site-packages/ipykernel_launcher.py:28: UserWarning: /home/sh38/segmentation_models/phase_cells/data/cell_cycle_down2/train_images/0492.png is a low contrast image\n"
     ]
    },
    {
     "name": "stdout",
     "output_type": "stream",
     "text": [
      "0492.png\n"
     ]
    },
    {
     "name": "stderr",
     "output_type": "stream",
     "text": [
      "/home/sh38/anaconda3/envs/proGAN_tf/lib/python3.6/site-packages/ipykernel_launcher.py:28: UserWarning: /home/sh38/segmentation_models/phase_cells/data/cell_cycle_down2/train_masks/0492.png is a low contrast image\n"
     ]
    },
    {
     "name": "stdout",
     "output_type": "stream",
     "text": [
      "0589.png\n"
     ]
    },
    {
     "name": "stderr",
     "output_type": "stream",
     "text": [
      "/home/sh38/anaconda3/envs/proGAN_tf/lib/python3.6/site-packages/ipykernel_launcher.py:28: UserWarning: /home/sh38/segmentation_models/phase_cells/data/cell_cycle_down2/train_masks/0589.png is a low contrast image\n"
     ]
    },
    {
     "name": "stdout",
     "output_type": "stream",
     "text": [
      "0822.png\n"
     ]
    },
    {
     "name": "stderr",
     "output_type": "stream",
     "text": [
      "/home/sh38/anaconda3/envs/proGAN_tf/lib/python3.6/site-packages/ipykernel_launcher.py:28: UserWarning: /home/sh38/segmentation_models/phase_cells/data/cell_cycle_down2/train_masks/0822.png is a low contrast image\n"
     ]
    },
    {
     "name": "stdout",
     "output_type": "stream",
     "text": [
      "0497.png\n"
     ]
    },
    {
     "name": "stderr",
     "output_type": "stream",
     "text": [
      "/home/sh38/anaconda3/envs/proGAN_tf/lib/python3.6/site-packages/ipykernel_launcher.py:28: UserWarning: /home/sh38/segmentation_models/phase_cells/data/cell_cycle_down2/train_masks/0497.png is a low contrast image\n"
     ]
    },
    {
     "name": "stdout",
     "output_type": "stream",
     "text": [
      "0331.png\n"
     ]
    },
    {
     "name": "stderr",
     "output_type": "stream",
     "text": [
      "/home/sh38/anaconda3/envs/proGAN_tf/lib/python3.6/site-packages/ipykernel_launcher.py:28: UserWarning: /home/sh38/segmentation_models/phase_cells/data/cell_cycle_down2/train_masks/0331.png is a low contrast image\n"
     ]
    },
    {
     "name": "stdout",
     "output_type": "stream",
     "text": [
      "0359.png\n"
     ]
    },
    {
     "name": "stderr",
     "output_type": "stream",
     "text": [
      "/home/sh38/anaconda3/envs/proGAN_tf/lib/python3.6/site-packages/ipykernel_launcher.py:28: UserWarning: /home/sh38/segmentation_models/phase_cells/data/cell_cycle_down2/train_masks/0359.png is a low contrast image\n"
     ]
    },
    {
     "name": "stdout",
     "output_type": "stream",
     "text": [
      "0724.png\n"
     ]
    },
    {
     "name": "stderr",
     "output_type": "stream",
     "text": [
      "/home/sh38/anaconda3/envs/proGAN_tf/lib/python3.6/site-packages/ipykernel_launcher.py:28: UserWarning: /home/sh38/segmentation_models/phase_cells/data/cell_cycle_down2/train_masks/0724.png is a low contrast image\n"
     ]
    },
    {
     "name": "stdout",
     "output_type": "stream",
     "text": [
      "0420.png\n"
     ]
    },
    {
     "name": "stderr",
     "output_type": "stream",
     "text": [
      "/home/sh38/anaconda3/envs/proGAN_tf/lib/python3.6/site-packages/ipykernel_launcher.py:28: UserWarning: /home/sh38/segmentation_models/phase_cells/data/cell_cycle_down2/train_masks/0420.png is a low contrast image\n"
     ]
    },
    {
     "name": "stdout",
     "output_type": "stream",
     "text": [
      "0807.png\n"
     ]
    },
    {
     "name": "stderr",
     "output_type": "stream",
     "text": [
      "/home/sh38/anaconda3/envs/proGAN_tf/lib/python3.6/site-packages/ipykernel_launcher.py:28: UserWarning: /home/sh38/segmentation_models/phase_cells/data/cell_cycle_down2/train_masks/0807.png is a low contrast image\n"
     ]
    },
    {
     "name": "stdout",
     "output_type": "stream",
     "text": [
      "0557.png\n"
     ]
    },
    {
     "name": "stderr",
     "output_type": "stream",
     "text": [
      "/home/sh38/anaconda3/envs/proGAN_tf/lib/python3.6/site-packages/ipykernel_launcher.py:28: UserWarning: /home/sh38/segmentation_models/phase_cells/data/cell_cycle_down2/train_masks/0557.png is a low contrast image\n"
     ]
    },
    {
     "name": "stdout",
     "output_type": "stream",
     "text": [
      "0517.png\n"
     ]
    },
    {
     "name": "stderr",
     "output_type": "stream",
     "text": [
      "/home/sh38/anaconda3/envs/proGAN_tf/lib/python3.6/site-packages/ipykernel_launcher.py:28: UserWarning: /home/sh38/segmentation_models/phase_cells/data/cell_cycle_down2/train_masks/0517.png is a low contrast image\n"
     ]
    },
    {
     "name": "stdout",
     "output_type": "stream",
     "text": [
      "0685.png\n"
     ]
    },
    {
     "name": "stderr",
     "output_type": "stream",
     "text": [
      "/home/sh38/anaconda3/envs/proGAN_tf/lib/python3.6/site-packages/ipykernel_launcher.py:28: UserWarning: /home/sh38/segmentation_models/phase_cells/data/cell_cycle_down2/train_masks/0685.png is a low contrast image\n",
      "/home/sh38/anaconda3/envs/proGAN_tf/lib/python3.6/site-packages/ipykernel_launcher.py:28: UserWarning: /home/sh38/segmentation_models/phase_cells/data/cell_cycle_down2/train_images/0628.png is a low contrast image\n"
     ]
    },
    {
     "name": "stdout",
     "output_type": "stream",
     "text": [
      "0628.png\n"
     ]
    },
    {
     "name": "stderr",
     "output_type": "stream",
     "text": [
      "/home/sh38/anaconda3/envs/proGAN_tf/lib/python3.6/site-packages/ipykernel_launcher.py:28: UserWarning: /home/sh38/segmentation_models/phase_cells/data/cell_cycle_down2/train_masks/0628.png is a low contrast image\n"
     ]
    },
    {
     "name": "stdout",
     "output_type": "stream",
     "text": [
      "0183.png\n"
     ]
    },
    {
     "name": "stderr",
     "output_type": "stream",
     "text": [
      "/home/sh38/anaconda3/envs/proGAN_tf/lib/python3.6/site-packages/ipykernel_launcher.py:28: UserWarning: /home/sh38/segmentation_models/phase_cells/data/cell_cycle_down2/train_masks/0183.png is a low contrast image\n"
     ]
    },
    {
     "name": "stdout",
     "output_type": "stream",
     "text": [
      "0312.png\n"
     ]
    },
    {
     "name": "stderr",
     "output_type": "stream",
     "text": [
      "/home/sh38/anaconda3/envs/proGAN_tf/lib/python3.6/site-packages/ipykernel_launcher.py:28: UserWarning: /home/sh38/segmentation_models/phase_cells/data/cell_cycle_down2/train_masks/0312.png is a low contrast image\n"
     ]
    },
    {
     "name": "stdout",
     "output_type": "stream",
     "text": [
      "0104.png\n"
     ]
    },
    {
     "name": "stderr",
     "output_type": "stream",
     "text": [
      "/home/sh38/anaconda3/envs/proGAN_tf/lib/python3.6/site-packages/ipykernel_launcher.py:28: UserWarning: /home/sh38/segmentation_models/phase_cells/data/cell_cycle_down2/train_masks/0104.png is a low contrast image\n"
     ]
    },
    {
     "name": "stdout",
     "output_type": "stream",
     "text": [
      "0448.png\n"
     ]
    },
    {
     "name": "stderr",
     "output_type": "stream",
     "text": [
      "/home/sh38/anaconda3/envs/proGAN_tf/lib/python3.6/site-packages/ipykernel_launcher.py:28: UserWarning: /home/sh38/segmentation_models/phase_cells/data/cell_cycle_down2/train_masks/0448.png is a low contrast image\n"
     ]
    },
    {
     "name": "stdout",
     "output_type": "stream",
     "text": [
      "0763.png\n"
     ]
    },
    {
     "name": "stderr",
     "output_type": "stream",
     "text": [
      "/home/sh38/anaconda3/envs/proGAN_tf/lib/python3.6/site-packages/ipykernel_launcher.py:28: UserWarning: /home/sh38/segmentation_models/phase_cells/data/cell_cycle_down2/train_masks/0763.png is a low contrast image\n"
     ]
    },
    {
     "name": "stdout",
     "output_type": "stream",
     "text": [
      "0436.png\n"
     ]
    },
    {
     "name": "stderr",
     "output_type": "stream",
     "text": [
      "/home/sh38/anaconda3/envs/proGAN_tf/lib/python3.6/site-packages/ipykernel_launcher.py:28: UserWarning: /home/sh38/segmentation_models/phase_cells/data/cell_cycle_down2/train_masks/0436.png is a low contrast image\n"
     ]
    },
    {
     "name": "stdout",
     "output_type": "stream",
     "text": [
      "0160.png\n"
     ]
    },
    {
     "name": "stderr",
     "output_type": "stream",
     "text": [
      "/home/sh38/anaconda3/envs/proGAN_tf/lib/python3.6/site-packages/ipykernel_launcher.py:28: UserWarning: /home/sh38/segmentation_models/phase_cells/data/cell_cycle_down2/train_masks/0160.png is a low contrast image\n",
      "/home/sh38/anaconda3/envs/proGAN_tf/lib/python3.6/site-packages/ipykernel_launcher.py:28: UserWarning: /home/sh38/segmentation_models/phase_cells/data/cell_cycle_down2/train_images/0796.png is a low contrast image\n"
     ]
    },
    {
     "name": "stdout",
     "output_type": "stream",
     "text": [
      "0796.png\n"
     ]
    },
    {
     "name": "stderr",
     "output_type": "stream",
     "text": [
      "/home/sh38/anaconda3/envs/proGAN_tf/lib/python3.6/site-packages/ipykernel_launcher.py:28: UserWarning: /home/sh38/segmentation_models/phase_cells/data/cell_cycle_down2/train_masks/0796.png is a low contrast image\n"
     ]
    },
    {
     "name": "stdout",
     "output_type": "stream",
     "text": [
      "0821.png\n"
     ]
    },
    {
     "name": "stderr",
     "output_type": "stream",
     "text": [
      "/home/sh38/anaconda3/envs/proGAN_tf/lib/python3.6/site-packages/ipykernel_launcher.py:28: UserWarning: /home/sh38/segmentation_models/phase_cells/data/cell_cycle_down2/train_masks/0821.png is a low contrast image\n"
     ]
    },
    {
     "name": "stdout",
     "output_type": "stream",
     "text": [
      "0091.png\n"
     ]
    },
    {
     "name": "stderr",
     "output_type": "stream",
     "text": [
      "/home/sh38/anaconda3/envs/proGAN_tf/lib/python3.6/site-packages/ipykernel_launcher.py:28: UserWarning: /home/sh38/segmentation_models/phase_cells/data/cell_cycle_down2/train_masks/0091.png is a low contrast image\n"
     ]
    },
    {
     "name": "stdout",
     "output_type": "stream",
     "text": [
      "0831.png\n"
     ]
    },
    {
     "name": "stderr",
     "output_type": "stream",
     "text": [
      "/home/sh38/anaconda3/envs/proGAN_tf/lib/python3.6/site-packages/ipykernel_launcher.py:28: UserWarning: /home/sh38/segmentation_models/phase_cells/data/cell_cycle_down2/train_masks/0831.png is a low contrast image\n"
     ]
    },
    {
     "name": "stdout",
     "output_type": "stream",
     "text": [
      "0144.png\n"
     ]
    },
    {
     "name": "stderr",
     "output_type": "stream",
     "text": [
      "/home/sh38/anaconda3/envs/proGAN_tf/lib/python3.6/site-packages/ipykernel_launcher.py:28: UserWarning: /home/sh38/segmentation_models/phase_cells/data/cell_cycle_down2/train_masks/0144.png is a low contrast image\n"
     ]
    },
    {
     "name": "stdout",
     "output_type": "stream",
     "text": [
      "0161.png\n"
     ]
    },
    {
     "name": "stderr",
     "output_type": "stream",
     "text": [
      "/home/sh38/anaconda3/envs/proGAN_tf/lib/python3.6/site-packages/ipykernel_launcher.py:28: UserWarning: /home/sh38/segmentation_models/phase_cells/data/cell_cycle_down2/train_masks/0161.png is a low contrast image\n"
     ]
    },
    {
     "name": "stdout",
     "output_type": "stream",
     "text": [
      "0879.png\n"
     ]
    },
    {
     "name": "stderr",
     "output_type": "stream",
     "text": [
      "/home/sh38/anaconda3/envs/proGAN_tf/lib/python3.6/site-packages/ipykernel_launcher.py:28: UserWarning: /home/sh38/segmentation_models/phase_cells/data/cell_cycle_down2/train_masks/0879.png is a low contrast image\n"
     ]
    },
    {
     "name": "stdout",
     "output_type": "stream",
     "text": [
      "0784.png\n"
     ]
    },
    {
     "name": "stderr",
     "output_type": "stream",
     "text": [
      "/home/sh38/anaconda3/envs/proGAN_tf/lib/python3.6/site-packages/ipykernel_launcher.py:28: UserWarning: /home/sh38/segmentation_models/phase_cells/data/cell_cycle_down2/train_masks/0784.png is a low contrast image\n"
     ]
    },
    {
     "name": "stdout",
     "output_type": "stream",
     "text": [
      "0666.png\n"
     ]
    },
    {
     "name": "stderr",
     "output_type": "stream",
     "text": [
      "/home/sh38/anaconda3/envs/proGAN_tf/lib/python3.6/site-packages/ipykernel_launcher.py:28: UserWarning: /home/sh38/segmentation_models/phase_cells/data/cell_cycle_down2/train_masks/0666.png is a low contrast image\n"
     ]
    },
    {
     "name": "stdout",
     "output_type": "stream",
     "text": [
      "0598.png\n"
     ]
    },
    {
     "name": "stderr",
     "output_type": "stream",
     "text": [
      "/home/sh38/anaconda3/envs/proGAN_tf/lib/python3.6/site-packages/ipykernel_launcher.py:28: UserWarning: /home/sh38/segmentation_models/phase_cells/data/cell_cycle_down2/train_masks/0598.png is a low contrast image\n",
      "/home/sh38/anaconda3/envs/proGAN_tf/lib/python3.6/site-packages/ipykernel_launcher.py:28: UserWarning: /home/sh38/segmentation_models/phase_cells/data/cell_cycle_down2/train_images/0051.png is a low contrast image\n"
     ]
    },
    {
     "name": "stdout",
     "output_type": "stream",
     "text": [
      "0051.png\n"
     ]
    },
    {
     "name": "stderr",
     "output_type": "stream",
     "text": [
      "/home/sh38/anaconda3/envs/proGAN_tf/lib/python3.6/site-packages/ipykernel_launcher.py:28: UserWarning: /home/sh38/segmentation_models/phase_cells/data/cell_cycle_down2/train_masks/0051.png is a low contrast image\n"
     ]
    },
    {
     "name": "stdout",
     "output_type": "stream",
     "text": [
      "0515.png\n"
     ]
    },
    {
     "name": "stderr",
     "output_type": "stream",
     "text": [
      "/home/sh38/anaconda3/envs/proGAN_tf/lib/python3.6/site-packages/ipykernel_launcher.py:28: UserWarning: /home/sh38/segmentation_models/phase_cells/data/cell_cycle_down2/train_masks/0515.png is a low contrast image\n"
     ]
    },
    {
     "name": "stdout",
     "output_type": "stream",
     "text": [
      "0812.png\n"
     ]
    },
    {
     "name": "stderr",
     "output_type": "stream",
     "text": [
      "/home/sh38/anaconda3/envs/proGAN_tf/lib/python3.6/site-packages/ipykernel_launcher.py:28: UserWarning: /home/sh38/segmentation_models/phase_cells/data/cell_cycle_down2/train_masks/0812.png is a low contrast image\n"
     ]
    },
    {
     "name": "stdout",
     "output_type": "stream",
     "text": [
      "0842.png\n"
     ]
    },
    {
     "name": "stderr",
     "output_type": "stream",
     "text": [
      "/home/sh38/anaconda3/envs/proGAN_tf/lib/python3.6/site-packages/ipykernel_launcher.py:28: UserWarning: /home/sh38/segmentation_models/phase_cells/data/cell_cycle_down2/train_masks/0842.png is a low contrast image\n",
      "/home/sh38/anaconda3/envs/proGAN_tf/lib/python3.6/site-packages/ipykernel_launcher.py:28: UserWarning: /home/sh38/segmentation_models/phase_cells/data/cell_cycle_down2/train_images/0481.png is a low contrast image\n"
     ]
    },
    {
     "name": "stdout",
     "output_type": "stream",
     "text": [
      "0481.png\n"
     ]
    },
    {
     "name": "stderr",
     "output_type": "stream",
     "text": [
      "/home/sh38/anaconda3/envs/proGAN_tf/lib/python3.6/site-packages/ipykernel_launcher.py:28: UserWarning: /home/sh38/segmentation_models/phase_cells/data/cell_cycle_down2/train_masks/0481.png is a low contrast image\n",
      "/home/sh38/anaconda3/envs/proGAN_tf/lib/python3.6/site-packages/ipykernel_launcher.py:28: UserWarning: /home/sh38/segmentation_models/phase_cells/data/cell_cycle_down2/train_images/0453.png is a low contrast image\n"
     ]
    },
    {
     "name": "stdout",
     "output_type": "stream",
     "text": [
      "0453.png\n"
     ]
    },
    {
     "name": "stderr",
     "output_type": "stream",
     "text": [
      "/home/sh38/anaconda3/envs/proGAN_tf/lib/python3.6/site-packages/ipykernel_launcher.py:28: UserWarning: /home/sh38/segmentation_models/phase_cells/data/cell_cycle_down2/train_masks/0453.png is a low contrast image\n"
     ]
    },
    {
     "name": "stdout",
     "output_type": "stream",
     "text": [
      "0712.png\n"
     ]
    },
    {
     "name": "stderr",
     "output_type": "stream",
     "text": [
      "/home/sh38/anaconda3/envs/proGAN_tf/lib/python3.6/site-packages/ipykernel_launcher.py:28: UserWarning: /home/sh38/segmentation_models/phase_cells/data/cell_cycle_down2/train_masks/0712.png is a low contrast image\n"
     ]
    },
    {
     "name": "stdout",
     "output_type": "stream",
     "text": [
      "0087.png\n"
     ]
    },
    {
     "name": "stderr",
     "output_type": "stream",
     "text": [
      "/home/sh38/anaconda3/envs/proGAN_tf/lib/python3.6/site-packages/ipykernel_launcher.py:28: UserWarning: /home/sh38/segmentation_models/phase_cells/data/cell_cycle_down2/train_masks/0087.png is a low contrast image\n",
      "/home/sh38/anaconda3/envs/proGAN_tf/lib/python3.6/site-packages/ipykernel_launcher.py:28: UserWarning: /home/sh38/segmentation_models/phase_cells/data/cell_cycle_down2/train_images/0362.png is a low contrast image\n"
     ]
    },
    {
     "name": "stdout",
     "output_type": "stream",
     "text": [
      "0362.png\n"
     ]
    },
    {
     "name": "stderr",
     "output_type": "stream",
     "text": [
      "/home/sh38/anaconda3/envs/proGAN_tf/lib/python3.6/site-packages/ipykernel_launcher.py:28: UserWarning: /home/sh38/segmentation_models/phase_cells/data/cell_cycle_down2/train_masks/0362.png is a low contrast image\n"
     ]
    },
    {
     "name": "stdout",
     "output_type": "stream",
     "text": [
      "0575.png\n"
     ]
    },
    {
     "name": "stderr",
     "output_type": "stream",
     "text": [
      "/home/sh38/anaconda3/envs/proGAN_tf/lib/python3.6/site-packages/ipykernel_launcher.py:28: UserWarning: /home/sh38/segmentation_models/phase_cells/data/cell_cycle_down2/train_masks/0575.png is a low contrast image\n"
     ]
    },
    {
     "name": "stdout",
     "output_type": "stream",
     "text": [
      "0000.png\n"
     ]
    },
    {
     "name": "stderr",
     "output_type": "stream",
     "text": [
      "/home/sh38/anaconda3/envs/proGAN_tf/lib/python3.6/site-packages/ipykernel_launcher.py:28: UserWarning: /home/sh38/segmentation_models/phase_cells/data/cell_cycle_down2/train_masks/0000.png is a low contrast image\n"
     ]
    },
    {
     "name": "stdout",
     "output_type": "stream",
     "text": [
      "0237.png\n"
     ]
    },
    {
     "name": "stderr",
     "output_type": "stream",
     "text": [
      "/home/sh38/anaconda3/envs/proGAN_tf/lib/python3.6/site-packages/ipykernel_launcher.py:28: UserWarning: /home/sh38/segmentation_models/phase_cells/data/cell_cycle_down2/train_masks/0237.png is a low contrast image\n"
     ]
    },
    {
     "name": "stdout",
     "output_type": "stream",
     "text": [
      "0037.png\n"
     ]
    },
    {
     "name": "stderr",
     "output_type": "stream",
     "text": [
      "/home/sh38/anaconda3/envs/proGAN_tf/lib/python3.6/site-packages/ipykernel_launcher.py:28: UserWarning: /home/sh38/segmentation_models/phase_cells/data/cell_cycle_down2/train_masks/0037.png is a low contrast image\n",
      "/home/sh38/anaconda3/envs/proGAN_tf/lib/python3.6/site-packages/ipykernel_launcher.py:28: UserWarning: /home/sh38/segmentation_models/phase_cells/data/cell_cycle_down2/train_images/0313.png is a low contrast image\n"
     ]
    },
    {
     "name": "stdout",
     "output_type": "stream",
     "text": [
      "0313.png\n"
     ]
    },
    {
     "name": "stderr",
     "output_type": "stream",
     "text": [
      "/home/sh38/anaconda3/envs/proGAN_tf/lib/python3.6/site-packages/ipykernel_launcher.py:28: UserWarning: /home/sh38/segmentation_models/phase_cells/data/cell_cycle_down2/train_masks/0313.png is a low contrast image\n"
     ]
    },
    {
     "name": "stdout",
     "output_type": "stream",
     "text": [
      "0674.png\n"
     ]
    },
    {
     "name": "stderr",
     "output_type": "stream",
     "text": [
      "/home/sh38/anaconda3/envs/proGAN_tf/lib/python3.6/site-packages/ipykernel_launcher.py:28: UserWarning: /home/sh38/segmentation_models/phase_cells/data/cell_cycle_down2/train_masks/0674.png is a low contrast image\n"
     ]
    },
    {
     "name": "stdout",
     "output_type": "stream",
     "text": [
      "0083.png\n"
     ]
    },
    {
     "name": "stderr",
     "output_type": "stream",
     "text": [
      "/home/sh38/anaconda3/envs/proGAN_tf/lib/python3.6/site-packages/ipykernel_launcher.py:28: UserWarning: /home/sh38/segmentation_models/phase_cells/data/cell_cycle_down2/train_masks/0083.png is a low contrast image\n"
     ]
    },
    {
     "name": "stdout",
     "output_type": "stream",
     "text": [
      "0335.png\n"
     ]
    },
    {
     "name": "stderr",
     "output_type": "stream",
     "text": [
      "/home/sh38/anaconda3/envs/proGAN_tf/lib/python3.6/site-packages/ipykernel_launcher.py:28: UserWarning: /home/sh38/segmentation_models/phase_cells/data/cell_cycle_down2/train_masks/0335.png is a low contrast image\n",
      "/home/sh38/anaconda3/envs/proGAN_tf/lib/python3.6/site-packages/ipykernel_launcher.py:28: UserWarning: /home/sh38/segmentation_models/phase_cells/data/cell_cycle_down2/train_images/0089.png is a low contrast image\n"
     ]
    },
    {
     "name": "stdout",
     "output_type": "stream",
     "text": [
      "0089.png\n"
     ]
    },
    {
     "name": "stderr",
     "output_type": "stream",
     "text": [
      "/home/sh38/anaconda3/envs/proGAN_tf/lib/python3.6/site-packages/ipykernel_launcher.py:28: UserWarning: /home/sh38/segmentation_models/phase_cells/data/cell_cycle_down2/train_masks/0089.png is a low contrast image\n"
     ]
    },
    {
     "name": "stdout",
     "output_type": "stream",
     "text": [
      "0293.png\n"
     ]
    },
    {
     "name": "stderr",
     "output_type": "stream",
     "text": [
      "/home/sh38/anaconda3/envs/proGAN_tf/lib/python3.6/site-packages/ipykernel_launcher.py:28: UserWarning: /home/sh38/segmentation_models/phase_cells/data/cell_cycle_down2/train_masks/0293.png is a low contrast image\n"
     ]
    },
    {
     "name": "stdout",
     "output_type": "stream",
     "text": [
      "0875.png\n"
     ]
    },
    {
     "name": "stderr",
     "output_type": "stream",
     "text": [
      "/home/sh38/anaconda3/envs/proGAN_tf/lib/python3.6/site-packages/ipykernel_launcher.py:28: UserWarning: /home/sh38/segmentation_models/phase_cells/data/cell_cycle_down2/train_masks/0875.png is a low contrast image\n"
     ]
    },
    {
     "name": "stdout",
     "output_type": "stream",
     "text": [
      "0364.png\n"
     ]
    },
    {
     "name": "stderr",
     "output_type": "stream",
     "text": [
      "/home/sh38/anaconda3/envs/proGAN_tf/lib/python3.6/site-packages/ipykernel_launcher.py:28: UserWarning: /home/sh38/segmentation_models/phase_cells/data/cell_cycle_down2/train_masks/0364.png is a low contrast image\n",
      "/home/sh38/anaconda3/envs/proGAN_tf/lib/python3.6/site-packages/ipykernel_launcher.py:28: UserWarning: /home/sh38/segmentation_models/phase_cells/data/cell_cycle_down2/train_images/0551.png is a low contrast image\n"
     ]
    },
    {
     "name": "stdout",
     "output_type": "stream",
     "text": [
      "0551.png\n"
     ]
    },
    {
     "name": "stderr",
     "output_type": "stream",
     "text": [
      "/home/sh38/anaconda3/envs/proGAN_tf/lib/python3.6/site-packages/ipykernel_launcher.py:28: UserWarning: /home/sh38/segmentation_models/phase_cells/data/cell_cycle_down2/train_masks/0551.png is a low contrast image\n"
     ]
    },
    {
     "name": "stdout",
     "output_type": "stream",
     "text": [
      "0663.png\n"
     ]
    },
    {
     "name": "stderr",
     "output_type": "stream",
     "text": [
      "/home/sh38/anaconda3/envs/proGAN_tf/lib/python3.6/site-packages/ipykernel_launcher.py:28: UserWarning: /home/sh38/segmentation_models/phase_cells/data/cell_cycle_down2/train_masks/0663.png is a low contrast image\n"
     ]
    },
    {
     "name": "stdout",
     "output_type": "stream",
     "text": [
      "0234.png\n"
     ]
    },
    {
     "name": "stderr",
     "output_type": "stream",
     "text": [
      "/home/sh38/anaconda3/envs/proGAN_tf/lib/python3.6/site-packages/ipykernel_launcher.py:28: UserWarning: /home/sh38/segmentation_models/phase_cells/data/cell_cycle_down2/train_masks/0234.png is a low contrast image\n"
     ]
    },
    {
     "name": "stdout",
     "output_type": "stream",
     "text": [
      "0175.png\n"
     ]
    },
    {
     "name": "stderr",
     "output_type": "stream",
     "text": [
      "/home/sh38/anaconda3/envs/proGAN_tf/lib/python3.6/site-packages/ipykernel_launcher.py:28: UserWarning: /home/sh38/segmentation_models/phase_cells/data/cell_cycle_down2/train_masks/0175.png is a low contrast image\n"
     ]
    },
    {
     "name": "stdout",
     "output_type": "stream",
     "text": [
      "0240.png\n"
     ]
    },
    {
     "name": "stderr",
     "output_type": "stream",
     "text": [
      "/home/sh38/anaconda3/envs/proGAN_tf/lib/python3.6/site-packages/ipykernel_launcher.py:28: UserWarning: /home/sh38/segmentation_models/phase_cells/data/cell_cycle_down2/train_masks/0240.png is a low contrast image\n"
     ]
    },
    {
     "name": "stdout",
     "output_type": "stream",
     "text": [
      "0097.png\n"
     ]
    },
    {
     "name": "stderr",
     "output_type": "stream",
     "text": [
      "/home/sh38/anaconda3/envs/proGAN_tf/lib/python3.6/site-packages/ipykernel_launcher.py:28: UserWarning: /home/sh38/segmentation_models/phase_cells/data/cell_cycle_down2/train_masks/0097.png is a low contrast image\n",
      "/home/sh38/anaconda3/envs/proGAN_tf/lib/python3.6/site-packages/ipykernel_launcher.py:28: UserWarning: /home/sh38/segmentation_models/phase_cells/data/cell_cycle_down2/train_images/0446.png is a low contrast image\n"
     ]
    },
    {
     "name": "stdout",
     "output_type": "stream",
     "text": [
      "0446.png\n"
     ]
    },
    {
     "name": "stderr",
     "output_type": "stream",
     "text": [
      "/home/sh38/anaconda3/envs/proGAN_tf/lib/python3.6/site-packages/ipykernel_launcher.py:28: UserWarning: /home/sh38/segmentation_models/phase_cells/data/cell_cycle_down2/train_masks/0446.png is a low contrast image\n"
     ]
    },
    {
     "name": "stdout",
     "output_type": "stream",
     "text": [
      "0586.png\n"
     ]
    },
    {
     "name": "stderr",
     "output_type": "stream",
     "text": [
      "/home/sh38/anaconda3/envs/proGAN_tf/lib/python3.6/site-packages/ipykernel_launcher.py:28: UserWarning: /home/sh38/segmentation_models/phase_cells/data/cell_cycle_down2/train_masks/0586.png is a low contrast image\n"
     ]
    },
    {
     "name": "stdout",
     "output_type": "stream",
     "text": [
      "0670.png\n"
     ]
    },
    {
     "name": "stderr",
     "output_type": "stream",
     "text": [
      "/home/sh38/anaconda3/envs/proGAN_tf/lib/python3.6/site-packages/ipykernel_launcher.py:28: UserWarning: /home/sh38/segmentation_models/phase_cells/data/cell_cycle_down2/train_masks/0670.png is a low contrast image\n"
     ]
    },
    {
     "name": "stdout",
     "output_type": "stream",
     "text": [
      "0711.png\n"
     ]
    },
    {
     "name": "stderr",
     "output_type": "stream",
     "text": [
      "/home/sh38/anaconda3/envs/proGAN_tf/lib/python3.6/site-packages/ipykernel_launcher.py:28: UserWarning: /home/sh38/segmentation_models/phase_cells/data/cell_cycle_down2/train_masks/0711.png is a low contrast image\n"
     ]
    },
    {
     "name": "stdout",
     "output_type": "stream",
     "text": [
      "0430.png\n"
     ]
    },
    {
     "name": "stderr",
     "output_type": "stream",
     "text": [
      "/home/sh38/anaconda3/envs/proGAN_tf/lib/python3.6/site-packages/ipykernel_launcher.py:28: UserWarning: /home/sh38/segmentation_models/phase_cells/data/cell_cycle_down2/train_masks/0430.png is a low contrast image\n"
     ]
    },
    {
     "name": "stdout",
     "output_type": "stream",
     "text": [
      "0581.png\n"
     ]
    },
    {
     "name": "stderr",
     "output_type": "stream",
     "text": [
      "/home/sh38/anaconda3/envs/proGAN_tf/lib/python3.6/site-packages/ipykernel_launcher.py:28: UserWarning: /home/sh38/segmentation_models/phase_cells/data/cell_cycle_down2/train_masks/0581.png is a low contrast image\n"
     ]
    },
    {
     "name": "stdout",
     "output_type": "stream",
     "text": [
      "0870.png\n"
     ]
    },
    {
     "name": "stderr",
     "output_type": "stream",
     "text": [
      "/home/sh38/anaconda3/envs/proGAN_tf/lib/python3.6/site-packages/ipykernel_launcher.py:28: UserWarning: /home/sh38/segmentation_models/phase_cells/data/cell_cycle_down2/train_masks/0870.png is a low contrast image\n"
     ]
    },
    {
     "name": "stdout",
     "output_type": "stream",
     "text": [
      "0820.png\n"
     ]
    },
    {
     "name": "stderr",
     "output_type": "stream",
     "text": [
      "/home/sh38/anaconda3/envs/proGAN_tf/lib/python3.6/site-packages/ipykernel_launcher.py:28: UserWarning: /home/sh38/segmentation_models/phase_cells/data/cell_cycle_down2/train_masks/0820.png is a low contrast image\n"
     ]
    },
    {
     "name": "stdout",
     "output_type": "stream",
     "text": [
      "0211.png\n"
     ]
    },
    {
     "name": "stderr",
     "output_type": "stream",
     "text": [
      "/home/sh38/anaconda3/envs/proGAN_tf/lib/python3.6/site-packages/ipykernel_launcher.py:28: UserWarning: /home/sh38/segmentation_models/phase_cells/data/cell_cycle_down2/train_masks/0211.png is a low contrast image\n"
     ]
    },
    {
     "name": "stdout",
     "output_type": "stream",
     "text": [
      "0738.png\n"
     ]
    },
    {
     "name": "stderr",
     "output_type": "stream",
     "text": [
      "/home/sh38/anaconda3/envs/proGAN_tf/lib/python3.6/site-packages/ipykernel_launcher.py:28: UserWarning: /home/sh38/segmentation_models/phase_cells/data/cell_cycle_down2/train_masks/0738.png is a low contrast image\n"
     ]
    },
    {
     "name": "stdout",
     "output_type": "stream",
     "text": [
      "0874.png\n"
     ]
    },
    {
     "name": "stderr",
     "output_type": "stream",
     "text": [
      "/home/sh38/anaconda3/envs/proGAN_tf/lib/python3.6/site-packages/ipykernel_launcher.py:28: UserWarning: /home/sh38/segmentation_models/phase_cells/data/cell_cycle_down2/train_masks/0874.png is a low contrast image\n"
     ]
    },
    {
     "name": "stdout",
     "output_type": "stream",
     "text": [
      "0300.png\n"
     ]
    },
    {
     "name": "stderr",
     "output_type": "stream",
     "text": [
      "/home/sh38/anaconda3/envs/proGAN_tf/lib/python3.6/site-packages/ipykernel_launcher.py:28: UserWarning: /home/sh38/segmentation_models/phase_cells/data/cell_cycle_down2/train_masks/0300.png is a low contrast image\n"
     ]
    },
    {
     "name": "stdout",
     "output_type": "stream",
     "text": [
      "0844.png\n"
     ]
    },
    {
     "name": "stderr",
     "output_type": "stream",
     "text": [
      "/home/sh38/anaconda3/envs/proGAN_tf/lib/python3.6/site-packages/ipykernel_launcher.py:28: UserWarning: /home/sh38/segmentation_models/phase_cells/data/cell_cycle_down2/train_masks/0844.png is a low contrast image\n"
     ]
    },
    {
     "name": "stdout",
     "output_type": "stream",
     "text": [
      "0801.png\n"
     ]
    },
    {
     "name": "stderr",
     "output_type": "stream",
     "text": [
      "/home/sh38/anaconda3/envs/proGAN_tf/lib/python3.6/site-packages/ipykernel_launcher.py:28: UserWarning: /home/sh38/segmentation_models/phase_cells/data/cell_cycle_down2/train_masks/0801.png is a low contrast image\n"
     ]
    },
    {
     "name": "stdout",
     "output_type": "stream",
     "text": [
      "0018.png\n"
     ]
    },
    {
     "name": "stderr",
     "output_type": "stream",
     "text": [
      "/home/sh38/anaconda3/envs/proGAN_tf/lib/python3.6/site-packages/ipykernel_launcher.py:28: UserWarning: /home/sh38/segmentation_models/phase_cells/data/cell_cycle_down2/train_masks/0018.png is a low contrast image\n"
     ]
    },
    {
     "name": "stdout",
     "output_type": "stream",
     "text": [
      "0403.png\n"
     ]
    },
    {
     "name": "stderr",
     "output_type": "stream",
     "text": [
      "/home/sh38/anaconda3/envs/proGAN_tf/lib/python3.6/site-packages/ipykernel_launcher.py:28: UserWarning: /home/sh38/segmentation_models/phase_cells/data/cell_cycle_down2/train_masks/0403.png is a low contrast image\n"
     ]
    },
    {
     "name": "stdout",
     "output_type": "stream",
     "text": [
      "0192.png\n"
     ]
    },
    {
     "name": "stderr",
     "output_type": "stream",
     "text": [
      "/home/sh38/anaconda3/envs/proGAN_tf/lib/python3.6/site-packages/ipykernel_launcher.py:28: UserWarning: /home/sh38/segmentation_models/phase_cells/data/cell_cycle_down2/train_masks/0192.png is a low contrast image\n",
      "/home/sh38/anaconda3/envs/proGAN_tf/lib/python3.6/site-packages/ipykernel_launcher.py:28: UserWarning: /home/sh38/segmentation_models/phase_cells/data/cell_cycle_down2/train_images/0228.png is a low contrast image\n"
     ]
    },
    {
     "name": "stdout",
     "output_type": "stream",
     "text": [
      "0228.png\n"
     ]
    },
    {
     "name": "stderr",
     "output_type": "stream",
     "text": [
      "/home/sh38/anaconda3/envs/proGAN_tf/lib/python3.6/site-packages/ipykernel_launcher.py:28: UserWarning: /home/sh38/segmentation_models/phase_cells/data/cell_cycle_down2/train_masks/0228.png is a low contrast image\n"
     ]
    },
    {
     "name": "stdout",
     "output_type": "stream",
     "text": [
      "0071.png\n"
     ]
    },
    {
     "name": "stderr",
     "output_type": "stream",
     "text": [
      "/home/sh38/anaconda3/envs/proGAN_tf/lib/python3.6/site-packages/ipykernel_launcher.py:28: UserWarning: /home/sh38/segmentation_models/phase_cells/data/cell_cycle_down2/train_masks/0071.png is a low contrast image\n"
     ]
    },
    {
     "name": "stdout",
     "output_type": "stream",
     "text": [
      "0811.png\n"
     ]
    },
    {
     "name": "stderr",
     "output_type": "stream",
     "text": [
      "/home/sh38/anaconda3/envs/proGAN_tf/lib/python3.6/site-packages/ipykernel_launcher.py:28: UserWarning: /home/sh38/segmentation_models/phase_cells/data/cell_cycle_down2/train_masks/0811.png is a low contrast image\n",
      "/home/sh38/anaconda3/envs/proGAN_tf/lib/python3.6/site-packages/ipykernel_launcher.py:28: UserWarning: /home/sh38/segmentation_models/phase_cells/data/cell_cycle_down2/train_images/0404.png is a low contrast image\n"
     ]
    },
    {
     "name": "stdout",
     "output_type": "stream",
     "text": [
      "0404.png\n"
     ]
    },
    {
     "name": "stderr",
     "output_type": "stream",
     "text": [
      "/home/sh38/anaconda3/envs/proGAN_tf/lib/python3.6/site-packages/ipykernel_launcher.py:28: UserWarning: /home/sh38/segmentation_models/phase_cells/data/cell_cycle_down2/train_masks/0404.png is a low contrast image\n"
     ]
    },
    {
     "name": "stdout",
     "output_type": "stream",
     "text": [
      "0112.png\n"
     ]
    },
    {
     "name": "stderr",
     "output_type": "stream",
     "text": [
      "/home/sh38/anaconda3/envs/proGAN_tf/lib/python3.6/site-packages/ipykernel_launcher.py:28: UserWarning: /home/sh38/segmentation_models/phase_cells/data/cell_cycle_down2/train_masks/0112.png is a low contrast image\n"
     ]
    },
    {
     "name": "stdout",
     "output_type": "stream",
     "text": [
      "0408.png\n"
     ]
    },
    {
     "name": "stderr",
     "output_type": "stream",
     "text": [
      "/home/sh38/anaconda3/envs/proGAN_tf/lib/python3.6/site-packages/ipykernel_launcher.py:28: UserWarning: /home/sh38/segmentation_models/phase_cells/data/cell_cycle_down2/train_masks/0408.png is a low contrast image\n"
     ]
    },
    {
     "name": "stdout",
     "output_type": "stream",
     "text": [
      "0689.png\n"
     ]
    },
    {
     "name": "stderr",
     "output_type": "stream",
     "text": [
      "/home/sh38/anaconda3/envs/proGAN_tf/lib/python3.6/site-packages/ipykernel_launcher.py:28: UserWarning: /home/sh38/segmentation_models/phase_cells/data/cell_cycle_down2/train_masks/0689.png is a low contrast image\n"
     ]
    },
    {
     "name": "stdout",
     "output_type": "stream",
     "text": [
      "0003.png\n"
     ]
    },
    {
     "name": "stderr",
     "output_type": "stream",
     "text": [
      "/home/sh38/anaconda3/envs/proGAN_tf/lib/python3.6/site-packages/ipykernel_launcher.py:28: UserWarning: /home/sh38/segmentation_models/phase_cells/data/cell_cycle_down2/train_masks/0003.png is a low contrast image\n"
     ]
    },
    {
     "name": "stdout",
     "output_type": "stream",
     "text": [
      "0200.png\n"
     ]
    },
    {
     "name": "stderr",
     "output_type": "stream",
     "text": [
      "/home/sh38/anaconda3/envs/proGAN_tf/lib/python3.6/site-packages/ipykernel_launcher.py:28: UserWarning: /home/sh38/segmentation_models/phase_cells/data/cell_cycle_down2/train_masks/0200.png is a low contrast image\n"
     ]
    },
    {
     "name": "stdout",
     "output_type": "stream",
     "text": [
      "0750.png\n"
     ]
    },
    {
     "name": "stderr",
     "output_type": "stream",
     "text": [
      "/home/sh38/anaconda3/envs/proGAN_tf/lib/python3.6/site-packages/ipykernel_launcher.py:28: UserWarning: /home/sh38/segmentation_models/phase_cells/data/cell_cycle_down2/train_masks/0750.png is a low contrast image\n",
      "/home/sh38/anaconda3/envs/proGAN_tf/lib/python3.6/site-packages/ipykernel_launcher.py:28: UserWarning: /home/sh38/segmentation_models/phase_cells/data/cell_cycle_down2/train_images/0443.png is a low contrast image\n"
     ]
    },
    {
     "name": "stdout",
     "output_type": "stream",
     "text": [
      "0443.png\n"
     ]
    },
    {
     "name": "stderr",
     "output_type": "stream",
     "text": [
      "/home/sh38/anaconda3/envs/proGAN_tf/lib/python3.6/site-packages/ipykernel_launcher.py:28: UserWarning: /home/sh38/segmentation_models/phase_cells/data/cell_cycle_down2/train_masks/0443.png is a low contrast image\n"
     ]
    },
    {
     "name": "stdout",
     "output_type": "stream",
     "text": [
      "0529.png\n"
     ]
    },
    {
     "name": "stderr",
     "output_type": "stream",
     "text": [
      "/home/sh38/anaconda3/envs/proGAN_tf/lib/python3.6/site-packages/ipykernel_launcher.py:28: UserWarning: /home/sh38/segmentation_models/phase_cells/data/cell_cycle_down2/train_masks/0529.png is a low contrast image\n"
     ]
    },
    {
     "name": "stdout",
     "output_type": "stream",
     "text": [
      "0693.png\n"
     ]
    },
    {
     "name": "stderr",
     "output_type": "stream",
     "text": [
      "/home/sh38/anaconda3/envs/proGAN_tf/lib/python3.6/site-packages/ipykernel_launcher.py:28: UserWarning: /home/sh38/segmentation_models/phase_cells/data/cell_cycle_down2/train_masks/0693.png is a low contrast image\n"
     ]
    },
    {
     "name": "stdout",
     "output_type": "stream",
     "text": [
      "0770.png\n"
     ]
    },
    {
     "name": "stderr",
     "output_type": "stream",
     "text": [
      "/home/sh38/anaconda3/envs/proGAN_tf/lib/python3.6/site-packages/ipykernel_launcher.py:28: UserWarning: /home/sh38/segmentation_models/phase_cells/data/cell_cycle_down2/train_masks/0770.png is a low contrast image\n"
     ]
    },
    {
     "name": "stdout",
     "output_type": "stream",
     "text": [
      "0660.png\n"
     ]
    },
    {
     "name": "stderr",
     "output_type": "stream",
     "text": [
      "/home/sh38/anaconda3/envs/proGAN_tf/lib/python3.6/site-packages/ipykernel_launcher.py:28: UserWarning: /home/sh38/segmentation_models/phase_cells/data/cell_cycle_down2/train_masks/0660.png is a low contrast image\n"
     ]
    },
    {
     "name": "stdout",
     "output_type": "stream",
     "text": [
      "0553.png\n"
     ]
    },
    {
     "name": "stderr",
     "output_type": "stream",
     "text": [
      "/home/sh38/anaconda3/envs/proGAN_tf/lib/python3.6/site-packages/ipykernel_launcher.py:28: UserWarning: /home/sh38/segmentation_models/phase_cells/data/cell_cycle_down2/train_masks/0553.png is a low contrast image\n",
      "/home/sh38/anaconda3/envs/proGAN_tf/lib/python3.6/site-packages/ipykernel_launcher.py:28: UserWarning: /home/sh38/segmentation_models/phase_cells/data/cell_cycle_down2/train_images/0002.png is a low contrast image\n"
     ]
    },
    {
     "name": "stdout",
     "output_type": "stream",
     "text": [
      "0002.png\n"
     ]
    },
    {
     "name": "stderr",
     "output_type": "stream",
     "text": [
      "/home/sh38/anaconda3/envs/proGAN_tf/lib/python3.6/site-packages/ipykernel_launcher.py:28: UserWarning: /home/sh38/segmentation_models/phase_cells/data/cell_cycle_down2/train_masks/0002.png is a low contrast image\n"
     ]
    },
    {
     "name": "stdout",
     "output_type": "stream",
     "text": [
      "0505.png\n"
     ]
    },
    {
     "name": "stderr",
     "output_type": "stream",
     "text": [
      "/home/sh38/anaconda3/envs/proGAN_tf/lib/python3.6/site-packages/ipykernel_launcher.py:28: UserWarning: /home/sh38/segmentation_models/phase_cells/data/cell_cycle_down2/train_masks/0505.png is a low contrast image\n"
     ]
    },
    {
     "name": "stdout",
     "output_type": "stream",
     "text": [
      "0555.png\n"
     ]
    },
    {
     "name": "stderr",
     "output_type": "stream",
     "text": [
      "/home/sh38/anaconda3/envs/proGAN_tf/lib/python3.6/site-packages/ipykernel_launcher.py:28: UserWarning: /home/sh38/segmentation_models/phase_cells/data/cell_cycle_down2/train_masks/0555.png is a low contrast image\n"
     ]
    },
    {
     "name": "stdout",
     "output_type": "stream",
     "text": [
      "0158.png\n"
     ]
    },
    {
     "name": "stderr",
     "output_type": "stream",
     "text": [
      "/home/sh38/anaconda3/envs/proGAN_tf/lib/python3.6/site-packages/ipykernel_launcher.py:28: UserWarning: /home/sh38/segmentation_models/phase_cells/data/cell_cycle_down2/train_masks/0158.png is a low contrast image\n"
     ]
    },
    {
     "name": "stdout",
     "output_type": "stream",
     "text": [
      "0439.png\n"
     ]
    },
    {
     "name": "stderr",
     "output_type": "stream",
     "text": [
      "/home/sh38/anaconda3/envs/proGAN_tf/lib/python3.6/site-packages/ipykernel_launcher.py:28: UserWarning: /home/sh38/segmentation_models/phase_cells/data/cell_cycle_down2/train_masks/0439.png is a low contrast image\n"
     ]
    },
    {
     "name": "stdout",
     "output_type": "stream",
     "text": [
      "0826.png\n"
     ]
    },
    {
     "name": "stderr",
     "output_type": "stream",
     "text": [
      "/home/sh38/anaconda3/envs/proGAN_tf/lib/python3.6/site-packages/ipykernel_launcher.py:28: UserWarning: /home/sh38/segmentation_models/phase_cells/data/cell_cycle_down2/train_masks/0826.png is a low contrast image\n"
     ]
    },
    {
     "name": "stdout",
     "output_type": "stream",
     "text": [
      "0654.png\n"
     ]
    },
    {
     "name": "stderr",
     "output_type": "stream",
     "text": [
      "/home/sh38/anaconda3/envs/proGAN_tf/lib/python3.6/site-packages/ipykernel_launcher.py:28: UserWarning: /home/sh38/segmentation_models/phase_cells/data/cell_cycle_down2/train_masks/0654.png is a low contrast image\n"
     ]
    },
    {
     "name": "stdout",
     "output_type": "stream",
     "text": [
      "0744.png\n"
     ]
    },
    {
     "name": "stderr",
     "output_type": "stream",
     "text": [
      "/home/sh38/anaconda3/envs/proGAN_tf/lib/python3.6/site-packages/ipykernel_launcher.py:28: UserWarning: /home/sh38/segmentation_models/phase_cells/data/cell_cycle_down2/train_masks/0744.png is a low contrast image\n"
     ]
    },
    {
     "name": "stdout",
     "output_type": "stream",
     "text": [
      "0392.png\n"
     ]
    },
    {
     "name": "stderr",
     "output_type": "stream",
     "text": [
      "/home/sh38/anaconda3/envs/proGAN_tf/lib/python3.6/site-packages/ipykernel_launcher.py:28: UserWarning: /home/sh38/segmentation_models/phase_cells/data/cell_cycle_down2/train_masks/0392.png is a low contrast image\n"
     ]
    },
    {
     "name": "stdout",
     "output_type": "stream",
     "text": [
      "0205.png\n"
     ]
    },
    {
     "name": "stderr",
     "output_type": "stream",
     "text": [
      "/home/sh38/anaconda3/envs/proGAN_tf/lib/python3.6/site-packages/ipykernel_launcher.py:28: UserWarning: /home/sh38/segmentation_models/phase_cells/data/cell_cycle_down2/train_masks/0205.png is a low contrast image\n"
     ]
    },
    {
     "name": "stdout",
     "output_type": "stream",
     "text": [
      "0065.png\n"
     ]
    },
    {
     "name": "stderr",
     "output_type": "stream",
     "text": [
      "/home/sh38/anaconda3/envs/proGAN_tf/lib/python3.6/site-packages/ipykernel_launcher.py:28: UserWarning: /home/sh38/segmentation_models/phase_cells/data/cell_cycle_down2/train_masks/0065.png is a low contrast image\n"
     ]
    },
    {
     "name": "stdout",
     "output_type": "stream",
     "text": [
      "0483.png\n"
     ]
    },
    {
     "name": "stderr",
     "output_type": "stream",
     "text": [
      "/home/sh38/anaconda3/envs/proGAN_tf/lib/python3.6/site-packages/ipykernel_launcher.py:28: UserWarning: /home/sh38/segmentation_models/phase_cells/data/cell_cycle_down2/train_masks/0483.png is a low contrast image\n"
     ]
    },
    {
     "name": "stdout",
     "output_type": "stream",
     "text": [
      "0114.png\n"
     ]
    },
    {
     "name": "stderr",
     "output_type": "stream",
     "text": [
      "/home/sh38/anaconda3/envs/proGAN_tf/lib/python3.6/site-packages/ipykernel_launcher.py:28: UserWarning: /home/sh38/segmentation_models/phase_cells/data/cell_cycle_down2/train_masks/0114.png is a low contrast image\n",
      "/home/sh38/anaconda3/envs/proGAN_tf/lib/python3.6/site-packages/ipykernel_launcher.py:28: UserWarning: /home/sh38/segmentation_models/phase_cells/data/cell_cycle_down2/train_images/0250.png is a low contrast image\n"
     ]
    },
    {
     "name": "stdout",
     "output_type": "stream",
     "text": [
      "0250.png\n"
     ]
    },
    {
     "name": "stderr",
     "output_type": "stream",
     "text": [
      "/home/sh38/anaconda3/envs/proGAN_tf/lib/python3.6/site-packages/ipykernel_launcher.py:28: UserWarning: /home/sh38/segmentation_models/phase_cells/data/cell_cycle_down2/train_masks/0250.png is a low contrast image\n"
     ]
    },
    {
     "name": "stdout",
     "output_type": "stream",
     "text": [
      "0284.png\n"
     ]
    },
    {
     "name": "stderr",
     "output_type": "stream",
     "text": [
      "/home/sh38/anaconda3/envs/proGAN_tf/lib/python3.6/site-packages/ipykernel_launcher.py:28: UserWarning: /home/sh38/segmentation_models/phase_cells/data/cell_cycle_down2/train_masks/0284.png is a low contrast image\n"
     ]
    },
    {
     "name": "stdout",
     "output_type": "stream",
     "text": [
      "0732.png\n"
     ]
    },
    {
     "name": "stderr",
     "output_type": "stream",
     "text": [
      "/home/sh38/anaconda3/envs/proGAN_tf/lib/python3.6/site-packages/ipykernel_launcher.py:28: UserWarning: /home/sh38/segmentation_models/phase_cells/data/cell_cycle_down2/train_masks/0732.png is a low contrast image\n"
     ]
    },
    {
     "name": "stdout",
     "output_type": "stream",
     "text": [
      "0672.png\n"
     ]
    },
    {
     "name": "stderr",
     "output_type": "stream",
     "text": [
      "/home/sh38/anaconda3/envs/proGAN_tf/lib/python3.6/site-packages/ipykernel_launcher.py:28: UserWarning: /home/sh38/segmentation_models/phase_cells/data/cell_cycle_down2/train_masks/0672.png is a low contrast image\n"
     ]
    },
    {
     "name": "stdout",
     "output_type": "stream",
     "text": [
      "0303.png\n"
     ]
    },
    {
     "name": "stderr",
     "output_type": "stream",
     "text": [
      "/home/sh38/anaconda3/envs/proGAN_tf/lib/python3.6/site-packages/ipykernel_launcher.py:28: UserWarning: /home/sh38/segmentation_models/phase_cells/data/cell_cycle_down2/train_masks/0303.png is a low contrast image\n"
     ]
    },
    {
     "name": "stdout",
     "output_type": "stream",
     "text": [
      "0760.png\n"
     ]
    },
    {
     "name": "stderr",
     "output_type": "stream",
     "text": [
      "/home/sh38/anaconda3/envs/proGAN_tf/lib/python3.6/site-packages/ipykernel_launcher.py:28: UserWarning: /home/sh38/segmentation_models/phase_cells/data/cell_cycle_down2/train_masks/0760.png is a low contrast image\n"
     ]
    },
    {
     "name": "stdout",
     "output_type": "stream",
     "text": [
      "0782.png\n"
     ]
    },
    {
     "name": "stderr",
     "output_type": "stream",
     "text": [
      "/home/sh38/anaconda3/envs/proGAN_tf/lib/python3.6/site-packages/ipykernel_launcher.py:28: UserWarning: /home/sh38/segmentation_models/phase_cells/data/cell_cycle_down2/train_masks/0782.png is a low contrast image\n"
     ]
    },
    {
     "name": "stdout",
     "output_type": "stream",
     "text": [
      "0659.png\n"
     ]
    },
    {
     "name": "stderr",
     "output_type": "stream",
     "text": [
      "/home/sh38/anaconda3/envs/proGAN_tf/lib/python3.6/site-packages/ipykernel_launcher.py:28: UserWarning: /home/sh38/segmentation_models/phase_cells/data/cell_cycle_down2/train_masks/0659.png is a low contrast image\n"
     ]
    },
    {
     "name": "stdout",
     "output_type": "stream",
     "text": [
      "0360.png\n"
     ]
    },
    {
     "name": "stderr",
     "output_type": "stream",
     "text": [
      "/home/sh38/anaconda3/envs/proGAN_tf/lib/python3.6/site-packages/ipykernel_launcher.py:28: UserWarning: /home/sh38/segmentation_models/phase_cells/data/cell_cycle_down2/train_masks/0360.png is a low contrast image\n"
     ]
    },
    {
     "name": "stdout",
     "output_type": "stream",
     "text": [
      "0837.png\n"
     ]
    },
    {
     "name": "stderr",
     "output_type": "stream",
     "text": [
      "/home/sh38/anaconda3/envs/proGAN_tf/lib/python3.6/site-packages/ipykernel_launcher.py:28: UserWarning: /home/sh38/segmentation_models/phase_cells/data/cell_cycle_down2/train_masks/0837.png is a low contrast image\n"
     ]
    },
    {
     "name": "stdout",
     "output_type": "stream",
     "text": [
      "0136.png\n"
     ]
    },
    {
     "name": "stderr",
     "output_type": "stream",
     "text": [
      "/home/sh38/anaconda3/envs/proGAN_tf/lib/python3.6/site-packages/ipykernel_launcher.py:28: UserWarning: /home/sh38/segmentation_models/phase_cells/data/cell_cycle_down2/train_masks/0136.png is a low contrast image\n"
     ]
    },
    {
     "name": "stdout",
     "output_type": "stream",
     "text": [
      "0729.png\n"
     ]
    },
    {
     "name": "stderr",
     "output_type": "stream",
     "text": [
      "/home/sh38/anaconda3/envs/proGAN_tf/lib/python3.6/site-packages/ipykernel_launcher.py:28: UserWarning: /home/sh38/segmentation_models/phase_cells/data/cell_cycle_down2/train_masks/0729.png is a low contrast image\n"
     ]
    },
    {
     "name": "stdout",
     "output_type": "stream",
     "text": [
      "0457.png\n"
     ]
    },
    {
     "name": "stderr",
     "output_type": "stream",
     "text": [
      "/home/sh38/anaconda3/envs/proGAN_tf/lib/python3.6/site-packages/ipykernel_launcher.py:28: UserWarning: /home/sh38/segmentation_models/phase_cells/data/cell_cycle_down2/train_masks/0457.png is a low contrast image\n"
     ]
    },
    {
     "name": "stdout",
     "output_type": "stream",
     "text": [
      "0728.png\n"
     ]
    },
    {
     "name": "stderr",
     "output_type": "stream",
     "text": [
      "/home/sh38/anaconda3/envs/proGAN_tf/lib/python3.6/site-packages/ipykernel_launcher.py:28: UserWarning: /home/sh38/segmentation_models/phase_cells/data/cell_cycle_down2/train_masks/0728.png is a low contrast image\n"
     ]
    },
    {
     "name": "stdout",
     "output_type": "stream",
     "text": [
      "0185.png\n"
     ]
    },
    {
     "name": "stderr",
     "output_type": "stream",
     "text": [
      "/home/sh38/anaconda3/envs/proGAN_tf/lib/python3.6/site-packages/ipykernel_launcher.py:28: UserWarning: /home/sh38/segmentation_models/phase_cells/data/cell_cycle_down2/train_masks/0185.png is a low contrast image\n"
     ]
    },
    {
     "name": "stdout",
     "output_type": "stream",
     "text": [
      "0612.png\n"
     ]
    },
    {
     "name": "stderr",
     "output_type": "stream",
     "text": [
      "/home/sh38/anaconda3/envs/proGAN_tf/lib/python3.6/site-packages/ipykernel_launcher.py:28: UserWarning: /home/sh38/segmentation_models/phase_cells/data/cell_cycle_down2/train_masks/0612.png is a low contrast image\n",
      "/home/sh38/anaconda3/envs/proGAN_tf/lib/python3.6/site-packages/ipykernel_launcher.py:28: UserWarning: /home/sh38/segmentation_models/phase_cells/data/cell_cycle_down2/train_images/0264.png is a low contrast image\n"
     ]
    },
    {
     "name": "stdout",
     "output_type": "stream",
     "text": [
      "0264.png\n"
     ]
    },
    {
     "name": "stderr",
     "output_type": "stream",
     "text": [
      "/home/sh38/anaconda3/envs/proGAN_tf/lib/python3.6/site-packages/ipykernel_launcher.py:28: UserWarning: /home/sh38/segmentation_models/phase_cells/data/cell_cycle_down2/train_masks/0264.png is a low contrast image\n"
     ]
    },
    {
     "name": "stdout",
     "output_type": "stream",
     "text": [
      "0289.png\n"
     ]
    },
    {
     "name": "stderr",
     "output_type": "stream",
     "text": [
      "/home/sh38/anaconda3/envs/proGAN_tf/lib/python3.6/site-packages/ipykernel_launcher.py:28: UserWarning: /home/sh38/segmentation_models/phase_cells/data/cell_cycle_down2/train_masks/0289.png is a low contrast image\n"
     ]
    },
    {
     "name": "stdout",
     "output_type": "stream",
     "text": [
      "0157.png\n"
     ]
    },
    {
     "name": "stderr",
     "output_type": "stream",
     "text": [
      "/home/sh38/anaconda3/envs/proGAN_tf/lib/python3.6/site-packages/ipykernel_launcher.py:28: UserWarning: /home/sh38/segmentation_models/phase_cells/data/cell_cycle_down2/train_masks/0157.png is a low contrast image\n"
     ]
    },
    {
     "name": "stdout",
     "output_type": "stream",
     "text": [
      "0225.png\n"
     ]
    },
    {
     "name": "stderr",
     "output_type": "stream",
     "text": [
      "/home/sh38/anaconda3/envs/proGAN_tf/lib/python3.6/site-packages/ipykernel_launcher.py:28: UserWarning: /home/sh38/segmentation_models/phase_cells/data/cell_cycle_down2/train_masks/0225.png is a low contrast image\n"
     ]
    },
    {
     "name": "stdout",
     "output_type": "stream",
     "text": [
      "0407.png\n"
     ]
    },
    {
     "name": "stderr",
     "output_type": "stream",
     "text": [
      "/home/sh38/anaconda3/envs/proGAN_tf/lib/python3.6/site-packages/ipykernel_launcher.py:28: UserWarning: /home/sh38/segmentation_models/phase_cells/data/cell_cycle_down2/train_masks/0407.png is a low contrast image\n"
     ]
    },
    {
     "name": "stdout",
     "output_type": "stream",
     "text": [
      "0834.png\n"
     ]
    },
    {
     "name": "stderr",
     "output_type": "stream",
     "text": [
      "/home/sh38/anaconda3/envs/proGAN_tf/lib/python3.6/site-packages/ipykernel_launcher.py:28: UserWarning: /home/sh38/segmentation_models/phase_cells/data/cell_cycle_down2/train_masks/0834.png is a low contrast image\n"
     ]
    },
    {
     "name": "stdout",
     "output_type": "stream",
     "text": [
      "0676.png\n"
     ]
    },
    {
     "name": "stderr",
     "output_type": "stream",
     "text": [
      "/home/sh38/anaconda3/envs/proGAN_tf/lib/python3.6/site-packages/ipykernel_launcher.py:28: UserWarning: /home/sh38/segmentation_models/phase_cells/data/cell_cycle_down2/train_masks/0676.png is a low contrast image\n"
     ]
    },
    {
     "name": "stdout",
     "output_type": "stream",
     "text": [
      "0419.png\n"
     ]
    },
    {
     "name": "stderr",
     "output_type": "stream",
     "text": [
      "/home/sh38/anaconda3/envs/proGAN_tf/lib/python3.6/site-packages/ipykernel_launcher.py:28: UserWarning: /home/sh38/segmentation_models/phase_cells/data/cell_cycle_down2/train_masks/0419.png is a low contrast image\n"
     ]
    },
    {
     "name": "stdout",
     "output_type": "stream",
     "text": [
      "0384.png\n"
     ]
    },
    {
     "name": "stderr",
     "output_type": "stream",
     "text": [
      "/home/sh38/anaconda3/envs/proGAN_tf/lib/python3.6/site-packages/ipykernel_launcher.py:28: UserWarning: /home/sh38/segmentation_models/phase_cells/data/cell_cycle_down2/train_masks/0384.png is a low contrast image\n"
     ]
    },
    {
     "name": "stdout",
     "output_type": "stream",
     "text": [
      "0694.png\n"
     ]
    },
    {
     "name": "stderr",
     "output_type": "stream",
     "text": [
      "/home/sh38/anaconda3/envs/proGAN_tf/lib/python3.6/site-packages/ipykernel_launcher.py:28: UserWarning: /home/sh38/segmentation_models/phase_cells/data/cell_cycle_down2/train_masks/0694.png is a low contrast image\n"
     ]
    },
    {
     "name": "stdout",
     "output_type": "stream",
     "text": [
      "0627.png\n"
     ]
    },
    {
     "name": "stderr",
     "output_type": "stream",
     "text": [
      "/home/sh38/anaconda3/envs/proGAN_tf/lib/python3.6/site-packages/ipykernel_launcher.py:28: UserWarning: /home/sh38/segmentation_models/phase_cells/data/cell_cycle_down2/train_masks/0627.png is a low contrast image\n",
      "/home/sh38/anaconda3/envs/proGAN_tf/lib/python3.6/site-packages/ipykernel_launcher.py:28: UserWarning: /home/sh38/segmentation_models/phase_cells/data/cell_cycle_down2/train_images/0131.png is a low contrast image\n"
     ]
    },
    {
     "name": "stdout",
     "output_type": "stream",
     "text": [
      "0131.png\n"
     ]
    },
    {
     "name": "stderr",
     "output_type": "stream",
     "text": [
      "/home/sh38/anaconda3/envs/proGAN_tf/lib/python3.6/site-packages/ipykernel_launcher.py:28: UserWarning: /home/sh38/segmentation_models/phase_cells/data/cell_cycle_down2/train_masks/0131.png is a low contrast image\n",
      "/home/sh38/anaconda3/envs/proGAN_tf/lib/python3.6/site-packages/ipykernel_launcher.py:28: UserWarning: /home/sh38/segmentation_models/phase_cells/data/cell_cycle_down2/train_images/0005.png is a low contrast image\n"
     ]
    },
    {
     "name": "stdout",
     "output_type": "stream",
     "text": [
      "0005.png\n"
     ]
    },
    {
     "name": "stderr",
     "output_type": "stream",
     "text": [
      "/home/sh38/anaconda3/envs/proGAN_tf/lib/python3.6/site-packages/ipykernel_launcher.py:28: UserWarning: /home/sh38/segmentation_models/phase_cells/data/cell_cycle_down2/train_masks/0005.png is a low contrast image\n"
     ]
    },
    {
     "name": "stdout",
     "output_type": "stream",
     "text": [
      "0026.png\n"
     ]
    },
    {
     "name": "stderr",
     "output_type": "stream",
     "text": [
      "/home/sh38/anaconda3/envs/proGAN_tf/lib/python3.6/site-packages/ipykernel_launcher.py:28: UserWarning: /home/sh38/segmentation_models/phase_cells/data/cell_cycle_down2/train_masks/0026.png is a low contrast image\n",
      "/home/sh38/anaconda3/envs/proGAN_tf/lib/python3.6/site-packages/ipykernel_launcher.py:28: UserWarning: /home/sh38/segmentation_models/phase_cells/data/cell_cycle_down2/train_images/0001.png is a low contrast image\n"
     ]
    },
    {
     "name": "stdout",
     "output_type": "stream",
     "text": [
      "0001.png\n"
     ]
    },
    {
     "name": "stderr",
     "output_type": "stream",
     "text": [
      "/home/sh38/anaconda3/envs/proGAN_tf/lib/python3.6/site-packages/ipykernel_launcher.py:28: UserWarning: /home/sh38/segmentation_models/phase_cells/data/cell_cycle_down2/train_masks/0001.png is a low contrast image\n"
     ]
    },
    {
     "name": "stdout",
     "output_type": "stream",
     "text": [
      "0435.png\n"
     ]
    },
    {
     "name": "stderr",
     "output_type": "stream",
     "text": [
      "/home/sh38/anaconda3/envs/proGAN_tf/lib/python3.6/site-packages/ipykernel_launcher.py:28: UserWarning: /home/sh38/segmentation_models/phase_cells/data/cell_cycle_down2/train_masks/0435.png is a low contrast image\n"
     ]
    },
    {
     "name": "stdout",
     "output_type": "stream",
     "text": [
      "0864.png\n"
     ]
    },
    {
     "name": "stderr",
     "output_type": "stream",
     "text": [
      "/home/sh38/anaconda3/envs/proGAN_tf/lib/python3.6/site-packages/ipykernel_launcher.py:28: UserWarning: /home/sh38/segmentation_models/phase_cells/data/cell_cycle_down2/train_masks/0864.png is a low contrast image\n"
     ]
    },
    {
     "name": "stdout",
     "output_type": "stream",
     "text": [
      "0174.png\n"
     ]
    },
    {
     "name": "stderr",
     "output_type": "stream",
     "text": [
      "/home/sh38/anaconda3/envs/proGAN_tf/lib/python3.6/site-packages/ipykernel_launcher.py:28: UserWarning: /home/sh38/segmentation_models/phase_cells/data/cell_cycle_down2/train_masks/0174.png is a low contrast image\n"
     ]
    },
    {
     "name": "stdout",
     "output_type": "stream",
     "text": [
      "0518.png\n"
     ]
    },
    {
     "name": "stderr",
     "output_type": "stream",
     "text": [
      "/home/sh38/anaconda3/envs/proGAN_tf/lib/python3.6/site-packages/ipykernel_launcher.py:28: UserWarning: /home/sh38/segmentation_models/phase_cells/data/cell_cycle_down2/train_masks/0518.png is a low contrast image\n",
      "/home/sh38/anaconda3/envs/proGAN_tf/lib/python3.6/site-packages/ipykernel_launcher.py:28: UserWarning: /home/sh38/segmentation_models/phase_cells/data/cell_cycle_down2/train_images/0179.png is a low contrast image\n"
     ]
    },
    {
     "name": "stdout",
     "output_type": "stream",
     "text": [
      "0179.png\n"
     ]
    },
    {
     "name": "stderr",
     "output_type": "stream",
     "text": [
      "/home/sh38/anaconda3/envs/proGAN_tf/lib/python3.6/site-packages/ipykernel_launcher.py:28: UserWarning: /home/sh38/segmentation_models/phase_cells/data/cell_cycle_down2/train_masks/0179.png is a low contrast image\n"
     ]
    },
    {
     "name": "stdout",
     "output_type": "stream",
     "text": [
      "0304.png\n"
     ]
    },
    {
     "name": "stderr",
     "output_type": "stream",
     "text": [
      "/home/sh38/anaconda3/envs/proGAN_tf/lib/python3.6/site-packages/ipykernel_launcher.py:28: UserWarning: /home/sh38/segmentation_models/phase_cells/data/cell_cycle_down2/train_masks/0304.png is a low contrast image\n"
     ]
    },
    {
     "name": "stdout",
     "output_type": "stream",
     "text": [
      "0147.png\n"
     ]
    },
    {
     "name": "stderr",
     "output_type": "stream",
     "text": [
      "/home/sh38/anaconda3/envs/proGAN_tf/lib/python3.6/site-packages/ipykernel_launcher.py:28: UserWarning: /home/sh38/segmentation_models/phase_cells/data/cell_cycle_down2/train_masks/0147.png is a low contrast image\n"
     ]
    },
    {
     "name": "stdout",
     "output_type": "stream",
     "text": [
      "0766.png\n"
     ]
    },
    {
     "name": "stderr",
     "output_type": "stream",
     "text": [
      "/home/sh38/anaconda3/envs/proGAN_tf/lib/python3.6/site-packages/ipykernel_launcher.py:28: UserWarning: /home/sh38/segmentation_models/phase_cells/data/cell_cycle_down2/train_masks/0766.png is a low contrast image\n"
     ]
    },
    {
     "name": "stdout",
     "output_type": "stream",
     "text": [
      "0120.png\n"
     ]
    },
    {
     "name": "stderr",
     "output_type": "stream",
     "text": [
      "/home/sh38/anaconda3/envs/proGAN_tf/lib/python3.6/site-packages/ipykernel_launcher.py:28: UserWarning: /home/sh38/segmentation_models/phase_cells/data/cell_cycle_down2/train_masks/0120.png is a low contrast image\n"
     ]
    },
    {
     "name": "stdout",
     "output_type": "stream",
     "text": [
      "0354.png\n"
     ]
    },
    {
     "name": "stderr",
     "output_type": "stream",
     "text": [
      "/home/sh38/anaconda3/envs/proGAN_tf/lib/python3.6/site-packages/ipykernel_launcher.py:28: UserWarning: /home/sh38/segmentation_models/phase_cells/data/cell_cycle_down2/train_masks/0354.png is a low contrast image\n",
      "/home/sh38/anaconda3/envs/proGAN_tf/lib/python3.6/site-packages/ipykernel_launcher.py:28: UserWarning: /home/sh38/segmentation_models/phase_cells/data/cell_cycle_down2/train_images/0110.png is a low contrast image\n"
     ]
    },
    {
     "name": "stdout",
     "output_type": "stream",
     "text": [
      "0110.png\n"
     ]
    },
    {
     "name": "stderr",
     "output_type": "stream",
     "text": [
      "/home/sh38/anaconda3/envs/proGAN_tf/lib/python3.6/site-packages/ipykernel_launcher.py:28: UserWarning: /home/sh38/segmentation_models/phase_cells/data/cell_cycle_down2/train_masks/0110.png is a low contrast image\n"
     ]
    },
    {
     "name": "stdout",
     "output_type": "stream",
     "text": [
      "0643.png\n"
     ]
    },
    {
     "name": "stderr",
     "output_type": "stream",
     "text": [
      "/home/sh38/anaconda3/envs/proGAN_tf/lib/python3.6/site-packages/ipykernel_launcher.py:28: UserWarning: /home/sh38/segmentation_models/phase_cells/data/cell_cycle_down2/train_masks/0643.png is a low contrast image\n"
     ]
    },
    {
     "name": "stdout",
     "output_type": "stream",
     "text": [
      "0779.png\n"
     ]
    },
    {
     "name": "stderr",
     "output_type": "stream",
     "text": [
      "/home/sh38/anaconda3/envs/proGAN_tf/lib/python3.6/site-packages/ipykernel_launcher.py:28: UserWarning: /home/sh38/segmentation_models/phase_cells/data/cell_cycle_down2/train_masks/0779.png is a low contrast image\n"
     ]
    },
    {
     "name": "stdout",
     "output_type": "stream",
     "text": [
      "0182.png\n"
     ]
    },
    {
     "name": "stderr",
     "output_type": "stream",
     "text": [
      "/home/sh38/anaconda3/envs/proGAN_tf/lib/python3.6/site-packages/ipykernel_launcher.py:28: UserWarning: /home/sh38/segmentation_models/phase_cells/data/cell_cycle_down2/train_masks/0182.png is a low contrast image\n"
     ]
    },
    {
     "name": "stdout",
     "output_type": "stream",
     "text": [
      "0297.png\n"
     ]
    },
    {
     "name": "stderr",
     "output_type": "stream",
     "text": [
      "/home/sh38/anaconda3/envs/proGAN_tf/lib/python3.6/site-packages/ipykernel_launcher.py:28: UserWarning: /home/sh38/segmentation_models/phase_cells/data/cell_cycle_down2/train_masks/0297.png is a low contrast image\n"
     ]
    },
    {
     "name": "stdout",
     "output_type": "stream",
     "text": [
      "0265.png\n"
     ]
    },
    {
     "name": "stderr",
     "output_type": "stream",
     "text": [
      "/home/sh38/anaconda3/envs/proGAN_tf/lib/python3.6/site-packages/ipykernel_launcher.py:28: UserWarning: /home/sh38/segmentation_models/phase_cells/data/cell_cycle_down2/train_masks/0265.png is a low contrast image\n"
     ]
    },
    {
     "name": "stdout",
     "output_type": "stream",
     "text": [
      "0121.png\n"
     ]
    },
    {
     "name": "stderr",
     "output_type": "stream",
     "text": [
      "/home/sh38/anaconda3/envs/proGAN_tf/lib/python3.6/site-packages/ipykernel_launcher.py:28: UserWarning: /home/sh38/segmentation_models/phase_cells/data/cell_cycle_down2/train_masks/0121.png is a low contrast image\n"
     ]
    },
    {
     "name": "stdout",
     "output_type": "stream",
     "text": [
      "0372.png\n"
     ]
    },
    {
     "name": "stderr",
     "output_type": "stream",
     "text": [
      "/home/sh38/anaconda3/envs/proGAN_tf/lib/python3.6/site-packages/ipykernel_launcher.py:28: UserWarning: /home/sh38/segmentation_models/phase_cells/data/cell_cycle_down2/train_masks/0372.png is a low contrast image\n"
     ]
    },
    {
     "name": "stdout",
     "output_type": "stream",
     "text": [
      "0314.png\n"
     ]
    },
    {
     "name": "stderr",
     "output_type": "stream",
     "text": [
      "/home/sh38/anaconda3/envs/proGAN_tf/lib/python3.6/site-packages/ipykernel_launcher.py:28: UserWarning: /home/sh38/segmentation_models/phase_cells/data/cell_cycle_down2/train_masks/0314.png is a low contrast image\n"
     ]
    },
    {
     "name": "stdout",
     "output_type": "stream",
     "text": [
      "0876.png\n"
     ]
    },
    {
     "name": "stderr",
     "output_type": "stream",
     "text": [
      "/home/sh38/anaconda3/envs/proGAN_tf/lib/python3.6/site-packages/ipykernel_launcher.py:28: UserWarning: /home/sh38/segmentation_models/phase_cells/data/cell_cycle_down2/train_masks/0876.png is a low contrast image\n"
     ]
    },
    {
     "name": "stdout",
     "output_type": "stream",
     "text": [
      "0454.png\n"
     ]
    },
    {
     "name": "stderr",
     "output_type": "stream",
     "text": [
      "/home/sh38/anaconda3/envs/proGAN_tf/lib/python3.6/site-packages/ipykernel_launcher.py:28: UserWarning: /home/sh38/segmentation_models/phase_cells/data/cell_cycle_down2/train_masks/0454.png is a low contrast image\n"
     ]
    },
    {
     "name": "stdout",
     "output_type": "stream",
     "text": [
      "0066.png\n"
     ]
    },
    {
     "name": "stderr",
     "output_type": "stream",
     "text": [
      "/home/sh38/anaconda3/envs/proGAN_tf/lib/python3.6/site-packages/ipykernel_launcher.py:28: UserWarning: /home/sh38/segmentation_models/phase_cells/data/cell_cycle_down2/train_masks/0066.png is a low contrast image\n"
     ]
    },
    {
     "name": "stdout",
     "output_type": "stream",
     "text": [
      "0409.png\n"
     ]
    },
    {
     "name": "stderr",
     "output_type": "stream",
     "text": [
      "/home/sh38/anaconda3/envs/proGAN_tf/lib/python3.6/site-packages/ipykernel_launcher.py:28: UserWarning: /home/sh38/segmentation_models/phase_cells/data/cell_cycle_down2/train_masks/0409.png is a low contrast image\n"
     ]
    },
    {
     "name": "stdout",
     "output_type": "stream",
     "text": [
      "0193.png\n"
     ]
    },
    {
     "name": "stderr",
     "output_type": "stream",
     "text": [
      "/home/sh38/anaconda3/envs/proGAN_tf/lib/python3.6/site-packages/ipykernel_launcher.py:28: UserWarning: /home/sh38/segmentation_models/phase_cells/data/cell_cycle_down2/train_masks/0193.png is a low contrast image\n"
     ]
    },
    {
     "name": "stdout",
     "output_type": "stream",
     "text": [
      "0476.png\n"
     ]
    },
    {
     "name": "stderr",
     "output_type": "stream",
     "text": [
      "/home/sh38/anaconda3/envs/proGAN_tf/lib/python3.6/site-packages/ipykernel_launcher.py:28: UserWarning: /home/sh38/segmentation_models/phase_cells/data/cell_cycle_down2/train_masks/0476.png is a low contrast image\n"
     ]
    },
    {
     "name": "stdout",
     "output_type": "stream",
     "text": [
      "0657.png\n"
     ]
    },
    {
     "name": "stderr",
     "output_type": "stream",
     "text": [
      "/home/sh38/anaconda3/envs/proGAN_tf/lib/python3.6/site-packages/ipykernel_launcher.py:28: UserWarning: /home/sh38/segmentation_models/phase_cells/data/cell_cycle_down2/train_masks/0657.png is a low contrast image\n",
      "/home/sh38/anaconda3/envs/proGAN_tf/lib/python3.6/site-packages/ipykernel_launcher.py:28: UserWarning: /home/sh38/segmentation_models/phase_cells/data/cell_cycle_down2/train_images/0593.png is a low contrast image\n"
     ]
    },
    {
     "name": "stdout",
     "output_type": "stream",
     "text": [
      "0593.png\n"
     ]
    },
    {
     "name": "stderr",
     "output_type": "stream",
     "text": [
      "/home/sh38/anaconda3/envs/proGAN_tf/lib/python3.6/site-packages/ipykernel_launcher.py:28: UserWarning: /home/sh38/segmentation_models/phase_cells/data/cell_cycle_down2/train_masks/0593.png is a low contrast image\n"
     ]
    },
    {
     "name": "stdout",
     "output_type": "stream",
     "text": [
      "0188.png\n"
     ]
    },
    {
     "name": "stderr",
     "output_type": "stream",
     "text": [
      "/home/sh38/anaconda3/envs/proGAN_tf/lib/python3.6/site-packages/ipykernel_launcher.py:28: UserWarning: /home/sh38/segmentation_models/phase_cells/data/cell_cycle_down2/train_masks/0188.png is a low contrast image\n"
     ]
    },
    {
     "name": "stdout",
     "output_type": "stream",
     "text": [
      "0254.png\n"
     ]
    },
    {
     "name": "stderr",
     "output_type": "stream",
     "text": [
      "/home/sh38/anaconda3/envs/proGAN_tf/lib/python3.6/site-packages/ipykernel_launcher.py:28: UserWarning: /home/sh38/segmentation_models/phase_cells/data/cell_cycle_down2/train_masks/0254.png is a low contrast image\n"
     ]
    },
    {
     "name": "stdout",
     "output_type": "stream",
     "text": [
      "0638.png\n"
     ]
    },
    {
     "name": "stderr",
     "output_type": "stream",
     "text": [
      "/home/sh38/anaconda3/envs/proGAN_tf/lib/python3.6/site-packages/ipykernel_launcher.py:28: UserWarning: /home/sh38/segmentation_models/phase_cells/data/cell_cycle_down2/train_masks/0638.png is a low contrast image\n"
     ]
    },
    {
     "name": "stdout",
     "output_type": "stream",
     "text": [
      "0153.png\n"
     ]
    },
    {
     "name": "stderr",
     "output_type": "stream",
     "text": [
      "/home/sh38/anaconda3/envs/proGAN_tf/lib/python3.6/site-packages/ipykernel_launcher.py:28: UserWarning: /home/sh38/segmentation_models/phase_cells/data/cell_cycle_down2/train_masks/0153.png is a low contrast image\n"
     ]
    },
    {
     "name": "stdout",
     "output_type": "stream",
     "text": [
      "0189.png\n"
     ]
    },
    {
     "name": "stderr",
     "output_type": "stream",
     "text": [
      "/home/sh38/anaconda3/envs/proGAN_tf/lib/python3.6/site-packages/ipykernel_launcher.py:28: UserWarning: /home/sh38/segmentation_models/phase_cells/data/cell_cycle_down2/train_masks/0189.png is a low contrast image\n"
     ]
    },
    {
     "name": "stdout",
     "output_type": "stream",
     "text": [
      "0105.png\n"
     ]
    },
    {
     "name": "stderr",
     "output_type": "stream",
     "text": [
      "/home/sh38/anaconda3/envs/proGAN_tf/lib/python3.6/site-packages/ipykernel_launcher.py:28: UserWarning: /home/sh38/segmentation_models/phase_cells/data/cell_cycle_down2/train_masks/0105.png is a low contrast image\n"
     ]
    },
    {
     "name": "stdout",
     "output_type": "stream",
     "text": [
      "0212.png\n"
     ]
    },
    {
     "name": "stderr",
     "output_type": "stream",
     "text": [
      "/home/sh38/anaconda3/envs/proGAN_tf/lib/python3.6/site-packages/ipykernel_launcher.py:28: UserWarning: /home/sh38/segmentation_models/phase_cells/data/cell_cycle_down2/train_masks/0212.png is a low contrast image\n"
     ]
    },
    {
     "name": "stdout",
     "output_type": "stream",
     "text": [
      "0017.png\n"
     ]
    },
    {
     "name": "stderr",
     "output_type": "stream",
     "text": [
      "/home/sh38/anaconda3/envs/proGAN_tf/lib/python3.6/site-packages/ipykernel_launcher.py:28: UserWarning: /home/sh38/segmentation_models/phase_cells/data/cell_cycle_down2/train_masks/0017.png is a low contrast image\n"
     ]
    },
    {
     "name": "stdout",
     "output_type": "stream",
     "text": [
      "0798.png\n"
     ]
    },
    {
     "name": "stderr",
     "output_type": "stream",
     "text": [
      "/home/sh38/anaconda3/envs/proGAN_tf/lib/python3.6/site-packages/ipykernel_launcher.py:28: UserWarning: /home/sh38/segmentation_models/phase_cells/data/cell_cycle_down2/train_masks/0798.png is a low contrast image\n"
     ]
    },
    {
     "name": "stdout",
     "output_type": "stream",
     "text": [
      "0583.png\n"
     ]
    },
    {
     "name": "stderr",
     "output_type": "stream",
     "text": [
      "/home/sh38/anaconda3/envs/proGAN_tf/lib/python3.6/site-packages/ipykernel_launcher.py:28: UserWarning: /home/sh38/segmentation_models/phase_cells/data/cell_cycle_down2/train_masks/0583.png is a low contrast image\n"
     ]
    },
    {
     "name": "stdout",
     "output_type": "stream",
     "text": [
      "0271.png\n"
     ]
    },
    {
     "name": "stderr",
     "output_type": "stream",
     "text": [
      "/home/sh38/anaconda3/envs/proGAN_tf/lib/python3.6/site-packages/ipykernel_launcher.py:28: UserWarning: /home/sh38/segmentation_models/phase_cells/data/cell_cycle_down2/train_masks/0271.png is a low contrast image\n"
     ]
    },
    {
     "name": "stdout",
     "output_type": "stream",
     "text": [
      "0213.png\n"
     ]
    },
    {
     "name": "stderr",
     "output_type": "stream",
     "text": [
      "/home/sh38/anaconda3/envs/proGAN_tf/lib/python3.6/site-packages/ipykernel_launcher.py:28: UserWarning: /home/sh38/segmentation_models/phase_cells/data/cell_cycle_down2/train_masks/0213.png is a low contrast image\n"
     ]
    },
    {
     "name": "stdout",
     "output_type": "stream",
     "text": [
      "0687.png\n"
     ]
    },
    {
     "name": "stderr",
     "output_type": "stream",
     "text": [
      "/home/sh38/anaconda3/envs/proGAN_tf/lib/python3.6/site-packages/ipykernel_launcher.py:28: UserWarning: /home/sh38/segmentation_models/phase_cells/data/cell_cycle_down2/train_masks/0687.png is a low contrast image\n"
     ]
    },
    {
     "name": "stdout",
     "output_type": "stream",
     "text": [
      "0547.png\n"
     ]
    },
    {
     "name": "stderr",
     "output_type": "stream",
     "text": [
      "/home/sh38/anaconda3/envs/proGAN_tf/lib/python3.6/site-packages/ipykernel_launcher.py:28: UserWarning: /home/sh38/segmentation_models/phase_cells/data/cell_cycle_down2/train_masks/0547.png is a low contrast image\n"
     ]
    },
    {
     "name": "stdout",
     "output_type": "stream",
     "text": [
      "0755.png\n"
     ]
    },
    {
     "name": "stderr",
     "output_type": "stream",
     "text": [
      "/home/sh38/anaconda3/envs/proGAN_tf/lib/python3.6/site-packages/ipykernel_launcher.py:28: UserWarning: /home/sh38/segmentation_models/phase_cells/data/cell_cycle_down2/train_masks/0755.png is a low contrast image\n"
     ]
    },
    {
     "name": "stdout",
     "output_type": "stream",
     "text": [
      "0229.png\n"
     ]
    },
    {
     "name": "stderr",
     "output_type": "stream",
     "text": [
      "/home/sh38/anaconda3/envs/proGAN_tf/lib/python3.6/site-packages/ipykernel_launcher.py:28: UserWarning: /home/sh38/segmentation_models/phase_cells/data/cell_cycle_down2/train_masks/0229.png is a low contrast image\n",
      "/home/sh38/anaconda3/envs/proGAN_tf/lib/python3.6/site-packages/ipykernel_launcher.py:28: UserWarning: /home/sh38/segmentation_models/phase_cells/data/cell_cycle_down2/train_images/0740.png is a low contrast image\n"
     ]
    },
    {
     "name": "stdout",
     "output_type": "stream",
     "text": [
      "0740.png\n"
     ]
    },
    {
     "name": "stderr",
     "output_type": "stream",
     "text": [
      "/home/sh38/anaconda3/envs/proGAN_tf/lib/python3.6/site-packages/ipykernel_launcher.py:28: UserWarning: /home/sh38/segmentation_models/phase_cells/data/cell_cycle_down2/train_masks/0740.png is a low contrast image\n"
     ]
    },
    {
     "name": "stdout",
     "output_type": "stream",
     "text": [
      "0527.png\n"
     ]
    },
    {
     "name": "stderr",
     "output_type": "stream",
     "text": [
      "/home/sh38/anaconda3/envs/proGAN_tf/lib/python3.6/site-packages/ipykernel_launcher.py:28: UserWarning: /home/sh38/segmentation_models/phase_cells/data/cell_cycle_down2/train_masks/0527.png is a low contrast image\n"
     ]
    },
    {
     "name": "stdout",
     "output_type": "stream",
     "text": [
      "0614.png\n"
     ]
    },
    {
     "name": "stderr",
     "output_type": "stream",
     "text": [
      "/home/sh38/anaconda3/envs/proGAN_tf/lib/python3.6/site-packages/ipykernel_launcher.py:28: UserWarning: /home/sh38/segmentation_models/phase_cells/data/cell_cycle_down2/train_masks/0614.png is a low contrast image\n"
     ]
    },
    {
     "name": "stdout",
     "output_type": "stream",
     "text": [
      "0585.png\n"
     ]
    },
    {
     "name": "stderr",
     "output_type": "stream",
     "text": [
      "/home/sh38/anaconda3/envs/proGAN_tf/lib/python3.6/site-packages/ipykernel_launcher.py:28: UserWarning: /home/sh38/segmentation_models/phase_cells/data/cell_cycle_down2/train_masks/0585.png is a low contrast image\n",
      "/home/sh38/anaconda3/envs/proGAN_tf/lib/python3.6/site-packages/ipykernel_launcher.py:28: UserWarning: /home/sh38/segmentation_models/phase_cells/data/cell_cycle_down2/train_images/0334.png is a low contrast image\n"
     ]
    },
    {
     "name": "stdout",
     "output_type": "stream",
     "text": [
      "0334.png\n"
     ]
    },
    {
     "name": "stderr",
     "output_type": "stream",
     "text": [
      "/home/sh38/anaconda3/envs/proGAN_tf/lib/python3.6/site-packages/ipykernel_launcher.py:28: UserWarning: /home/sh38/segmentation_models/phase_cells/data/cell_cycle_down2/train_masks/0334.png is a low contrast image\n"
     ]
    },
    {
     "name": "stdout",
     "output_type": "stream",
     "text": [
      "0563.png\n"
     ]
    },
    {
     "name": "stderr",
     "output_type": "stream",
     "text": [
      "/home/sh38/anaconda3/envs/proGAN_tf/lib/python3.6/site-packages/ipykernel_launcher.py:28: UserWarning: /home/sh38/segmentation_models/phase_cells/data/cell_cycle_down2/train_masks/0563.png is a low contrast image\n"
     ]
    },
    {
     "name": "stdout",
     "output_type": "stream",
     "text": [
      "0644.png\n"
     ]
    },
    {
     "name": "stderr",
     "output_type": "stream",
     "text": [
      "/home/sh38/anaconda3/envs/proGAN_tf/lib/python3.6/site-packages/ipykernel_launcher.py:28: UserWarning: /home/sh38/segmentation_models/phase_cells/data/cell_cycle_down2/train_masks/0644.png is a low contrast image\n"
     ]
    },
    {
     "name": "stdout",
     "output_type": "stream",
     "text": [
      "0868.png\n"
     ]
    },
    {
     "name": "stderr",
     "output_type": "stream",
     "text": [
      "/home/sh38/anaconda3/envs/proGAN_tf/lib/python3.6/site-packages/ipykernel_launcher.py:28: UserWarning: /home/sh38/segmentation_models/phase_cells/data/cell_cycle_down2/train_masks/0868.png is a low contrast image\n"
     ]
    },
    {
     "name": "stdout",
     "output_type": "stream",
     "text": [
      "0222.png\n"
     ]
    },
    {
     "name": "stderr",
     "output_type": "stream",
     "text": [
      "/home/sh38/anaconda3/envs/proGAN_tf/lib/python3.6/site-packages/ipykernel_launcher.py:28: UserWarning: /home/sh38/segmentation_models/phase_cells/data/cell_cycle_down2/train_masks/0222.png is a low contrast image\n"
     ]
    },
    {
     "name": "stdout",
     "output_type": "stream",
     "text": [
      "0658.png\n"
     ]
    },
    {
     "name": "stderr",
     "output_type": "stream",
     "text": [
      "/home/sh38/anaconda3/envs/proGAN_tf/lib/python3.6/site-packages/ipykernel_launcher.py:28: UserWarning: /home/sh38/segmentation_models/phase_cells/data/cell_cycle_down2/train_masks/0658.png is a low contrast image\n"
     ]
    },
    {
     "name": "stdout",
     "output_type": "stream",
     "text": [
      "0349.png\n"
     ]
    },
    {
     "name": "stderr",
     "output_type": "stream",
     "text": [
      "/home/sh38/anaconda3/envs/proGAN_tf/lib/python3.6/site-packages/ipykernel_launcher.py:28: UserWarning: /home/sh38/segmentation_models/phase_cells/data/cell_cycle_down2/train_masks/0349.png is a low contrast image\n",
      "/home/sh38/anaconda3/envs/proGAN_tf/lib/python3.6/site-packages/ipykernel_launcher.py:28: UserWarning: /home/sh38/segmentation_models/phase_cells/data/cell_cycle_down2/train_images/0754.png is a low contrast image\n"
     ]
    },
    {
     "name": "stdout",
     "output_type": "stream",
     "text": [
      "0754.png\n"
     ]
    },
    {
     "name": "stderr",
     "output_type": "stream",
     "text": [
      "/home/sh38/anaconda3/envs/proGAN_tf/lib/python3.6/site-packages/ipykernel_launcher.py:28: UserWarning: /home/sh38/segmentation_models/phase_cells/data/cell_cycle_down2/train_masks/0754.png is a low contrast image\n"
     ]
    },
    {
     "name": "stdout",
     "output_type": "stream",
     "text": [
      "0846.png\n"
     ]
    },
    {
     "name": "stderr",
     "output_type": "stream",
     "text": [
      "/home/sh38/anaconda3/envs/proGAN_tf/lib/python3.6/site-packages/ipykernel_launcher.py:28: UserWarning: /home/sh38/segmentation_models/phase_cells/data/cell_cycle_down2/train_masks/0846.png is a low contrast image\n"
     ]
    },
    {
     "name": "stdout",
     "output_type": "stream",
     "text": [
      "0449.png\n"
     ]
    },
    {
     "name": "stderr",
     "output_type": "stream",
     "text": [
      "/home/sh38/anaconda3/envs/proGAN_tf/lib/python3.6/site-packages/ipykernel_launcher.py:28: UserWarning: /home/sh38/segmentation_models/phase_cells/data/cell_cycle_down2/train_masks/0449.png is a low contrast image\n"
     ]
    },
    {
     "name": "stdout",
     "output_type": "stream",
     "text": [
      "0571.png\n"
     ]
    },
    {
     "name": "stderr",
     "output_type": "stream",
     "text": [
      "/home/sh38/anaconda3/envs/proGAN_tf/lib/python3.6/site-packages/ipykernel_launcher.py:28: UserWarning: /home/sh38/segmentation_models/phase_cells/data/cell_cycle_down2/train_masks/0571.png is a low contrast image\n"
     ]
    },
    {
     "name": "stdout",
     "output_type": "stream",
     "text": [
      "0630.png\n"
     ]
    },
    {
     "name": "stderr",
     "output_type": "stream",
     "text": [
      "/home/sh38/anaconda3/envs/proGAN_tf/lib/python3.6/site-packages/ipykernel_launcher.py:28: UserWarning: /home/sh38/segmentation_models/phase_cells/data/cell_cycle_down2/train_masks/0630.png is a low contrast image\n",
      "/home/sh38/anaconda3/envs/proGAN_tf/lib/python3.6/site-packages/ipykernel_launcher.py:28: UserWarning: /home/sh38/segmentation_models/phase_cells/data/cell_cycle_down2/train_images/0767.png is a low contrast image\n"
     ]
    },
    {
     "name": "stdout",
     "output_type": "stream",
     "text": [
      "0767.png\n"
     ]
    },
    {
     "name": "stderr",
     "output_type": "stream",
     "text": [
      "/home/sh38/anaconda3/envs/proGAN_tf/lib/python3.6/site-packages/ipykernel_launcher.py:28: UserWarning: /home/sh38/segmentation_models/phase_cells/data/cell_cycle_down2/train_masks/0767.png is a low contrast image\n"
     ]
    },
    {
     "name": "stdout",
     "output_type": "stream",
     "text": [
      "0714.png\n"
     ]
    },
    {
     "name": "stderr",
     "output_type": "stream",
     "text": [
      "/home/sh38/anaconda3/envs/proGAN_tf/lib/python3.6/site-packages/ipykernel_launcher.py:28: UserWarning: /home/sh38/segmentation_models/phase_cells/data/cell_cycle_down2/train_masks/0714.png is a low contrast image\n"
     ]
    },
    {
     "name": "stdout",
     "output_type": "stream",
     "text": [
      "0219.png\n"
     ]
    },
    {
     "name": "stderr",
     "output_type": "stream",
     "text": [
      "/home/sh38/anaconda3/envs/proGAN_tf/lib/python3.6/site-packages/ipykernel_launcher.py:28: UserWarning: /home/sh38/segmentation_models/phase_cells/data/cell_cycle_down2/train_masks/0219.png is a low contrast image\n"
     ]
    },
    {
     "name": "stdout",
     "output_type": "stream",
     "text": [
      "0021.png\n"
     ]
    },
    {
     "name": "stderr",
     "output_type": "stream",
     "text": [
      "/home/sh38/anaconda3/envs/proGAN_tf/lib/python3.6/site-packages/ipykernel_launcher.py:28: UserWarning: /home/sh38/segmentation_models/phase_cells/data/cell_cycle_down2/train_masks/0021.png is a low contrast image\n"
     ]
    },
    {
     "name": "stdout",
     "output_type": "stream",
     "text": [
      "0850.png\n"
     ]
    },
    {
     "name": "stderr",
     "output_type": "stream",
     "text": [
      "/home/sh38/anaconda3/envs/proGAN_tf/lib/python3.6/site-packages/ipykernel_launcher.py:28: UserWarning: /home/sh38/segmentation_models/phase_cells/data/cell_cycle_down2/train_masks/0850.png is a low contrast image\n"
     ]
    },
    {
     "name": "stdout",
     "output_type": "stream",
     "text": [
      "0197.png\n"
     ]
    },
    {
     "name": "stderr",
     "output_type": "stream",
     "text": [
      "/home/sh38/anaconda3/envs/proGAN_tf/lib/python3.6/site-packages/ipykernel_launcher.py:28: UserWarning: /home/sh38/segmentation_models/phase_cells/data/cell_cycle_down2/train_masks/0197.png is a low contrast image\n",
      "/home/sh38/anaconda3/envs/proGAN_tf/lib/python3.6/site-packages/ipykernel_launcher.py:28: UserWarning: /home/sh38/segmentation_models/phase_cells/data/cell_cycle_down2/train_images/0306.png is a low contrast image\n"
     ]
    },
    {
     "name": "stdout",
     "output_type": "stream",
     "text": [
      "0306.png\n"
     ]
    },
    {
     "name": "stderr",
     "output_type": "stream",
     "text": [
      "/home/sh38/anaconda3/envs/proGAN_tf/lib/python3.6/site-packages/ipykernel_launcher.py:28: UserWarning: /home/sh38/segmentation_models/phase_cells/data/cell_cycle_down2/train_masks/0306.png is a low contrast image\n"
     ]
    },
    {
     "name": "stdout",
     "output_type": "stream",
     "text": [
      "0722.png\n"
     ]
    },
    {
     "name": "stderr",
     "output_type": "stream",
     "text": [
      "/home/sh38/anaconda3/envs/proGAN_tf/lib/python3.6/site-packages/ipykernel_launcher.py:28: UserWarning: /home/sh38/segmentation_models/phase_cells/data/cell_cycle_down2/train_masks/0722.png is a low contrast image\n"
     ]
    },
    {
     "name": "stdout",
     "output_type": "stream",
     "text": [
      "0423.png\n"
     ]
    },
    {
     "name": "stderr",
     "output_type": "stream",
     "text": [
      "/home/sh38/anaconda3/envs/proGAN_tf/lib/python3.6/site-packages/ipykernel_launcher.py:28: UserWarning: /home/sh38/segmentation_models/phase_cells/data/cell_cycle_down2/train_masks/0423.png is a low contrast image\n"
     ]
    },
    {
     "name": "stdout",
     "output_type": "stream",
     "text": [
      "0196.png\n"
     ]
    },
    {
     "name": "stderr",
     "output_type": "stream",
     "text": [
      "/home/sh38/anaconda3/envs/proGAN_tf/lib/python3.6/site-packages/ipykernel_launcher.py:28: UserWarning: /home/sh38/segmentation_models/phase_cells/data/cell_cycle_down2/train_masks/0196.png is a low contrast image\n"
     ]
    },
    {
     "name": "stdout",
     "output_type": "stream",
     "text": [
      "0856.png\n"
     ]
    },
    {
     "name": "stderr",
     "output_type": "stream",
     "text": [
      "/home/sh38/anaconda3/envs/proGAN_tf/lib/python3.6/site-packages/ipykernel_launcher.py:28: UserWarning: /home/sh38/segmentation_models/phase_cells/data/cell_cycle_down2/train_masks/0856.png is a low contrast image\n",
      "/home/sh38/anaconda3/envs/proGAN_tf/lib/python3.6/site-packages/ipykernel_launcher.py:28: UserWarning: /home/sh38/segmentation_models/phase_cells/data/cell_cycle_down2/train_images/0835.png is a low contrast image\n"
     ]
    },
    {
     "name": "stdout",
     "output_type": "stream",
     "text": [
      "0835.png\n"
     ]
    },
    {
     "name": "stderr",
     "output_type": "stream",
     "text": [
      "/home/sh38/anaconda3/envs/proGAN_tf/lib/python3.6/site-packages/ipykernel_launcher.py:28: UserWarning: /home/sh38/segmentation_models/phase_cells/data/cell_cycle_down2/train_masks/0835.png is a low contrast image\n"
     ]
    },
    {
     "name": "stdout",
     "output_type": "stream",
     "text": [
      "0370.png\n"
     ]
    },
    {
     "name": "stderr",
     "output_type": "stream",
     "text": [
      "/home/sh38/anaconda3/envs/proGAN_tf/lib/python3.6/site-packages/ipykernel_launcher.py:28: UserWarning: /home/sh38/segmentation_models/phase_cells/data/cell_cycle_down2/train_masks/0370.png is a low contrast image\n",
      "/home/sh38/anaconda3/envs/proGAN_tf/lib/python3.6/site-packages/ipykernel_launcher.py:28: UserWarning: /home/sh38/segmentation_models/phase_cells/data/cell_cycle_down2/train_images/0397.png is a low contrast image\n"
     ]
    },
    {
     "name": "stdout",
     "output_type": "stream",
     "text": [
      "0397.png\n"
     ]
    },
    {
     "name": "stderr",
     "output_type": "stream",
     "text": [
      "/home/sh38/anaconda3/envs/proGAN_tf/lib/python3.6/site-packages/ipykernel_launcher.py:28: UserWarning: /home/sh38/segmentation_models/phase_cells/data/cell_cycle_down2/train_masks/0397.png is a low contrast image\n"
     ]
    },
    {
     "name": "stdout",
     "output_type": "stream",
     "text": [
      "0692.png\n"
     ]
    },
    {
     "name": "stderr",
     "output_type": "stream",
     "text": [
      "/home/sh38/anaconda3/envs/proGAN_tf/lib/python3.6/site-packages/ipykernel_launcher.py:28: UserWarning: /home/sh38/segmentation_models/phase_cells/data/cell_cycle_down2/train_masks/0692.png is a low contrast image\n"
     ]
    },
    {
     "name": "stdout",
     "output_type": "stream",
     "text": [
      "0662.png\n"
     ]
    },
    {
     "name": "stderr",
     "output_type": "stream",
     "text": [
      "/home/sh38/anaconda3/envs/proGAN_tf/lib/python3.6/site-packages/ipykernel_launcher.py:28: UserWarning: /home/sh38/segmentation_models/phase_cells/data/cell_cycle_down2/train_masks/0662.png is a low contrast image\n"
     ]
    },
    {
     "name": "stdout",
     "output_type": "stream",
     "text": [
      "0410.png\n"
     ]
    },
    {
     "name": "stderr",
     "output_type": "stream",
     "text": [
      "/home/sh38/anaconda3/envs/proGAN_tf/lib/python3.6/site-packages/ipykernel_launcher.py:28: UserWarning: /home/sh38/segmentation_models/phase_cells/data/cell_cycle_down2/train_masks/0410.png is a low contrast image\n"
     ]
    },
    {
     "name": "stdout",
     "output_type": "stream",
     "text": [
      "0673.png\n"
     ]
    },
    {
     "name": "stderr",
     "output_type": "stream",
     "text": [
      "/home/sh38/anaconda3/envs/proGAN_tf/lib/python3.6/site-packages/ipykernel_launcher.py:28: UserWarning: /home/sh38/segmentation_models/phase_cells/data/cell_cycle_down2/train_masks/0673.png is a low contrast image\n"
     ]
    },
    {
     "name": "stdout",
     "output_type": "stream",
     "text": [
      "0386.png\n"
     ]
    },
    {
     "name": "stderr",
     "output_type": "stream",
     "text": [
      "/home/sh38/anaconda3/envs/proGAN_tf/lib/python3.6/site-packages/ipykernel_launcher.py:28: UserWarning: /home/sh38/segmentation_models/phase_cells/data/cell_cycle_down2/train_masks/0386.png is a low contrast image\n"
     ]
    },
    {
     "name": "stdout",
     "output_type": "stream",
     "text": [
      "0710.png\n"
     ]
    },
    {
     "name": "stderr",
     "output_type": "stream",
     "text": [
      "/home/sh38/anaconda3/envs/proGAN_tf/lib/python3.6/site-packages/ipykernel_launcher.py:28: UserWarning: /home/sh38/segmentation_models/phase_cells/data/cell_cycle_down2/train_masks/0710.png is a low contrast image\n"
     ]
    },
    {
     "name": "stdout",
     "output_type": "stream",
     "text": [
      "0307.png\n"
     ]
    },
    {
     "name": "stderr",
     "output_type": "stream",
     "text": [
      "/home/sh38/anaconda3/envs/proGAN_tf/lib/python3.6/site-packages/ipykernel_launcher.py:28: UserWarning: /home/sh38/segmentation_models/phase_cells/data/cell_cycle_down2/train_masks/0307.png is a low contrast image\n"
     ]
    },
    {
     "name": "stdout",
     "output_type": "stream",
     "text": [
      "0839.png\n"
     ]
    },
    {
     "name": "stderr",
     "output_type": "stream",
     "text": [
      "/home/sh38/anaconda3/envs/proGAN_tf/lib/python3.6/site-packages/ipykernel_launcher.py:28: UserWarning: /home/sh38/segmentation_models/phase_cells/data/cell_cycle_down2/train_masks/0839.png is a low contrast image\n"
     ]
    },
    {
     "name": "stdout",
     "output_type": "stream",
     "text": [
      "0259.png\n"
     ]
    },
    {
     "name": "stderr",
     "output_type": "stream",
     "text": [
      "/home/sh38/anaconda3/envs/proGAN_tf/lib/python3.6/site-packages/ipykernel_launcher.py:28: UserWarning: /home/sh38/segmentation_models/phase_cells/data/cell_cycle_down2/train_masks/0259.png is a low contrast image\n",
      "/home/sh38/anaconda3/envs/proGAN_tf/lib/python3.6/site-packages/ipykernel_launcher.py:28: UserWarning: /home/sh38/segmentation_models/phase_cells/data/cell_cycle_down2/train_images/0138.png is a low contrast image\n"
     ]
    },
    {
     "name": "stdout",
     "output_type": "stream",
     "text": [
      "0138.png\n"
     ]
    },
    {
     "name": "stderr",
     "output_type": "stream",
     "text": [
      "/home/sh38/anaconda3/envs/proGAN_tf/lib/python3.6/site-packages/ipykernel_launcher.py:28: UserWarning: /home/sh38/segmentation_models/phase_cells/data/cell_cycle_down2/train_masks/0138.png is a low contrast image\n"
     ]
    },
    {
     "name": "stdout",
     "output_type": "stream",
     "text": [
      "0625.png\n"
     ]
    },
    {
     "name": "stderr",
     "output_type": "stream",
     "text": [
      "/home/sh38/anaconda3/envs/proGAN_tf/lib/python3.6/site-packages/ipykernel_launcher.py:28: UserWarning: /home/sh38/segmentation_models/phase_cells/data/cell_cycle_down2/train_masks/0625.png is a low contrast image\n"
     ]
    },
    {
     "name": "stdout",
     "output_type": "stream",
     "text": [
      "0092.png\n"
     ]
    },
    {
     "name": "stderr",
     "output_type": "stream",
     "text": [
      "/home/sh38/anaconda3/envs/proGAN_tf/lib/python3.6/site-packages/ipykernel_launcher.py:28: UserWarning: /home/sh38/segmentation_models/phase_cells/data/cell_cycle_down2/train_masks/0092.png is a low contrast image\n"
     ]
    },
    {
     "name": "stdout",
     "output_type": "stream",
     "text": [
      "0584.png\n"
     ]
    },
    {
     "name": "stderr",
     "output_type": "stream",
     "text": [
      "/home/sh38/anaconda3/envs/proGAN_tf/lib/python3.6/site-packages/ipykernel_launcher.py:28: UserWarning: /home/sh38/segmentation_models/phase_cells/data/cell_cycle_down2/train_masks/0584.png is a low contrast image\n"
     ]
    },
    {
     "name": "stdout",
     "output_type": "stream",
     "text": [
      "0533.png\n"
     ]
    },
    {
     "name": "stderr",
     "output_type": "stream",
     "text": [
      "/home/sh38/anaconda3/envs/proGAN_tf/lib/python3.6/site-packages/ipykernel_launcher.py:28: UserWarning: /home/sh38/segmentation_models/phase_cells/data/cell_cycle_down2/train_masks/0533.png is a low contrast image\n"
     ]
    },
    {
     "name": "stdout",
     "output_type": "stream",
     "text": [
      "0385.png\n"
     ]
    },
    {
     "name": "stderr",
     "output_type": "stream",
     "text": [
      "/home/sh38/anaconda3/envs/proGAN_tf/lib/python3.6/site-packages/ipykernel_launcher.py:28: UserWarning: /home/sh38/segmentation_models/phase_cells/data/cell_cycle_down2/train_masks/0385.png is a low contrast image\n"
     ]
    },
    {
     "name": "stdout",
     "output_type": "stream",
     "text": [
      "0107.png\n"
     ]
    },
    {
     "name": "stderr",
     "output_type": "stream",
     "text": [
      "/home/sh38/anaconda3/envs/proGAN_tf/lib/python3.6/site-packages/ipykernel_launcher.py:28: UserWarning: /home/sh38/segmentation_models/phase_cells/data/cell_cycle_down2/train_masks/0107.png is a low contrast image\n"
     ]
    },
    {
     "name": "stdout",
     "output_type": "stream",
     "text": [
      "0830.png\n"
     ]
    },
    {
     "name": "stderr",
     "output_type": "stream",
     "text": [
      "/home/sh38/anaconda3/envs/proGAN_tf/lib/python3.6/site-packages/ipykernel_launcher.py:28: UserWarning: /home/sh38/segmentation_models/phase_cells/data/cell_cycle_down2/train_masks/0830.png is a low contrast image\n"
     ]
    },
    {
     "name": "stdout",
     "output_type": "stream",
     "text": [
      "0239.png\n"
     ]
    },
    {
     "name": "stderr",
     "output_type": "stream",
     "text": [
      "/home/sh38/anaconda3/envs/proGAN_tf/lib/python3.6/site-packages/ipykernel_launcher.py:28: UserWarning: /home/sh38/segmentation_models/phase_cells/data/cell_cycle_down2/train_masks/0239.png is a low contrast image\n"
     ]
    },
    {
     "name": "stdout",
     "output_type": "stream",
     "text": [
      "0415.png\n"
     ]
    },
    {
     "name": "stderr",
     "output_type": "stream",
     "text": [
      "/home/sh38/anaconda3/envs/proGAN_tf/lib/python3.6/site-packages/ipykernel_launcher.py:28: UserWarning: /home/sh38/segmentation_models/phase_cells/data/cell_cycle_down2/train_masks/0415.png is a low contrast image\n",
      "/home/sh38/anaconda3/envs/proGAN_tf/lib/python3.6/site-packages/ipykernel_launcher.py:28: UserWarning: /home/sh38/segmentation_models/phase_cells/data/cell_cycle_down2/train_images/0198.png is a low contrast image\n"
     ]
    },
    {
     "name": "stdout",
     "output_type": "stream",
     "text": [
      "0198.png\n"
     ]
    },
    {
     "name": "stderr",
     "output_type": "stream",
     "text": [
      "/home/sh38/anaconda3/envs/proGAN_tf/lib/python3.6/site-packages/ipykernel_launcher.py:28: UserWarning: /home/sh38/segmentation_models/phase_cells/data/cell_cycle_down2/train_masks/0198.png is a low contrast image\n"
     ]
    },
    {
     "name": "stdout",
     "output_type": "stream",
     "text": [
      "0773.png\n"
     ]
    },
    {
     "name": "stderr",
     "output_type": "stream",
     "text": [
      "/home/sh38/anaconda3/envs/proGAN_tf/lib/python3.6/site-packages/ipykernel_launcher.py:28: UserWarning: /home/sh38/segmentation_models/phase_cells/data/cell_cycle_down2/train_masks/0773.png is a low contrast image\n"
     ]
    },
    {
     "name": "stdout",
     "output_type": "stream",
     "text": [
      "0618.png\n"
     ]
    },
    {
     "name": "stderr",
     "output_type": "stream",
     "text": [
      "/home/sh38/anaconda3/envs/proGAN_tf/lib/python3.6/site-packages/ipykernel_launcher.py:28: UserWarning: /home/sh38/segmentation_models/phase_cells/data/cell_cycle_down2/train_masks/0618.png is a low contrast image\n"
     ]
    },
    {
     "name": "stdout",
     "output_type": "stream",
     "text": [
      "0636.png\n"
     ]
    },
    {
     "name": "stderr",
     "output_type": "stream",
     "text": [
      "/home/sh38/anaconda3/envs/proGAN_tf/lib/python3.6/site-packages/ipykernel_launcher.py:28: UserWarning: /home/sh38/segmentation_models/phase_cells/data/cell_cycle_down2/train_masks/0636.png is a low contrast image\n"
     ]
    },
    {
     "name": "stdout",
     "output_type": "stream",
     "text": [
      "0510.png\n"
     ]
    },
    {
     "name": "stderr",
     "output_type": "stream",
     "text": [
      "/home/sh38/anaconda3/envs/proGAN_tf/lib/python3.6/site-packages/ipykernel_launcher.py:28: UserWarning: /home/sh38/segmentation_models/phase_cells/data/cell_cycle_down2/train_masks/0510.png is a low contrast image\n",
      "/home/sh38/anaconda3/envs/proGAN_tf/lib/python3.6/site-packages/ipykernel_launcher.py:28: UserWarning: /home/sh38/segmentation_models/phase_cells/data/cell_cycle_down2/train_images/0726.png is a low contrast image\n"
     ]
    },
    {
     "name": "stdout",
     "output_type": "stream",
     "text": [
      "0726.png\n"
     ]
    },
    {
     "name": "stderr",
     "output_type": "stream",
     "text": [
      "/home/sh38/anaconda3/envs/proGAN_tf/lib/python3.6/site-packages/ipykernel_launcher.py:28: UserWarning: /home/sh38/segmentation_models/phase_cells/data/cell_cycle_down2/train_masks/0726.png is a low contrast image\n"
     ]
    },
    {
     "name": "stdout",
     "output_type": "stream",
     "text": [
      "0556.png\n"
     ]
    },
    {
     "name": "stderr",
     "output_type": "stream",
     "text": [
      "/home/sh38/anaconda3/envs/proGAN_tf/lib/python3.6/site-packages/ipykernel_launcher.py:28: UserWarning: /home/sh38/segmentation_models/phase_cells/data/cell_cycle_down2/train_masks/0556.png is a low contrast image\n"
     ]
    },
    {
     "name": "stdout",
     "output_type": "stream",
     "text": [
      "0756.png\n"
     ]
    },
    {
     "name": "stderr",
     "output_type": "stream",
     "text": [
      "/home/sh38/anaconda3/envs/proGAN_tf/lib/python3.6/site-packages/ipykernel_launcher.py:28: UserWarning: /home/sh38/segmentation_models/phase_cells/data/cell_cycle_down2/train_masks/0756.png is a low contrast image\n",
      "/home/sh38/anaconda3/envs/proGAN_tf/lib/python3.6/site-packages/ipykernel_launcher.py:28: UserWarning: /home/sh38/segmentation_models/phase_cells/data/cell_cycle_down2/train_images/0852.png is a low contrast image\n"
     ]
    },
    {
     "name": "stdout",
     "output_type": "stream",
     "text": [
      "0852.png\n"
     ]
    },
    {
     "name": "stderr",
     "output_type": "stream",
     "text": [
      "/home/sh38/anaconda3/envs/proGAN_tf/lib/python3.6/site-packages/ipykernel_launcher.py:28: UserWarning: /home/sh38/segmentation_models/phase_cells/data/cell_cycle_down2/train_masks/0852.png is a low contrast image\n"
     ]
    },
    {
     "name": "stdout",
     "output_type": "stream",
     "text": [
      "0318.png\n"
     ]
    },
    {
     "name": "stderr",
     "output_type": "stream",
     "text": [
      "/home/sh38/anaconda3/envs/proGAN_tf/lib/python3.6/site-packages/ipykernel_launcher.py:28: UserWarning: /home/sh38/segmentation_models/phase_cells/data/cell_cycle_down2/train_masks/0318.png is a low contrast image\n"
     ]
    },
    {
     "name": "stdout",
     "output_type": "stream",
     "text": [
      "0866.png\n"
     ]
    },
    {
     "name": "stderr",
     "output_type": "stream",
     "text": [
      "/home/sh38/anaconda3/envs/proGAN_tf/lib/python3.6/site-packages/ipykernel_launcher.py:28: UserWarning: /home/sh38/segmentation_models/phase_cells/data/cell_cycle_down2/train_masks/0866.png is a low contrast image\n"
     ]
    },
    {
     "name": "stdout",
     "output_type": "stream",
     "text": [
      "0602.png\n"
     ]
    },
    {
     "name": "stderr",
     "output_type": "stream",
     "text": [
      "/home/sh38/anaconda3/envs/proGAN_tf/lib/python3.6/site-packages/ipykernel_launcher.py:28: UserWarning: /home/sh38/segmentation_models/phase_cells/data/cell_cycle_down2/train_masks/0602.png is a low contrast image\n"
     ]
    },
    {
     "name": "stdout",
     "output_type": "stream",
     "text": [
      "0063.png\n"
     ]
    },
    {
     "name": "stderr",
     "output_type": "stream",
     "text": [
      "/home/sh38/anaconda3/envs/proGAN_tf/lib/python3.6/site-packages/ipykernel_launcher.py:28: UserWarning: /home/sh38/segmentation_models/phase_cells/data/cell_cycle_down2/train_masks/0063.png is a low contrast image\n"
     ]
    },
    {
     "name": "stdout",
     "output_type": "stream",
     "text": [
      "0735.png\n"
     ]
    },
    {
     "name": "stderr",
     "output_type": "stream",
     "text": [
      "/home/sh38/anaconda3/envs/proGAN_tf/lib/python3.6/site-packages/ipykernel_launcher.py:28: UserWarning: /home/sh38/segmentation_models/phase_cells/data/cell_cycle_down2/train_masks/0735.png is a low contrast image\n",
      "/home/sh38/anaconda3/envs/proGAN_tf/lib/python3.6/site-packages/ipykernel_launcher.py:28: UserWarning: /home/sh38/segmentation_models/phase_cells/data/cell_cycle_down2/train_images/0149.png is a low contrast image\n"
     ]
    },
    {
     "name": "stdout",
     "output_type": "stream",
     "text": [
      "0149.png\n"
     ]
    },
    {
     "name": "stderr",
     "output_type": "stream",
     "text": [
      "/home/sh38/anaconda3/envs/proGAN_tf/lib/python3.6/site-packages/ipykernel_launcher.py:28: UserWarning: /home/sh38/segmentation_models/phase_cells/data/cell_cycle_down2/train_masks/0149.png is a low contrast image\n"
     ]
    },
    {
     "name": "stdout",
     "output_type": "stream",
     "text": [
      "[0 1]\n"
     ]
    },
    {
     "data": {
      "image/png": "[encoded data removed]",
      "text/plain": [
       "<Figure size 720x360 with 2 Axes>"
      ]
     },
     "metadata": {
      "needs_background": "light"
     },
     "output_type": "display_data"
    },
    {
     "data": {
      "image/png": "[encoded data removed]",
      "text/plain": [
       "<Figure size 720x360 with 2 Axes>"
      ]
     },
     "metadata": {
      "needs_background": "light"
     },
     "output_type": "display_data"
    }
   ],
   "source": [
    "def generate_folder(folder):\n",
    "    if not os.path.exists(folder):\n",
    "        os.system('mkdir -p {}'.format(folder))\n",
    "\n",
    "## downsample the training data\n",
    "segmentation_data_folder = '/home/sh38/segmentation_models/phase_cells/data/cell_cycle/'\n",
    "downsample_data_folder = '/home/sh38/segmentation_models/phase_cells/data/cell_cycle_down2/'\n",
    "# train, val, test\n",
    "subset = 'val'\n",
    "generate_folder(downsample_data_folder+subset+'_images')\n",
    "generate_folder(downsample_data_folder+subset+'_masks')\n",
    "images_folder = segmentation_data_folder+'{}_images/'.format(subset)\n",
    "masks_folder = segmentation_data_folder+'{}_masks/'.format(subset)\n",
    "print(images_folder); print(masks_folder)\n",
    "image_files = glob.glob(images_folder+'*.png')\n",
    "\n",
    "for image_file in image_files:\n",
    "    # image_file = image_files[100]\n",
    "    file_name = os.path.basename(image_file)\n",
    "    mask_file = masks_folder+'{}'.format(file_name)\n",
    "    print(file_name)\n",
    "    image = io.imread(image_file); mask = io.imread(mask_file)\n",
    "    img_down = image[::2,::2]; mask_down = mask[::2,::2]\n",
    "    down_images_folder = downsample_data_folder+'{}_images/'.format(subset)\n",
    "    down_masks_folder = downsample_data_folder+'{}_masks/'.format(subset)\n",
    "    down_image_file = down_images_folder+'{}'.format(file_name)\n",
    "    down_mask_file = down_masks_folder+'{}'.format(file_name)\n",
    "    io.imsave(down_image_file, img_down); io.imsave(down_mask_file, mask_down)\n",
    "\n",
    "_, ax = get_ax(1,2,5)\n",
    "ax[0].imshow(img_down); ax[1].imshow(mask_down)\n",
    "_, ax = get_ax(1,2,5)\n",
    "ax[0].imshow(io.imread(down_image_file)); ax[1].imshow(io.imread(down_mask_file))\n",
    "print(np.unique(io.imread(down_mask_file)))"
   ]
  },
  {
   "cell_type": "code",
   "execution_count": null,
   "metadata": {},
   "outputs": [],
   "source": [
    "## downsample the training data\n",
    "segmentation_data_folder = '/home/sh38/segmentation_models/phase_cells/data/cell_cycle/'\n",
    "# train, val, test\n",
    "subset = 'train'\n",
    "images_folder = segmentation_data_folder+'{}_images/'.format(subset)\n",
    "masks_folder = segmentation_data_folder+'{}_masks/'.format(subset)\n",
    "print(images_folder); print(masks_folder)\n",
    "train_image_files = glob.glob(images_folder+'*.png')\n",
    "# for img_folder in train_image_folders:\n",
    "# img_folder = train_image_folders[0]\n",
    "_, ax = get_ax(5,2,5)\n",
    "train_indices = np.random.randint(0, len(train_image_files), 5)\n",
    "for i in range(len(train_indices)):\n",
    "    train_image_file = train_image_files[train_indices[i]]\n",
    "    img_id = os.path.basename(train_image_file)\n",
    "    image_file = images_folder+'{}'.format(img_id); mask_file = masks_folder+'{}'.format(img_id)\n",
    "    ax[i, 0].imshow(io.imread(image_file)); ax[i, 1].imshow(io.imread(mask_file))\n",
    "    mask_image = io.imread(mask_file)\n",
    "    print(type(mask_image))\n",
    "    print(np.unique(mask_image))"
   ]
  }
 ],
 "metadata": {
  "kernelspec": {
   "display_name": "Python 3",
   "language": "python",
   "name": "python3"
  },
  "language_info": {
   "codemirror_mode": {
    "name": "ipython",
    "version": 3
   },
   "file_extension": ".py",
   "mimetype": "text/x-python",
   "name": "python",
   "nbconvert_exporter": "python",
   "pygments_lexer": "ipython3",
   "version": "3.6.10"
  }
 },
 "nbformat": 4,
 "nbformat_minor": 4
}
